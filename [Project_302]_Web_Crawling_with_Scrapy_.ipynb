{
  "nbformat": 4,
  "nbformat_minor": 0,
  "metadata": {
    "colab": {
      "name": "[Project 302] Web Crawling with Scrapy .ipynb",
      "provenance": [],
      "collapsed_sections": [],
      "authorship_tag": "ABX9TyNwxKEyxGYnsMdGC5Eihkor",
      "include_colab_link": true
    },
    "kernelspec": {
      "name": "python3",
      "display_name": "Python 3"
    }
  },
  "cells": [
    {
      "cell_type": "markdown",
      "metadata": {
        "id": "view-in-github",
        "colab_type": "text"
      },
      "source": [
        "<a href=\"https://colab.research.google.com/github/id-shiv/knowledge_base/blob/master/%5BProject_302%5D_Web_Crawling_with_Scrapy_.ipynb\" target=\"_parent\"><img src=\"https://colab.research.google.com/assets/colab-badge.svg\" alt=\"Open In Colab\"/></a>"
      ]
    },
    {
      "cell_type": "markdown",
      "metadata": {
        "id": "vjq6rQ9L_7CW",
        "colab_type": "text"
      },
      "source": [
        "# Scrapy"
      ]
    },
    {
      "cell_type": "markdown",
      "metadata": {
        "id": "tmKT47RczPK9",
        "colab_type": "text"
      },
      "source": [
        "Scrapy is an open source package for python that has modules for web scraping, web crawling and handles multiple request asynchronously.\n",
        "\n",
        "---\n",
        "**Web Crawler**\n",
        "Web crawlers (also known as spiders) helps collect information from a web page and navigates into further urls mentioned in the page for information collection.   \n",
        "Crawls untill all hyperlinks are indexed.\n",
        "Application : \n",
        "* Validate HTML page and find broken hyper-links\n",
        "* Crawl through Web Page\n",
        "---"
      ]
    },
    {
      "cell_type": "markdown",
      "metadata": {
        "id": "OTMC-NXpXpTS",
        "colab_type": "text"
      },
      "source": [
        "![](https://drive.google.com/uc?export=view&id=1K4stjFNSR1p9ucjBOojiALQYK0o90d03)"
      ]
    },
    {
      "cell_type": "markdown",
      "metadata": {
        "id": "GpDo94XzULkg",
        "colab_type": "text"
      },
      "source": [
        "\n",
        "\n",
        "```\n",
        "Restart runtime to run this jupyter notebook\n",
        "```\n",
        "\n"
      ]
    },
    {
      "cell_type": "code",
      "metadata": {
        "id": "MCyQwiFgzCh1",
        "colab_type": "code",
        "colab": {}
      },
      "source": [
        "# pip install scrapy"
      ],
      "execution_count": 0,
      "outputs": []
    },
    {
      "cell_type": "code",
      "metadata": {
        "id": "tIOQWDAR_ZVy",
        "colab_type": "code",
        "colab": {}
      },
      "source": [
        "import scrapy\n",
        "from scrapy.crawler import CrawlerProcess\n",
        "import logging\n",
        "import datetime"
      ],
      "execution_count": 0,
      "outputs": []
    },
    {
      "cell_type": "markdown",
      "metadata": {
        "id": "twLLfHVm_SFy",
        "colab_type": "text"
      },
      "source": [
        "## Crawler"
      ]
    },
    {
      "cell_type": "code",
      "metadata": {
        "id": "BAbl8MgHOjmi",
        "colab_type": "code",
        "outputId": "d7f51e95-9500-4599-d140-3ad999c07b99",
        "colab": {
          "base_uri": "https://localhost:8080/",
          "height": 125
        }
      },
      "source": [
        "class RepositorySpider(scrapy.Spider):\n",
        "    name = \"RepositorySpider\"\n",
        "    output_file = 'repository_files.csv'\n",
        "    start_urls = ['http://downloads.dell.com/catalog/']\n",
        "\n",
        "    custom_settings = {\n",
        "        'LOG_LEVEL': logging.ERROR,\n",
        "        'FEED_FORMAT':'csv',\n",
        "        'FEED_URI': output_file\n",
        "    }\n",
        "      \n",
        "\n",
        "    def parse(self, response):\n",
        "      repository_files = response.xpath('//a/text()').extract()\n",
        "      one_file = ''\n",
        "      for repository_file in repository_files:\n",
        "        yield {'file': repository_file}\n",
        "    print(f'{str(datetime.datetime.now()).split(\".\")[0]} [crawler.print] INFO: Writing to output file {output_file}')\n",
        "\n",
        "process = CrawlerProcess()\n",
        "process.crawl(RepositorySpider)\n",
        "process.start()"
      ],
      "execution_count": 3,
      "outputs": [
        {
          "output_type": "stream",
          "text": [
            "2020-03-02 17:49:15 [scrapy.utils.log] INFO: Scrapy 1.8.0 started (bot: scrapybot)\n",
            "2020-03-02 17:49:15 [scrapy.utils.log] INFO: Versions: lxml 4.2.6.0, libxml2 2.9.8, cssselect 1.1.0, parsel 1.5.2, w3lib 1.21.0, Twisted 19.10.0, Python 3.6.9 (default, Nov  7 2019, 10:44:02) - [GCC 8.3.0], pyOpenSSL 19.1.0 (OpenSSL 1.1.1d  10 Sep 2019), cryptography 2.8, Platform Linux-4.14.137+-x86_64-with-Ubuntu-18.04-bionic\n",
            "2020-03-02 17:49:15 [scrapy.crawler] INFO: Overridden settings: {'FEED_FORMAT': 'csv', 'FEED_URI': 'repository_files.csv', 'LOG_LEVEL': 40}\n"
          ],
          "name": "stderr"
        },
        {
          "output_type": "stream",
          "text": [
            "2020-03-02 17:49:15 [crawler.print] INFO: Writing to output file repository_files.csv\n"
          ],
          "name": "stdout"
        }
      ]
    }
  ]
}