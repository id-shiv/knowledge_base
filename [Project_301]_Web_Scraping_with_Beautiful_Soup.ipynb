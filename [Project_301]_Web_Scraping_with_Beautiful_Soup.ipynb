{
  "nbformat": 4,
  "nbformat_minor": 0,
  "metadata": {
    "colab": {
      "name": "[Project 301] Web Scraping with Beautiful Soup.ipynb",
      "provenance": [],
      "collapsed_sections": [],
      "authorship_tag": "ABX9TyNkiXNFwS0UmoelJxlX3CjN",
      "include_colab_link": true
    },
    "kernelspec": {
      "name": "python3",
      "display_name": "Python 3"
    }
  },
  "cells": [
    {
      "cell_type": "markdown",
      "metadata": {
        "id": "view-in-github",
        "colab_type": "text"
      },
      "source": [
        "<a href=\"https://colab.research.google.com/github/id-shiv/knowledge_base/blob/master/%5BProject_301%5D_Web_Scraping_with_Beautiful_Soup.ipynb\" target=\"_parent\"><img src=\"https://colab.research.google.com/assets/colab-badge.svg\" alt=\"Open In Colab\"/></a>"
      ]
    },
    {
      "cell_type": "markdown",
      "metadata": {
        "id": "fd8frins-Vqt",
        "colab_type": "text"
      },
      "source": [
        "# Libraries"
      ]
    },
    {
      "cell_type": "code",
      "metadata": {
        "id": "7_-FuXv9RRA8",
        "colab_type": "code",
        "colab": {}
      },
      "source": [
        "import bs4\n",
        "from bs4 import BeautifulSoup as soup\n",
        "from urllib.request import urlopen\n",
        "\n",
        "import re\n",
        "import requests"
      ],
      "execution_count": 0,
      "outputs": []
    },
    {
      "cell_type": "markdown",
      "metadata": {
        "id": "bz9RiG4d-YLL",
        "colab_type": "text"
      },
      "source": [
        "# Get HTML Page for processing"
      ]
    },
    {
      "cell_type": "code",
      "metadata": {
        "id": "IooxQpf43bor",
        "colab_type": "code",
        "colab": {}
      },
      "source": [
        "url = 'https://www.dell.com/en-in/work/shop/povw/openmanage-microsoft'"
      ],
      "execution_count": 0,
      "outputs": []
    },
    {
      "cell_type": "code",
      "metadata": {
        "id": "ay6ZvS9W3er2",
        "colab_type": "code",
        "colab": {}
      },
      "source": [
        "web_page = urlopen(url=url)\n",
        "html_page = web_page.read()"
      ],
      "execution_count": 0,
      "outputs": []
    },
    {
      "cell_type": "code",
      "metadata": {
        "id": "TOKYz1d836VP",
        "colab_type": "code",
        "colab": {}
      },
      "source": [
        "page = soup(html_page, 'html.parser')"
      ],
      "execution_count": 0,
      "outputs": []
    },
    {
      "cell_type": "markdown",
      "metadata": {
        "id": "pEUN9C3g4K0Q",
        "colab_type": "text"
      },
      "source": [
        "# Header Text"
      ]
    },
    {
      "cell_type": "code",
      "metadata": {
        "id": "GmC6_URe4OM-",
        "colab_type": "code",
        "outputId": "9ad30625-8e09-4c9c-d8da-a4ccf15596a6",
        "colab": {
          "base_uri": "https://localhost:8080/",
          "height": 34
        }
      },
      "source": [
        "print(page.h1.text)"
      ],
      "execution_count": 69,
      "outputs": [
        {
          "output_type": "stream",
          "text": [
            "Dell EMC OpenManage Integrations for Microsoft System Center\n"
          ],
          "name": "stdout"
        }
      ]
    },
    {
      "cell_type": "markdown",
      "metadata": {
        "id": "iOzsOJCQ4T3D",
        "colab_type": "text"
      },
      "source": [
        "# Paragraph"
      ]
    },
    {
      "cell_type": "code",
      "metadata": {
        "id": "I5TnWSVR4Wug",
        "colab_type": "code",
        "outputId": "6bc8e727-2c3f-4097-e438-8265b459bbf8",
        "colab": {
          "base_uri": "https://localhost:8080/",
          "height": 85
        }
      },
      "source": [
        "parah = page.p.text.strip()\n",
        "parah = re.sub(r'\\n+', '\\n', parah)\n",
        "print(parah)"
      ],
      "execution_count": 70,
      "outputs": [
        {
          "output_type": "stream",
          "text": [
            "Fiscal Year-End Sale is live now! Savings up to ₹24,999, Free Canon Wi-Fi Printer and 10% Cashback.*. *T&C Apply.\r\n",
            "                                            \n",
            "Discover the offers now\n",
            "|Question? Call 1800 425 2057 or Click to Chat\n"
          ],
          "name": "stdout"
        }
      ]
    },
    {
      "cell_type": "markdown",
      "metadata": {
        "id": "Km2K-GOX6AQi",
        "colab_type": "text"
      },
      "source": [
        "# Problems"
      ]
    },
    {
      "cell_type": "markdown",
      "metadata": {
        "id": "DOcLvqlZ6DXp",
        "colab_type": "text"
      },
      "source": [
        "## Get all Software Download links"
      ]
    },
    {
      "cell_type": "code",
      "metadata": {
        "id": "2lZI1h2x6Ibj",
        "colab_type": "code",
        "outputId": "aea0d167-e108-45b8-e78f-63cef12c3374",
        "colab": {
          "base_uri": "https://localhost:8080/",
          "height": 363
        }
      },
      "source": [
        "# Get all sections\n",
        "sections = page.find_all('h2')\n",
        "for section in sections:\n",
        "  if section.text == 'Software Downloads':\n",
        "    sw_downloads = section.find_next('p')\n",
        "    for product in sw_downloads.find_all('a', href=True):\n",
        "      if product.text[0] != '/':\n",
        "        print(f'Product : {product.text}\\nLink : {product[\"href\"].replace(\"//\", \"\").replace(\"www.\", \"\")}')"
      ],
      "execution_count": 71,
      "outputs": [
        {
          "output_type": "stream",
          "text": [
            "Product : OpenManage Integration for Microsoft System Center for System Center Operations Manager - Dell Server Management Pack Suite 7.1\n",
            "Link : dell.com/support/home/us/en/19/Drivers/DriversDetails?driverid=GCVKH\n",
            "Product : OpenManage Integration for Microsoft System Center v7.1.1 for System Center Operations Manager - Dell EMC Server Management Pack Suite 7.1.1 update, service pack for SCOM 2019\n",
            "Link : dell.com/support/home/us/en/19/Drivers/DriversDetails?driverid=xpm43\n",
            "Product : Dell PowerVault MD-Storage Management Pack Suite 6.1\n",
            "Link : dell.com/support/home/us/en/19/Drivers/DriversDetails?driverid=RGN8T\n",
            "Product : Dell EqualLogic Management Pack Suite 6.0\n",
            "Link : dell.com/support/home/us/en/04/Drivers/DriversDetails?driverId=0328N\n",
            "Product : Dell Printer Management Pack 6.0\n",
            "Link : dell.com/support/home/us/en/555/Drivers/DriversDetails?driverId=87YW7\n",
            "Product : Dell Server Deployment Pack Suite 4.1\n",
            "Link : dell.com/support/home/us/en/19/Drivers/DriversDetails?driverid=26WVJ\n",
            "Product : Dell Server Update Catalogs (available here\n",
            "Link : ftp.dell.com/catalog/\n",
            "Product : OpenManage Integration for Microsoft System Center (OMIMSSC) for SCCM/SCVMM is available for evaluation as a 5 Host stand-alone software\n",
            "Link : marketing.dell.com/software-download-DLCISCVMM?newtab=true\n",
            "Product : Dell Server Performance and Resource Optimization (PRO) Management Pack 5.0 (also requires use with SCOM)\n",
            "Link : dell.com/support/home/us/en/04/Drivers/DriversDetails?driverId=0TV2C\n"
          ],
          "name": "stdout"
        }
      ]
    },
    {
      "cell_type": "markdown",
      "metadata": {
        "id": "YcEbIUFeleXI",
        "colab_type": "text"
      },
      "source": [
        "## Get Hyper-links"
      ]
    },
    {
      "cell_type": "code",
      "metadata": {
        "id": "v6FTFTngmb2I",
        "colab_type": "code",
        "colab": {}
      },
      "source": [
        "url = 'https://downloads.dell.com/catalog'"
      ],
      "execution_count": 0,
      "outputs": []
    },
    {
      "cell_type": "code",
      "metadata": {
        "id": "s0rUdGPQliUD",
        "colab_type": "code",
        "colab": {}
      },
      "source": [
        "def protocol(url):\n",
        "    return url.split(':')[0] + ':'\n",
        "\n",
        "def domain_name(url):\n",
        "    try:\n",
        "        domain_results = __sub_domain_name(url).split('.')\n",
        "        return domain_results[-2] + '.' + domain_results[-1]\n",
        "    except:\n",
        "        return None\n",
        "\n",
        "def __sub_domain_name(url):\n",
        "    try:\n",
        "        return urlparse(url).netloc\n",
        "    except:\n",
        "        return None\n",
        "        \n",
        "def get_hyper_links(url):\n",
        "    hyper_links = {}\n",
        "    page_source = requests.get(url)\n",
        "    page_source_text = page_source.text\n",
        "    page = soup(page_source_text, features=\"lxml\")\n",
        "    for link in page.find_all('a'):\n",
        "        text = link.text\n",
        "        href_sub = link.get('href')\n",
        "        if href_sub:\n",
        "            if domain_name(url) != domain_name(href_sub):\n",
        "                href = url + href_sub\n",
        "            else:\n",
        "                href = protocol(url) + href_sub\n",
        "            if text:\n",
        "                text = text.strip()\n",
        "                hyper_links[text] = href\n",
        "            else:\n",
        "                hyper_links['No Link Text'] = href\n",
        "        else:\n",
        "            text = text.strip()\n",
        "            hyper_links[text] = 'No link'\n",
        "    return hyper_links"
      ],
      "execution_count": 0,
      "outputs": []
    },
    {
      "cell_type": "code",
      "metadata": {
        "id": "_aVa8AA-ljoi",
        "colab_type": "code",
        "colab": {
          "base_uri": "https://localhost:8080/",
          "height": 1000
        },
        "outputId": "21b6be5d-7078-4221-c44b-3109b3b4885a"
      },
      "source": [
        "get_hyper_links(url)"
      ],
      "execution_count": 74,
      "outputs": [
        {
          "output_type": "execute_result",
          "data": {
            "text/plain": [
              "{'ASHCI-Catalog.xml.gz': 'https:/catalog/ASHCI-Catalog.xml.gz',\n",
              " 'ASHCI-Catalog.xml.gz.sha512.sign': 'https:/catalog/ASHCI-Catalog.xml.gz.sha512.sign',\n",
              " 'Bundle.xsd': 'https:/catalog/Bundle.xsd',\n",
              " 'Catalog.cab': 'https:/catalog/Catalog.cab',\n",
              " 'Catalog.gz': 'https:/catalog/Catalog.gz',\n",
              " 'Catalog.gz.sha512.sign': 'https:/catalog/Catalog.gz.sha512.sign',\n",
              " 'Catalog.gz.sign': 'https:/catalog/Catalog.gz.sign',\n",
              " 'Catalog.xml.gz': 'https:/catalog/Catalog.xml.gz',\n",
              " 'Catalog.xml.gz.sha512.sign': 'https:/catalog/Catalog.xml.gz.sha512.sign',\n",
              " 'Catalog.xml.gz.sign': 'https:/catalog/Catalog.xml.gz.sign',\n",
              " 'CatalogIndex.gz': 'https:/catalog/CatalogIndex.gz',\n",
              " 'CatalogIndex.gz.sha512.sign': 'https:/catalog/CatalogIndex.gz.sha512.sign',\n",
              " 'CatalogIndex.gz.sign': 'https:/catalog/CatalogIndex.gz.sign',\n",
              " 'CatalogIndexPC.cab': 'https:/catalog/CatalogIndexPC.cab',\n",
              " 'CatalogPC.cab': 'https:/catalog/CatalogPC.cab',\n",
              " 'DRMVersion.tar.gz': 'https:/catalog/DRMVersion.tar.gz',\n",
              " 'DRMVersion.tar.gz.sign': 'https:/catalog/DRMVersion.tar.gz.sign',\n",
              " 'DSIA_Readme.pdf': 'https:/catalog/DSIA_Readme.pdf',\n",
              " 'DSUPlugins.tar': 'https:/catalog/DSUPlugins.tar',\n",
              " 'DataModelCore.xsd': 'https:/catalog/DataModelCore.xsd',\n",
              " 'DellAppCatalogPC.cab': 'https:/catalog/DellAppCatalogPC.cab',\n",
              " 'DellSDPCatalogPC.cab': 'https:/catalog/DellSDPCatalogPC.cab',\n",
              " 'DellSoftwareBundleReport.html': 'https:/catalog/DellSoftwareBundleReport.html',\n",
              " 'DriverPackCatalog.CAB': 'https:/catalog/DriverPackCatalog.CAB',\n",
              " 'DriverPackManifest.xsd': 'https:/catalog/DriverPackManifest.xsd',\n",
              " 'ESXi_Catalog.xml.gz': 'https:/catalog/ESXi_Catalog.xml.gz',\n",
              " 'ESXi_Catalog.xml.gz.sign': 'https:/catalog/ESXi_Catalog.xml.gz.sign',\n",
              " 'ESXi_Catalog.xml.sign': 'https:/catalog/ESXi_Catalog.xml.sign',\n",
              " 'ISVCatalogPC.cab': 'https:/catalog/ISVCatalogPC.cab',\n",
              " 'Inspiron_5587.cab': 'https:/catalog/Inspiron_5587.cab',\n",
              " 'Inventory.xsd': 'https:/catalog/Inventory.xsd',\n",
              " 'Manifest.xsd': 'https:/catalog/Manifest.xsd',\n",
              " 'ManifestIndex.xsd': 'https:/catalog/ManifestIndex.xsd',\n",
              " 'MasterManifest.xsd': 'https:/catalog/MasterManifest.xsd',\n",
              " 'OMSA.XML': 'https:/catalog/OMSA.XML',\n",
              " 'PDKPC_Readme.doc': 'https:/catalog/PDKPC_Readme.doc',\n",
              " 'PDKPC_Readme.pdf': 'https:/catalog/PDKPC_Readme.pdf',\n",
              " 'Package.xsd': 'https:/catalog/Package.xsd',\n",
              " 'Platform': 'https:/catalog/Platform/',\n",
              " 'UpdateAPICatalog.xml.gz': 'https:/catalog/UpdateAPICatalog.xml.gz',\n",
              " 'UpdateAPICatalog.xml.gz.sign': 'https:/catalog/UpdateAPICatalog.xml.gz.sign',\n",
              " 'ValidatedMXstack_Catalog.xml.gz': 'https:/catalog/ValidatedMXstack_Catalog.xml.gz',\n",
              " 'ValidatedMXstack_Catalog.xml.gz.sha512.sign': 'https:/catalog/ValidatedMXstack_Catalog.xml.gz.sha512.sign',\n",
              " 'ValidatedMXstack_Catalog.xml.gz.sign': 'https:/catalog/ValidatedMXstack_Catalog.xml.gz.sign',\n",
              " 'WSSD-Catalog.xml.gz': 'https:/catalog/WSSD-Catalog.xml.gz',\n",
              " 'WSSD-Catalog.xml.gz.sha512.sign': 'https:/catalog/WSSD-Catalog.xml.gz.sha512.sign',\n",
              " 'WinPE10.0-Drivers-A11-K0P94.html': 'https:/catalog/WinPE10.0-Drivers-A11-K0P94.html',\n",
              " 'WinPE10.0-Drivers-A11-K0P94.xml': 'https:/catalog/WinPE10.0-Drivers-A11-K0P94.xml',\n",
              " '[To Parent Directory]': 'https:/',\n",
              " 'clientschema': 'https:/catalog/clientschema/',\n",
              " 'dellbootplugin.tar.gz': 'https:/catalog/dellbootplugin.tar.gz',\n",
              " 'dellbootplugin.tar.gz.sign': 'https:/catalog/dellbootplugin.tar.gz.sign',\n",
              " 'dellsdpcatalog.cab': 'https:/catalog/dellsdpcatalog.cab',\n",
              " 'dellsdpcatalog_readme.pdf': 'https:/catalog/dellsdpcatalog_readme.pdf',\n",
              " 'dellsdpcatalogpc_readme.pdf': 'https:/catalog/dellsdpcatalogpc_readme.pdf',\n",
              " 'driverpackcatalog_readme.pdf': 'https:/catalog/driverpackcatalog_readme.pdf',\n",
              " 'dsia_releasenotes.pdf': 'https:/catalog/dsia_releasenotes.pdf',\n",
              " 'dsiapc_releasenotes.pdf': 'https:/catalog/dsiapc_releasenotes.pdf',\n",
              " 'pdk_readme.doc': 'https:/catalog/pdk_readme.doc',\n",
              " 'pdk_readme.pdf': 'https:/catalog/pdk_readme.pdf',\n",
              " 'schema': 'https:/catalog/schema/',\n",
              " 'web.config': 'https:/catalog/web.config'}"
            ]
          },
          "metadata": {
            "tags": []
          },
          "execution_count": 74
        }
      ]
    }
  ]
}