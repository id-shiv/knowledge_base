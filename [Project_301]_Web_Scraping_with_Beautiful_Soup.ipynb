{
  "nbformat": 4,
  "nbformat_minor": 0,
  "metadata": {
    "colab": {
      "name": "[Project 301] Web Scraping with Beautiful Soup.ipynb",
      "provenance": [],
      "collapsed_sections": [],
      "authorship_tag": "ABX9TyOZmiO+u3hhjwmoKessKD/g",
      "include_colab_link": true
    },
    "kernelspec": {
      "name": "python3",
      "display_name": "Python 3"
    }
  },
  "cells": [
    {
      "cell_type": "markdown",
      "metadata": {
        "id": "view-in-github",
        "colab_type": "text"
      },
      "source": [
        "<a href=\"https://colab.research.google.com/github/id-shiv/knowledge_base/blob/master/%5BProject_301%5D_Web_Scraping_with_Beautiful_Soup.ipynb\" target=\"_parent\"><img src=\"https://colab.research.google.com/assets/colab-badge.svg\" alt=\"Open In Colab\"/></a>"
      ]
    },
    {
      "cell_type": "markdown",
      "metadata": {
        "id": "fd8frins-Vqt",
        "colab_type": "text"
      },
      "source": [
        "# Libraries"
      ]
    },
    {
      "cell_type": "code",
      "metadata": {
        "id": "7_-FuXv9RRA8",
        "colab_type": "code",
        "colab": {}
      },
      "source": [
        "import bs4\n",
        "from bs4 import BeautifulSoup as soup\n",
        "from urllib.request import urlopen\n",
        "\n",
        "import re"
      ],
      "execution_count": 0,
      "outputs": []
    },
    {
      "cell_type": "markdown",
      "metadata": {
        "id": "bz9RiG4d-YLL",
        "colab_type": "text"
      },
      "source": [
        "# Get HTML Page for processing"
      ]
    },
    {
      "cell_type": "code",
      "metadata": {
        "id": "IooxQpf43bor",
        "colab_type": "code",
        "colab": {}
      },
      "source": [
        "url = 'https://www.dell.com/en-in/work/shop/povw/openmanage-microsoft'"
      ],
      "execution_count": 0,
      "outputs": []
    },
    {
      "cell_type": "code",
      "metadata": {
        "id": "ay6ZvS9W3er2",
        "colab_type": "code",
        "colab": {}
      },
      "source": [
        "web_page = urlopen(url=url)\n",
        "html_page = web_page.read()"
      ],
      "execution_count": 0,
      "outputs": []
    },
    {
      "cell_type": "code",
      "metadata": {
        "id": "TOKYz1d836VP",
        "colab_type": "code",
        "colab": {}
      },
      "source": [
        "page = soup(html_page, 'html.parser')"
      ],
      "execution_count": 0,
      "outputs": []
    },
    {
      "cell_type": "markdown",
      "metadata": {
        "id": "pEUN9C3g4K0Q",
        "colab_type": "text"
      },
      "source": [
        "# Header Text"
      ]
    },
    {
      "cell_type": "code",
      "metadata": {
        "id": "GmC6_URe4OM-",
        "colab_type": "code",
        "colab": {
          "base_uri": "https://localhost:8080/",
          "height": 34
        },
        "outputId": "64ef0940-0761-41a6-cde7-dd012c3a01ff"
      },
      "source": [
        "print(page.h1.text)"
      ],
      "execution_count": 72,
      "outputs": [
        {
          "output_type": "stream",
          "text": [
            "Dell EMC OpenManage Integrations for Microsoft System Center\n"
          ],
          "name": "stdout"
        }
      ]
    },
    {
      "cell_type": "markdown",
      "metadata": {
        "id": "iOzsOJCQ4T3D",
        "colab_type": "text"
      },
      "source": [
        "# Paragraph"
      ]
    },
    {
      "cell_type": "code",
      "metadata": {
        "id": "I5TnWSVR4Wug",
        "colab_type": "code",
        "colab": {
          "base_uri": "https://localhost:8080/",
          "height": 85
        },
        "outputId": "ffdfa4ad-ee9f-4fc5-e9bf-322677ae6c0d"
      },
      "source": [
        "parah = page.p.text.strip()\n",
        "parah = re.sub(r'\\n+', '\\n', parah)\n",
        "print(parah)"
      ],
      "execution_count": 73,
      "outputs": [
        {
          "output_type": "stream",
          "text": [
            "Early End Of Financial Year (Early EOFY) Sale is live now! Savings up to ₹24,999 and 10% Cashback.*. *T&C Apply.\r\n",
            "                                            \n",
            "Discover the offers now\n",
            "|Question? Call 1800 425 2057 or Click to Chat\n"
          ],
          "name": "stdout"
        }
      ]
    },
    {
      "cell_type": "markdown",
      "metadata": {
        "id": "Km2K-GOX6AQi",
        "colab_type": "text"
      },
      "source": [
        "# Problems"
      ]
    },
    {
      "cell_type": "markdown",
      "metadata": {
        "id": "DOcLvqlZ6DXp",
        "colab_type": "text"
      },
      "source": [
        "## Get all Software Download links"
      ]
    },
    {
      "cell_type": "code",
      "metadata": {
        "id": "2lZI1h2x6Ibj",
        "colab_type": "code",
        "colab": {
          "base_uri": "https://localhost:8080/",
          "height": 363
        },
        "outputId": "319dee8d-4c97-4113-f784-61ac48794c13"
      },
      "source": [
        "# Get all sections\n",
        "sections = page.find_all('h2')\n",
        "for section in sections:\n",
        "  if section.text == 'Software Downloads':\n",
        "    sw_downloads = section.find_next('p')\n",
        "    for product in sw_downloads.find_all('a', href=True):\n",
        "      if product.text[0] != '/':\n",
        "        print(f'Product : {product.text}\\nLink : {product[\"href\"].replace(\"//\", \"\")}')"
      ],
      "execution_count": 74,
      "outputs": [
        {
          "output_type": "stream",
          "text": [
            "Product : OpenManage Integration for Microsoft System Center for System Center Operations Manager - Dell Server Management Pack Suite 7.1\n",
            "Link : www.dell.com/support/home/us/en/19/Drivers/DriversDetails?driverid=GCVKH\n",
            "Product : OpenManage Integration for Microsoft System Center v7.1.1 for System Center Operations Manager - Dell EMC Server Management Pack Suite 7.1.1 update, service pack for SCOM 2019\n",
            "Link : www.dell.com/support/home/us/en/19/Drivers/DriversDetails?driverid=xpm43\n",
            "Product : Dell PowerVault MD-Storage Management Pack Suite 6.1\n",
            "Link : www.dell.com/support/home/us/en/19/Drivers/DriversDetails?driverid=RGN8T\n",
            "Product : Dell EqualLogic Management Pack Suite 6.0\n",
            "Link : www.dell.com/support/home/us/en/04/Drivers/DriversDetails?driverId=0328N\n",
            "Product : Dell Printer Management Pack 6.0\n",
            "Link : www.dell.com/support/home/us/en/555/Drivers/DriversDetails?driverId=87YW7\n",
            "Product : Dell Server Deployment Pack Suite 4.1\n",
            "Link : www.dell.com/support/home/us/en/19/Drivers/DriversDetails?driverid=26WVJ\n",
            "Product : Dell Server Update Catalogs (available here\n",
            "Link : ftp.dell.com/catalog/\n",
            "Product : OpenManage Integration for Microsoft System Center (OMIMSSC) for SCCM/SCVMM is available for evaluation as a 5 Host stand-alone software\n",
            "Link : marketing.dell.com/software-download-DLCISCVMM?newtab=true\n",
            "Product : Dell Server Performance and Resource Optimization (PRO) Management Pack 5.0 (also requires use with SCOM)\n",
            "Link : www.dell.com/support/home/us/en/04/Drivers/DriversDetails?driverId=0TV2C\n"
          ],
          "name": "stdout"
        }
      ]
    }
  ]
}