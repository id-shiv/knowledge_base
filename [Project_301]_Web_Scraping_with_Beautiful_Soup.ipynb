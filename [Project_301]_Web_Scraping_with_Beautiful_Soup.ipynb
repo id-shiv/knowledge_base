{
  "nbformat": 4,
  "nbformat_minor": 0,
  "metadata": {
    "colab": {
      "name": "[Project 301] Web Scraping with Beautiful Soup.ipynb",
      "provenance": [],
      "collapsed_sections": [
        "DOcLvqlZ6DXp",
        "YcEbIUFeleXI"
      ],
      "toc_visible": true,
      "authorship_tag": "ABX9TyPO3XSjlotqzpAGpPVa5UEJ",
      "include_colab_link": true
    },
    "kernelspec": {
      "name": "python3",
      "display_name": "Python 3"
    }
  },
  "cells": [
    {
      "cell_type": "markdown",
      "metadata": {
        "id": "view-in-github",
        "colab_type": "text"
      },
      "source": [
        "<a href=\"https://colab.research.google.com/github/id-shiv/knowledge_base/blob/master/%5BProject_301%5D_Web_Scraping_with_Beautiful_Soup.ipynb\" target=\"_parent\"><img src=\"https://colab.research.google.com/assets/colab-badge.svg\" alt=\"Open In Colab\"/></a>"
      ]
    },
    {
      "cell_type": "markdown",
      "metadata": {
        "id": "fd8frins-Vqt",
        "colab_type": "text"
      },
      "source": [
        "# Libraries"
      ]
    },
    {
      "cell_type": "code",
      "metadata": {
        "id": "7_-FuXv9RRA8",
        "colab_type": "code",
        "colab": {}
      },
      "source": [
        "import bs4\n",
        "from bs4 import BeautifulSoup as soup\n",
        "from urllib.request import urlopen\n",
        "\n",
        "import re\n",
        "import requests"
      ],
      "execution_count": 0,
      "outputs": []
    },
    {
      "cell_type": "markdown",
      "metadata": {
        "id": "bz9RiG4d-YLL",
        "colab_type": "text"
      },
      "source": [
        "# Get HTML Page for processing"
      ]
    },
    {
      "cell_type": "code",
      "metadata": {
        "id": "IooxQpf43bor",
        "colab_type": "code",
        "colab": {}
      },
      "source": [
        "url = 'https://www.dell.com/en-in/work/shop/povw/openmanage-microsoft'"
      ],
      "execution_count": 0,
      "outputs": []
    },
    {
      "cell_type": "code",
      "metadata": {
        "id": "ay6ZvS9W3er2",
        "colab_type": "code",
        "colab": {}
      },
      "source": [
        "web_page = urlopen(url=url)\n",
        "html_page = web_page.read()"
      ],
      "execution_count": 0,
      "outputs": []
    },
    {
      "cell_type": "code",
      "metadata": {
        "id": "TOKYz1d836VP",
        "colab_type": "code",
        "colab": {}
      },
      "source": [
        "page = soup(html_page, 'html.parser')"
      ],
      "execution_count": 0,
      "outputs": []
    },
    {
      "cell_type": "markdown",
      "metadata": {
        "id": "pEUN9C3g4K0Q",
        "colab_type": "text"
      },
      "source": [
        "# Header Text"
      ]
    },
    {
      "cell_type": "code",
      "metadata": {
        "id": "GmC6_URe4OM-",
        "colab_type": "code",
        "outputId": "bc6bebe0-e95f-46f4-9189-6468949bc0fe",
        "colab": {
          "base_uri": "https://localhost:8080/",
          "height": 34
        }
      },
      "source": [
        "print(page.h1.text)"
      ],
      "execution_count": 6,
      "outputs": [
        {
          "output_type": "stream",
          "text": [
            "Dell EMC OpenManage Integrations for Microsoft System Center\n"
          ],
          "name": "stdout"
        }
      ]
    },
    {
      "cell_type": "markdown",
      "metadata": {
        "id": "iOzsOJCQ4T3D",
        "colab_type": "text"
      },
      "source": [
        "# Paragraph"
      ]
    },
    {
      "cell_type": "code",
      "metadata": {
        "id": "I5TnWSVR4Wug",
        "colab_type": "code",
        "outputId": "4a3c598b-2e68-450b-8b7e-29d2c03ca086",
        "colab": {
          "base_uri": "https://localhost:8080/",
          "height": 125
        }
      },
      "source": [
        "parah = page.p.text.strip()\n",
        "parah = re.sub(r'\\n+', '\\n', parah)\n",
        "print(parah)"
      ],
      "execution_count": 7,
      "outputs": [
        {
          "output_type": "stream",
          "text": [
            "Fiscal Year-End Sale is live now! Savings up to ₹24,999, Free Canon Wi-Fi Printer and 10% Cashback.*. *T&C Apply.\r\n",
            "                                            \n",
            "Discover the offers now\n",
            "|Question? Call 1800 425 2057 or Click to Chat\n"
          ],
          "name": "stdout"
        }
      ]
    },
    {
      "cell_type": "markdown",
      "metadata": {
        "id": "Km2K-GOX6AQi",
        "colab_type": "text"
      },
      "source": [
        "# Problems"
      ]
    },
    {
      "cell_type": "markdown",
      "metadata": {
        "id": "DOcLvqlZ6DXp",
        "colab_type": "text"
      },
      "source": [
        "## Get all Software Download links"
      ]
    },
    {
      "cell_type": "code",
      "metadata": {
        "id": "2lZI1h2x6Ibj",
        "colab_type": "code",
        "outputId": "a7536de3-1cc1-4293-880e-04aa3b009f3f",
        "colab": {
          "base_uri": "https://localhost:8080/",
          "height": 343
        }
      },
      "source": [
        "# Get all sections\n",
        "sections = page.find_all('h2')\n",
        "for section in sections:\n",
        "  if section.text == 'Software Downloads':\n",
        "    sw_downloads = section.find_next('p')\n",
        "    for product in sw_downloads.find_all('a', href=True):\n",
        "      if product.text[0] != '/':\n",
        "        print(f'Product : {product.text}\\nLink : {product[\"href\"].replace(\"//\", \"\").replace(\"www.\", \"\")}')"
      ],
      "execution_count": 8,
      "outputs": [
        {
          "output_type": "stream",
          "text": [
            "Product : OpenManage Integration for Microsoft System Center for System Center Operations Manager - Dell Server Management Pack Suite 7.1\n",
            "Link : dell.com/support/home/us/en/19/Drivers/DriversDetails?driverid=GCVKH\n",
            "Product : OpenManage Integration for Microsoft System Center v7.1.1 for System Center Operations Manager - Dell EMC Server Management Pack Suite 7.1.1 update, service pack for SCOM 2019\n",
            "Link : dell.com/support/home/us/en/19/Drivers/DriversDetails?driverid=xpm43\n",
            "Product : Dell PowerVault MD-Storage Management Pack Suite 6.1\n",
            "Link : dell.com/support/home/us/en/19/Drivers/DriversDetails?driverid=RGN8T\n",
            "Product : Dell EqualLogic Management Pack Suite 6.0\n",
            "Link : dell.com/support/home/us/en/04/Drivers/DriversDetails?driverId=0328N\n",
            "Product : Dell Printer Management Pack 6.0\n",
            "Link : dell.com/support/home/us/en/555/Drivers/DriversDetails?driverId=87YW7\n",
            "Product : Dell Server Deployment Pack Suite 4.1\n",
            "Link : dell.com/support/home/us/en/19/Drivers/DriversDetails?driverid=26WVJ\n",
            "Product : Dell Server Update Catalogs (available here\n",
            "Link : ftp.dell.com/catalog/\n",
            "Product : OpenManage Integration for Microsoft System Center (OMIMSSC) for SCCM/SCVMM is available for evaluation as a 5 Host stand-alone software\n",
            "Link : marketing.dell.com/software-download-DLCISCVMM?newtab=true\n",
            "Product : Dell Server Performance and Resource Optimization (PRO) Management Pack 5.0 (also requires use with SCOM)\n",
            "Link : dell.com/support/home/us/en/04/Drivers/DriversDetails?driverId=0TV2C\n"
          ],
          "name": "stdout"
        }
      ]
    },
    {
      "cell_type": "markdown",
      "metadata": {
        "id": "YcEbIUFeleXI",
        "colab_type": "text"
      },
      "source": [
        "## Get Hyper-links"
      ]
    },
    {
      "cell_type": "code",
      "metadata": {
        "id": "v6FTFTngmb2I",
        "colab_type": "code",
        "colab": {}
      },
      "source": [
        "url = 'https://downloads.dell.com/catalog'"
      ],
      "execution_count": 0,
      "outputs": []
    },
    {
      "cell_type": "code",
      "metadata": {
        "id": "s0rUdGPQliUD",
        "colab_type": "code",
        "colab": {}
      },
      "source": [
        "def protocol(url):\n",
        "    return url.split(':')[0] + ':'\n",
        "\n",
        "def domain_name(url):\n",
        "    try:\n",
        "        domain_results = __sub_domain_name(url).split('.')\n",
        "        return domain_results[-2] + '.' + domain_results[-1]\n",
        "    except:\n",
        "        return None\n",
        "\n",
        "def __sub_domain_name(url):\n",
        "    try:\n",
        "        return urlparse(url).netloc\n",
        "    except:\n",
        "        return None\n",
        "        \n",
        "def get_hyper_links(url):\n",
        "    hyper_links = {}\n",
        "    page_source = requests.get(url)\n",
        "    page_source_text = page_source.text\n",
        "    page = soup(page_source_text, features=\"lxml\")\n",
        "    for link in page.find_all('a'):\n",
        "        text = link.text\n",
        "        href_sub = link.get('href')\n",
        "        if href_sub:\n",
        "            if domain_name(url) != domain_name(href_sub):\n",
        "                href = url + href_sub\n",
        "            else:\n",
        "                href = protocol(url) + href_sub\n",
        "            if text:\n",
        "                text = text.strip()\n",
        "                hyper_links[text] = href\n",
        "            else:\n",
        "                hyper_links['No Link Text'] = href\n",
        "        else:\n",
        "            text = text.strip()\n",
        "            hyper_links[text] = 'No link'\n",
        "    return hyper_links"
      ],
      "execution_count": 0,
      "outputs": []
    },
    {
      "cell_type": "code",
      "metadata": {
        "id": "_aVa8AA-ljoi",
        "colab_type": "code",
        "outputId": "55cb1739-1a71-4614-bc8f-cd59f1bd4333",
        "colab": {
          "base_uri": "https://localhost:8080/",
          "height": 1000
        }
      },
      "source": [
        "get_hyper_links(url)"
      ],
      "execution_count": 11,
      "outputs": [
        {
          "output_type": "execute_result",
          "data": {
            "text/plain": [
              "{'ASHCI-Catalog.xml.gz': 'https:/catalog/ASHCI-Catalog.xml.gz',\n",
              " 'ASHCI-Catalog.xml.gz.sha512.sign': 'https:/catalog/ASHCI-Catalog.xml.gz.sha512.sign',\n",
              " 'Bundle.xsd': 'https:/catalog/Bundle.xsd',\n",
              " 'Catalog.cab': 'https:/catalog/Catalog.cab',\n",
              " 'Catalog.gz': 'https:/catalog/Catalog.gz',\n",
              " 'Catalog.gz.sha512.sign': 'https:/catalog/Catalog.gz.sha512.sign',\n",
              " 'Catalog.gz.sign': 'https:/catalog/Catalog.gz.sign',\n",
              " 'Catalog.xml.gz': 'https:/catalog/Catalog.xml.gz',\n",
              " 'Catalog.xml.gz.sha512.sign': 'https:/catalog/Catalog.xml.gz.sha512.sign',\n",
              " 'Catalog.xml.gz.sign': 'https:/catalog/Catalog.xml.gz.sign',\n",
              " 'CatalogIndex.gz': 'https:/catalog/CatalogIndex.gz',\n",
              " 'CatalogIndex.gz.sha512.sign': 'https:/catalog/CatalogIndex.gz.sha512.sign',\n",
              " 'CatalogIndex.gz.sign': 'https:/catalog/CatalogIndex.gz.sign',\n",
              " 'CatalogIndexPC.cab': 'https:/catalog/CatalogIndexPC.cab',\n",
              " 'CatalogPC.cab': 'https:/catalog/CatalogPC.cab',\n",
              " 'DRMVersion.tar.gz': 'https:/catalog/DRMVersion.tar.gz',\n",
              " 'DRMVersion.tar.gz.sign': 'https:/catalog/DRMVersion.tar.gz.sign',\n",
              " 'DSIA_Readme.pdf': 'https:/catalog/DSIA_Readme.pdf',\n",
              " 'DSUPlugins.tar': 'https:/catalog/DSUPlugins.tar',\n",
              " 'DataModelCore.xsd': 'https:/catalog/DataModelCore.xsd',\n",
              " 'DellAppCatalogPC.cab': 'https:/catalog/DellAppCatalogPC.cab',\n",
              " 'DellSDPCatalogPC.cab': 'https:/catalog/DellSDPCatalogPC.cab',\n",
              " 'DellSoftwareBundleReport.html': 'https:/catalog/DellSoftwareBundleReport.html',\n",
              " 'DriverPackCatalog.CAB': 'https:/catalog/DriverPackCatalog.CAB',\n",
              " 'DriverPackManifest.xsd': 'https:/catalog/DriverPackManifest.xsd',\n",
              " 'ESXi_Catalog.xml.gz': 'https:/catalog/ESXi_Catalog.xml.gz',\n",
              " 'ESXi_Catalog.xml.gz.sign': 'https:/catalog/ESXi_Catalog.xml.gz.sign',\n",
              " 'ESXi_Catalog.xml.sign': 'https:/catalog/ESXi_Catalog.xml.sign',\n",
              " 'ISVCatalogPC.cab': 'https:/catalog/ISVCatalogPC.cab',\n",
              " 'Inspiron_5587.cab': 'https:/catalog/Inspiron_5587.cab',\n",
              " 'Inventory.xsd': 'https:/catalog/Inventory.xsd',\n",
              " 'Manifest.xsd': 'https:/catalog/Manifest.xsd',\n",
              " 'ManifestIndex.xsd': 'https:/catalog/ManifestIndex.xsd',\n",
              " 'MasterManifest.xsd': 'https:/catalog/MasterManifest.xsd',\n",
              " 'OMSA.XML': 'https:/catalog/OMSA.XML',\n",
              " 'PDKPC_Readme.doc': 'https:/catalog/PDKPC_Readme.doc',\n",
              " 'PDKPC_Readme.pdf': 'https:/catalog/PDKPC_Readme.pdf',\n",
              " 'Package.xsd': 'https:/catalog/Package.xsd',\n",
              " 'Platform': 'https:/catalog/Platform/',\n",
              " 'UpdateAPICatalog.xml.gz': 'https:/catalog/UpdateAPICatalog.xml.gz',\n",
              " 'UpdateAPICatalog.xml.gz.sign': 'https:/catalog/UpdateAPICatalog.xml.gz.sign',\n",
              " 'ValidatedMXstack_Catalog.xml.gz': 'https:/catalog/ValidatedMXstack_Catalog.xml.gz',\n",
              " 'ValidatedMXstack_Catalog.xml.gz.sha512.sign': 'https:/catalog/ValidatedMXstack_Catalog.xml.gz.sha512.sign',\n",
              " 'ValidatedMXstack_Catalog.xml.gz.sign': 'https:/catalog/ValidatedMXstack_Catalog.xml.gz.sign',\n",
              " 'WSSD-Catalog.xml.gz': 'https:/catalog/WSSD-Catalog.xml.gz',\n",
              " 'WSSD-Catalog.xml.gz.sha512.sign': 'https:/catalog/WSSD-Catalog.xml.gz.sha512.sign',\n",
              " 'WinPE10.0-Drivers-A11-K0P94.html': 'https:/catalog/WinPE10.0-Drivers-A11-K0P94.html',\n",
              " 'WinPE10.0-Drivers-A11-K0P94.xml': 'https:/catalog/WinPE10.0-Drivers-A11-K0P94.xml',\n",
              " '[To Parent Directory]': 'https:/',\n",
              " 'clientschema': 'https:/catalog/clientschema/',\n",
              " 'dellbootplugin.tar.gz': 'https:/catalog/dellbootplugin.tar.gz',\n",
              " 'dellbootplugin.tar.gz.sign': 'https:/catalog/dellbootplugin.tar.gz.sign',\n",
              " 'dellsdpcatalog.cab': 'https:/catalog/dellsdpcatalog.cab',\n",
              " 'dellsdpcatalog_readme.pdf': 'https:/catalog/dellsdpcatalog_readme.pdf',\n",
              " 'dellsdpcatalogpc_readme.pdf': 'https:/catalog/dellsdpcatalogpc_readme.pdf',\n",
              " 'driverpackcatalog_readme.pdf': 'https:/catalog/driverpackcatalog_readme.pdf',\n",
              " 'dsia_releasenotes.pdf': 'https:/catalog/dsia_releasenotes.pdf',\n",
              " 'dsiapc_releasenotes.pdf': 'https:/catalog/dsiapc_releasenotes.pdf',\n",
              " 'pdk_readme.doc': 'https:/catalog/pdk_readme.doc',\n",
              " 'pdk_readme.pdf': 'https:/catalog/pdk_readme.pdf',\n",
              " 'schema': 'https:/catalog/schema/',\n",
              " 'web.config': 'https:/catalog/web.config'}"
            ]
          },
          "metadata": {
            "tags": []
          },
          "execution_count": 11
        }
      ]
    },
    {
      "cell_type": "markdown",
      "metadata": {
        "id": "EFMkUkT7MzvE",
        "colab_type": "text"
      },
      "source": [
        "## Dell EMC OpenManage Product Checksum"
      ]
    },
    {
      "cell_type": "code",
      "metadata": {
        "id": "RnxGBa6dMtdm",
        "colab_type": "code",
        "colab": {}
      },
      "source": [
        "url = 'https://www.dell.com/support/home/in/en/inbsdt1/drivers/driversdetails?driverid=29wtg'\n",
        "web_page = urlopen(url=url)\n",
        "html_page = web_page.read()\n",
        "page = soup(html_page, 'html.parser')"
      ],
      "execution_count": 0,
      "outputs": []
    },
    {
      "cell_type": "code",
      "metadata": {
        "id": "PuzHSrAUN0EP",
        "colab_type": "code",
        "colab": {
          "base_uri": "https://localhost:8080/",
          "height": 91
        },
        "outputId": "68477bb0-c981-43f3-f15e-7e27e368e79f"
      },
      "source": [
        "file_name = ''\n",
        "\n",
        "containers = page.find_all('div', {'class' : 'my-5'})\n",
        "description_container = page  # set the description element to page to start with\n",
        "for row in containers[0].find_all('div', {'class' : 'row'}):\n",
        "  try:\n",
        "    if row.b.text == 'File Name:':\n",
        "      file_name = row.span.text\n",
        "    if row.b.text == 'Format Description:':\n",
        "      description_container = row\n",
        "  except BaseException as be:\n",
        "    pass\n",
        "\n",
        "checksum = {}\n",
        "for row in description_container.find_all('div', {'class' : 'row'}):\n",
        "  info = row.find_all('div')\n",
        "  checksum[info[0].text.strip().replace(':', '')] = info[1].text.strip()\n",
        "\n",
        "print(file_name)\n",
        "print(checksum)"
      ],
      "execution_count": 34,
      "outputs": [
        {
          "output_type": "stream",
          "text": [
            "Dell_EMC_OpenManage_Integration_MS_WAC_1.0.0_133_A00.zip\n",
            "{'MD5': '07a21475eda29ca618729502992c162d', 'SHA1': '4283d7ddf49eec99b8e960a050b7c3d1fb6edf7e', 'SHA-256': '77ab0418062045050c818d3e02865cf1700842bb14c6a15a514b0a41c297752f'}\n"
          ],
          "name": "stdout"
        }
      ]
    }
  ]
}