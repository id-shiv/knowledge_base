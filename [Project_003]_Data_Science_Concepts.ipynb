{
  "nbformat": 4,
  "nbformat_minor": 0,
  "metadata": {
    "colab": {
      "name": "[Project 003] Data Science Concepts.ipynb",
      "provenance": [],
      "collapsed_sections": [],
      "authorship_tag": "ABX9TyMevDKBfd+U0WnvAx51wSHp",
      "include_colab_link": true
    },
    "kernelspec": {
      "name": "python3",
      "display_name": "Python 3"
    }
  },
  "cells": [
    {
      "cell_type": "markdown",
      "metadata": {
        "id": "view-in-github",
        "colab_type": "text"
      },
      "source": [
        "<a href=\"https://colab.research.google.com/github/id-shiv/knowledge_base/blob/master/%5BProject_003%5D_Data_Science_Concepts.ipynb\" target=\"_parent\"><img src=\"https://colab.research.google.com/assets/colab-badge.svg\" alt=\"Open In Colab\"/></a>"
      ]
    },
    {
      "cell_type": "markdown",
      "metadata": {
        "id": "3w5DoyKR0tXB",
        "colab_type": "text"
      },
      "source": [
        "# Data Science"
      ]
    },
    {
      "cell_type": "markdown",
      "metadata": {
        "id": "gmOqXPgv08mb",
        "colab_type": "text"
      },
      "source": [
        "## Why?"
      ]
    },
    {
      "cell_type": "markdown",
      "metadata": {
        "id": "uHiiZEm51KCj",
        "colab_type": "text"
      },
      "source": [
        "- Huge amount of data generated.\n",
        "- Data could be structured or un-structured.\n",
        "\n",
        "Complex Algorithms (beyond traditional BI tools \\ algorithms) are required to process huge, unstructured, multi-source data."
      ]
    },
    {
      "cell_type": "markdown",
      "metadata": {
        "id": "os5RIAop2NTg",
        "colab_type": "text"
      },
      "source": [
        "## What?"
      ]
    },
    {
      "cell_type": "markdown",
      "metadata": {
        "id": "nzei3-ps2PXI",
        "colab_type": "text"
      },
      "source": [
        "Process of extracting useful information from data using scientific methods.  \n",
        "Scientific methods : Programming + Statistics + Businesss.\n",
        "\n",
        "- Make better decisions"
      ]
    },
    {
      "cell_type": "markdown",
      "metadata": {
        "id": "gGA1B0ja2kp4",
        "colab_type": "text"
      },
      "source": [
        "## Use Case"
      ]
    },
    {
      "cell_type": "markdown",
      "metadata": {
        "id": "vf24w7Nc2mcZ",
        "colab_type": "text"
      },
      "source": [
        "- Business : Retail (Walmart).\n",
        "- Problem : Find relationship between data.  \n",
        "e.g. : What products are liked by customers? (from social media data)"
      ]
    },
    {
      "cell_type": "markdown",
      "metadata": {
        "id": "VKRTOatTpJ6N",
        "colab_type": "text"
      },
      "source": [
        "## Roles"
      ]
    },
    {
      "cell_type": "markdown",
      "metadata": {
        "id": "W928Z_uNpLa7",
        "colab_type": "text"
      },
      "source": [
        "- Data Scientist : \n",
        "> Skills : Business + Mathematics (Statistics) + Technology (Programming).\n",
        "- Data Analyst :\n",
        "> Responsible for visualization, processing.  \n",
        "> Optimization of models.\n",
        "- Data Architect :\n",
        "> Data management blueprinting.\n",
        "- Data Engineers :\n",
        "> Update existing systems.\n",
        "- Staistician :\n",
        "> Creates methodologies, logic for problem solving.\n",
        "- DBA :\n",
        "> Administrator of Databases.\n",
        "- Business Analyst :\n",
        "> Focus on business goals.\n",
        "- Data & Analytics Manager :\n",
        "> Oversee data science operations."
      ]
    }
  ]
}