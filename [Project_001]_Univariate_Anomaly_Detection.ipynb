{
  "nbformat": 4,
  "nbformat_minor": 0,
  "metadata": {
    "colab": {
      "name": "[Project 001] Univariate Anomaly Detection.ipynb",
      "provenance": [],
      "collapsed_sections": [],
      "authorship_tag": "ABX9TyOXjix2L0yqWh/pdwaNkQrK",
      "include_colab_link": true
    },
    "kernelspec": {
      "name": "python3",
      "display_name": "Python 3"
    }
  },
  "cells": [
    {
      "cell_type": "markdown",
      "metadata": {
        "id": "view-in-github",
        "colab_type": "text"
      },
      "source": [
        "<a href=\"https://colab.research.google.com/github/id-shiv/project_notebooks/blob/master/%5BProject_001%5D_Univariate_Anomaly_Detection.ipynb\" target=\"_parent\"><img src=\"https://colab.research.google.com/assets/colab-badge.svg\" alt=\"Open In Colab\"/></a>"
      ]
    },
    {
      "cell_type": "markdown",
      "metadata": {
        "id": "5pHMmqjZpGRO",
        "colab_type": "text"
      },
      "source": [
        "# Anomaly Detection\n",
        "Anomaly or an outlier is data point in a dataset that is distant from other data points"
      ]
    },
    {
      "cell_type": "code",
      "metadata": {
        "id": "64wUNX9bpiAU",
        "colab_type": "code",
        "colab": {}
      },
      "source": [
        "# Import libraries\n",
        "import numpy as np\n",
        "import pandas as pd\n",
        "import matplotlib.pyplot as plt\n",
        "# generate the charts in notebook\n",
        "%matplotlib inline"
      ],
      "execution_count": 0,
      "outputs": []
    },
    {
      "cell_type": "code",
      "metadata": {
        "id": "F3dspzB2n1V5",
        "colab_type": "code",
        "outputId": "24ca3602-fe21-4113-c049-e1bc7644127b",
        "colab": {
          "base_uri": "https://localhost:8080/",
          "height": 204
        }
      },
      "source": [
        "data_set_path = 'https://docs.google.com/spreadsheets/d/e/2PACX-1vR4xPlauQieuG_9EOmOwT15kcXB6kDQpCjx4__hF4K5lPMFrVEbxEx-ruB_Q-aT9e6S1nd8-DNitVFx/pub?output=csv'\n",
        "data = pd.read_csv(data_set_path)\n",
        "print(data)"
      ],
      "execution_count": 0,
      "outputs": [
        {
          "output_type": "stream",
          "text": [
            "   person  age  height  weight\n",
            "0       1   22     4.8      48\n",
            "1       2   24     5.8      58\n",
            "2       3   26     5.2      59\n",
            "3       4   28     6.1      72\n",
            "4       5   29     8.4     102\n",
            "5       6   30     5.9      81\n",
            "6       7   31     5.8      79\n",
            "7       8   32     5.4      71\n",
            "8       9   31     5.7      84\n",
            "9      10   33     5.1      68\n"
          ],
          "name": "stdout"
        }
      ]
    },
    {
      "cell_type": "markdown",
      "metadata": {
        "id": "OxOKS9mqqCp4",
        "colab_type": "text"
      },
      "source": [
        "## Calculate Z-score\n",
        "*Z_score = (Observations - Mean) / Standard_Deviation*"
      ]
    },
    {
      "cell_type": "code",
      "metadata": {
        "id": "Ja6OGFfNqXhv",
        "colab_type": "code",
        "colab": {}
      },
      "source": [
        "def get_outliers(data, threshold=2):\n",
        "  outliers = []\n",
        "\n",
        "  mean = np.mean(data)\n",
        "  std =np.std(data)\n",
        "  \n",
        "  \n",
        "  for i in data:\n",
        "      z_score= (i - mean)/std \n",
        "      if np.abs(z_score) > threshold:\n",
        "          outliers.append(i)\n",
        "  return outliers"
      ],
      "execution_count": 0,
      "outputs": []
    },
    {
      "cell_type": "code",
      "metadata": {
        "id": "PPGrDDm_sH6_",
        "colab_type": "code",
        "outputId": "adfaad02-abde-4423-fcb7-e41c81aefcb0",
        "colab": {
          "base_uri": "https://localhost:8080/",
          "height": 34
        }
      },
      "source": [
        "# Get the outliers in height\n",
        "outliers = get_outliers(data['height'])\n",
        "print(outliers)"
      ],
      "execution_count": 0,
      "outputs": [
        {
          "output_type": "stream",
          "text": [
            "[8.4]\n"
          ],
          "name": "stdout"
        }
      ]
    },
    {
      "cell_type": "code",
      "metadata": {
        "id": "atvd5rmWt26V",
        "colab_type": "code",
        "outputId": "04450ce4-276a-4b59-fe5e-ae82be7ca13f",
        "colab": {
          "base_uri": "https://localhost:8080/",
          "height": 34
        }
      },
      "source": [
        "# Get the outliers in weight\n",
        "outliers = get_outliers(data['weight'])\n",
        "print(outliers)"
      ],
      "execution_count": 0,
      "outputs": [
        {
          "output_type": "stream",
          "text": [
            "[102]\n"
          ],
          "name": "stdout"
        }
      ]
    }
  ]
}