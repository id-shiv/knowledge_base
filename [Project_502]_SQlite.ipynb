{
  "nbformat": 4,
  "nbformat_minor": 0,
  "metadata": {
    "colab": {
      "name": "[Project 502] SQlite.ipynb",
      "provenance": [],
      "collapsed_sections": [],
      "authorship_tag": "ABX9TyPp2B5p+sPQ/Y9S/7RnBh0T",
      "include_colab_link": true
    },
    "kernelspec": {
      "name": "python3",
      "display_name": "Python 3"
    }
  },
  "cells": [
    {
      "cell_type": "markdown",
      "metadata": {
        "id": "view-in-github",
        "colab_type": "text"
      },
      "source": [
        "<a href=\"https://colab.research.google.com/github/id-shiv/knowledge_base/blob/master/%5BProject_502%5D_SQlite.ipynb\" target=\"_parent\"><img src=\"https://colab.research.google.com/assets/colab-badge.svg\" alt=\"Open In Colab\"/></a>"
      ]
    },
    {
      "cell_type": "code",
      "metadata": {
        "id": "BCCp_WK8nH0V",
        "colab_type": "code",
        "colab": {}
      },
      "source": [
        "import sqlite3"
      ],
      "execution_count": 0,
      "outputs": []
    },
    {
      "cell_type": "code",
      "metadata": {
        "id": "OzGOAi5ojAp9",
        "colab_type": "code",
        "colab": {}
      },
      "source": [
        "class DataBase:\n",
        "    def __init__(self, db_name=\":memory:\"):\n",
        "        \"\"\"\n",
        "        Creates a database on a file if db_name provided,\n",
        "        Creates an in-memory database if no db_name provided\n",
        "        :param db_name:\n",
        "        \"\"\"\n",
        "\n",
        "        self.__db_name = db_name\n",
        "        self.__db_connection = None\n",
        "        self.__db_cursor = None\n",
        "\n",
        "        self.__db_connection = sqlite3.connect(self.__db_name)\n",
        "        self.__db_cursor = self.__db_connection.cursor()\n",
        "        print('Connected to {} database with connection {} and cursor {}'.format(self.__db_name,\n",
        "                                                                                 self.__db_connection,\n",
        "                                                                                 self.__db_cursor))\n",
        "\n",
        "        \"\"\"\n",
        "        Create a table with columns, keys and data types defined\n",
        "        \"\"\"\n",
        "        try:\n",
        "            self.__db_connection.execute('''\n",
        "            CREATE TABLE COMPANY(\n",
        "            ID INT PRIMARY KEY     NOT NULL,\n",
        "            NAME           TEXT    NOT NULL,\n",
        "            AGE            INT     NOT NULL,\n",
        "            ADDRESS        CHAR(50),\n",
        "            SALARY         REAL\n",
        "            );''')\n",
        "            print('Database table {} created successfully'.format(\"COMPANY\"))\n",
        "\n",
        "            self.__db_connection.close()\n",
        "        except BaseException as be:\n",
        "            print('Database table {} could not be created'.format(\"COMPANY\"))\n",
        "            print(be)\n",
        "\n",
        "    def insert(self, table_name, values):\n",
        "        \"\"\"\n",
        "        Insert values into table\n",
        "        :param table_name:\n",
        "        :param values:\n",
        "        :return:\n",
        "        \"\"\"\n",
        "\n",
        "        # Build key's string to be used in insert query\n",
        "        key_string = \" \".join(key + \", \" for key, _ in values.items()).rstrip(\", \")\n",
        "\n",
        "        # Build value's string to be used in insert query\n",
        "        value_string = \" \".join(\"\\\"\" + str(value) + \"\\\", \" for _, value in values.items()).rstrip(\", \")\n",
        "\n",
        "        # Build the insert query\n",
        "        insert_command = 'INSERT INTO {} ({}) VALUES ({})'.format(table_name, key_string, value_string)\n",
        "        # print('insert command {}'.format(insert_command))\n",
        "\n",
        "        # Run insert query\n",
        "        try:\n",
        "            with self.__db_connection:\n",
        "                self.__db_cursor.execute(insert_command)\n",
        "            print('insert command {} successful'.format(value_string))\n",
        "        except BaseException as be:\n",
        "            print('insert command {} failed'.format(value_string))\n",
        "            print(be)\n",
        "\n",
        "    def select(self, table_name, columns=None):\n",
        "        \"\"\"\n",
        "        Select values from a table\n",
        "        :param table_name:\n",
        "        :param columns:\n",
        "        :return:\n",
        "        \"\"\"\n",
        "        # Build the select query\n",
        "        # If no columns input, use * in select query. Else, use the column's string built above\n",
        "        if columns is None:\n",
        "            select_command = 'SELECT * FROM {}'.format(table_name)\n",
        "        else:\n",
        "            # Build column's string to be used in select query\n",
        "            column_string = \" \".join(column + \", \" for column in columns).rstrip(\", \")\n",
        "            select_command = 'SELECT {} FROM {}'.format(column_string, table_name)\n",
        "        # print('select command {}'.format(select_command))\n",
        "\n",
        "        # Run the select query\n",
        "        try:\n",
        "            with self.__db_connection:\n",
        "                rows = self.__db_cursor.execute(select_command)\n",
        "            print('select command {} successful'.format(select_command))\n",
        "\n",
        "            print(100 * \"#\")\n",
        "            print([description[0] for description in self.__db_cursor.description])\n",
        "            print(100*\"#\")\n",
        "            for row in rows:\n",
        "                for column_value in row:\n",
        "                    print('{} | '.format(str(column_value))),\n",
        "                print(\"\\n\")\n",
        "            print(100 * \"#\")\n",
        "        except BaseException as be:\n",
        "            print('select command {} failed'.format(select_command))\n",
        "            print(be)\n",
        "        else:\n",
        "            return rows"
      ],
      "execution_count": 0,
      "outputs": []
    },
    {
      "cell_type": "code",
      "metadata": {
        "id": "sK6u3U1fnftg",
        "colab_type": "code",
        "colab": {
          "base_uri": "https://localhost:8080/",
          "height": 139
        },
        "outputId": "4cbbd4fb-9489-47db-e40b-8bb24e40d8f3"
      },
      "source": [
        "db = DataBase(db_name=\"sample.db\")\n",
        "db.insert(\"COMPANY\", {\"ID\": 50006, \"NAME\": \"Baron Corbin\", \"AGE\": 43,\n",
        "    \"ADDRESS\": \"346 street\", \"SALARY\": 75000})\n",
        "db.select(\"COMPANY\")"
      ],
      "execution_count": 3,
      "outputs": [
        {
          "output_type": "stream",
          "text": [
            "Connected to sample.db database with connection <sqlite3.Connection object at 0x7f38611dbf10> and cursor <sqlite3.Cursor object at 0x7f38611479d0>\n",
            "Database table COMPANY created successfully\n",
            "insert command \"50006\",  \"Baron Corbin\",  \"43\",  \"346 street\",  \"75000\" failed\n",
            "Cannot operate on a closed database.\n",
            "select command SELECT * FROM COMPANY failed\n",
            "Cannot operate on a closed database.\n"
          ],
          "name": "stdout"
        }
      ]
    }
  ]
}