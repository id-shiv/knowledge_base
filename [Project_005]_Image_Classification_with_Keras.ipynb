{
  "nbformat": 4,
  "nbformat_minor": 0,
  "metadata": {
    "colab": {
      "name": "[Project 005] Image Classification with Keras.ipynb",
      "provenance": [],
      "collapsed_sections": [],
      "authorship_tag": "ABX9TyPzG/7U8YBZUmh1oWKj75sz",
      "include_colab_link": true
    },
    "kernelspec": {
      "name": "python3",
      "display_name": "Python 3"
    }
  },
  "cells": [
    {
      "cell_type": "markdown",
      "metadata": {
        "id": "view-in-github",
        "colab_type": "text"
      },
      "source": [
        "<a href=\"https://colab.research.google.com/github/id-shiv/project_notebooks/blob/master/%5BProject_005%5D_Image_Classification_with_Keras.ipynb\" target=\"_parent\"><img src=\"https://colab.research.google.com/assets/colab-badge.svg\" alt=\"Open In Colab\"/></a>"
      ]
    },
    {
      "cell_type": "code",
      "metadata": {
        "id": "FAu3PUftaOoz",
        "colab_type": "code",
        "colab": {}
      },
      "source": [
        "import tensorflow as tf\n",
        "from tensorflow import keras"
      ],
      "execution_count": 0,
      "outputs": []
    },
    {
      "cell_type": "markdown",
      "metadata": {
        "id": "oG-xL_GZRoxW",
        "colab_type": "text"
      },
      "source": [
        "# Import Data\n",
        "\n",
        "Data imported is 70k+ labelled images of fashion accessories"
      ]
    },
    {
      "cell_type": "code",
      "metadata": {
        "id": "Y5JdvBswRKxl",
        "colab_type": "code",
        "colab": {}
      },
      "source": [
        "fashion_mnist = keras.datasets.fashion_mnist\n",
        "(train_images, train_lables), (test_images, test_labels) = fashion_mnist.load_data()"
      ],
      "execution_count": 0,
      "outputs": []
    },
    {
      "cell_type": "markdown",
      "metadata": {
        "id": "Mfbu-GqGSARL",
        "colab_type": "text"
      },
      "source": [
        "# Build Model\n",
        "\n",
        "Build a 3 layered neural network\n",
        "* First layer : flatten the images into 28 X 28 pixel featutes\n",
        "* Second layer : 128 functions\n",
        "* Third layer : \n",
        "\n",
        "* Activation function : \n",
        "* Softmax : "
      ]
    },
    {
      "cell_type": "code",
      "metadata": {
        "id": "Lm8-iYVUSDma",
        "colab_type": "code",
        "colab": {}
      },
      "source": [
        "model = keras.Sequential([\n",
        "                          keras.layers.Flatten(input_shape=(28, 28)),\n",
        "                          keras.layers.Dense(128, activation=tf.nn.relu),\n",
        "                          keras.layers.Dense(10, activation=tf.nn.softmax)\n",
        "])"
      ],
      "execution_count": 0,
      "outputs": []
    },
    {
      "cell_type": "markdown",
      "metadata": {
        "id": "hxLTMeiE1_mW",
        "colab_type": "text"
      },
      "source": [
        "Model is intitalized with random values, \n",
        "loss functions determines how good or how bad it fits the pattern and then\n",
        "optimizer adjusts the pattern to fit the best"
      ]
    },
    {
      "cell_type": "code",
      "metadata": {
        "id": "ss6r8_me1xBT",
        "colab_type": "code",
        "colab": {}
      },
      "source": [
        "model.compile(optimizer=tf.train.AdamOptimizer(),\n",
        "              metrics=['accuracy'],\n",
        "              loss='sparse_categorical_crossentropy')"
      ],
      "execution_count": 0,
      "outputs": []
    },
    {
      "cell_type": "markdown",
      "metadata": {
        "id": "LaLpgWDb2m17",
        "colab_type": "text"
      },
      "source": [
        "# Train Data\n",
        "\n",
        "* epochs : # of repetitions to fit the data to reduce the loss"
      ]
    },
    {
      "cell_type": "code",
      "metadata": {
        "id": "dEOQq45x2m_W",
        "colab_type": "code",
        "colab": {}
      },
      "source": [
        "model.fit(train_images, train_lables, epochs=5)"
      ],
      "execution_count": 0,
      "outputs": []
    },
    {
      "cell_type": "markdown",
      "metadata": {
        "id": "REcDfGU_3BgM",
        "colab_type": "text"
      },
      "source": [
        "# Evaluate Model"
      ]
    },
    {
      "cell_type": "code",
      "metadata": {
        "id": "kuxILjw33BrO",
        "colab_type": "code",
        "colab": {
          "base_uri": "https://localhost:8080/",
          "height": 68
        },
        "outputId": "651099b8-89d6-4d1b-9185-f2fc9c8bbbb5"
      },
      "source": [
        "test_loss, test_acc = model.evaluate(test_images, test_labels)\n",
        "\n",
        "print(test_loss)\n",
        "print(test_acc)"
      ],
      "execution_count": 29,
      "outputs": [
        {
          "output_type": "stream",
          "text": [
            "10000/10000 [==============================] - 0s 36us/sample - loss: 0.5566 - acc: 0.8231\n",
            "0.5566089799642563\n",
            "0.8231\n"
          ],
          "name": "stdout"
        }
      ]
    },
    {
      "cell_type": "markdown",
      "metadata": {
        "id": "COlpwXXO3a49",
        "colab_type": "text"
      },
      "source": [
        "# Predict"
      ]
    },
    {
      "cell_type": "code",
      "metadata": {
        "id": "eFfiG0WM3bB5",
        "colab_type": "code",
        "colab": {
          "base_uri": "https://localhost:8080/",
          "height": 238
        },
        "outputId": "8f49d285-f434-4569-ab52-ffa24e854ad7"
      },
      "source": [
        "predictions = model.predict(test_images)\n",
        "\n",
        "print(predictions)"
      ],
      "execution_count": 25,
      "outputs": [
        {
          "output_type": "stream",
          "text": [
            "[[1.1899241e-12 1.5342971e-12 2.1092999e-26 ... 8.3570205e-02\n",
            "  2.4313551e-09 8.9647692e-01]\n",
            " [7.5141079e-06 1.4398831e-11 9.8488772e-01 ... 0.0000000e+00\n",
            "  1.6087917e-08 0.0000000e+00]\n",
            " [4.3877484e-09 9.9999988e-01 6.3242072e-12 ... 0.0000000e+00\n",
            "  1.1046889e-07 0.0000000e+00]\n",
            " ...\n",
            " [6.9685370e-02 1.5832347e-13 2.7632117e-04 ... 6.8392700e-32\n",
            "  8.3824974e-01 7.2316146e-19]\n",
            " [1.0190359e-06 9.9999249e-01 2.0888180e-09 ... 0.0000000e+00\n",
            "  6.2457816e-06 0.0000000e+00]\n",
            " [4.8085796e-03 3.6423508e-04 1.0314649e-08 ... 3.0097194e-02\n",
            "  2.5597962e-03 1.6871406e-02]]\n"
          ],
          "name": "stdout"
        }
      ]
    }
  ]
}