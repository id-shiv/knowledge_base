{
  "nbformat": 4,
  "nbformat_minor": 0,
  "metadata": {
    "colab": {
      "name": "[Project 101] Text Classification with Tensorflow.ipynb",
      "provenance": [],
      "collapsed_sections": [],
      "toc_visible": true,
      "authorship_tag": "ABX9TyPin5xLZFH3sjeUEWRPibt+",
      "include_colab_link": true
    },
    "kernelspec": {
      "name": "python3",
      "display_name": "Python 3"
    }
  },
  "cells": [
    {
      "cell_type": "markdown",
      "metadata": {
        "id": "view-in-github",
        "colab_type": "text"
      },
      "source": [
        "<a href=\"https://colab.research.google.com/github/id-shiv/project_notebooks/blob/master/%5BProject_101%5D_Text_Classification_with_Tensorflow.ipynb\" target=\"_parent\"><img src=\"https://colab.research.google.com/assets/colab-badge.svg\" alt=\"Open In Colab\"/></a>"
      ]
    },
    {
      "cell_type": "markdown",
      "metadata": {
        "id": "k47_sbNEN6QF",
        "colab_type": "text"
      },
      "source": [
        "# Libraries"
      ]
    },
    {
      "cell_type": "code",
      "metadata": {
        "id": "tSQyMx1RLrFo",
        "colab_type": "code",
        "colab": {}
      },
      "source": [
        "import tensorflow as tf\n",
        "from tensorflow import keras\n",
        "import numpy as np"
      ],
      "execution_count": 0,
      "outputs": []
    },
    {
      "cell_type": "markdown",
      "metadata": {
        "id": "UQeFGxzDN8fX",
        "colab_type": "text"
      },
      "source": [
        "# Data"
      ]
    },
    {
      "cell_type": "markdown",
      "metadata": {
        "id": "PUs6LHKRa2B1",
        "colab_type": "text"
      },
      "source": [
        "Data is a corpus of movie reviews from keras dataset named imdb\n"
      ]
    },
    {
      "cell_type": "code",
      "metadata": {
        "id": "TuL5vOrXNqJV",
        "colab_type": "code",
        "colab": {
          "base_uri": "https://localhost:8080/",
          "height": 71
        },
        "outputId": "88e875f0-20c9-49d6-bf44-74e9baf01ad4"
      },
      "source": [
        "data = keras.datasets.imdb\n",
        "(train_data, train_labels), (test_data, test_labels) = data.load_data(num_words=10000)"
      ],
      "execution_count": 3,
      "outputs": [
        {
          "output_type": "stream",
          "text": [
            "Downloading data from https://storage.googleapis.com/tensorflow/tf-keras-datasets/imdb.npz\n",
            "17465344/17464789 [==============================] - 0s 0us/step\n"
          ],
          "name": "stdout"
        }
      ]
    },
    {
      "cell_type": "markdown",
      "metadata": {
        "id": "QzZdqslHN-Md",
        "colab_type": "text"
      },
      "source": [
        "## View Data"
      ]
    },
    {
      "cell_type": "code",
      "metadata": {
        "id": "81cGJ6tMOAjF",
        "colab_type": "code",
        "colab": {
          "base_uri": "https://localhost:8080/",
          "height": 51
        },
        "outputId": "890e8bed-2d55-4c82-b1ed-49a7a03204f0"
      },
      "source": [
        "word_index = data.get_word_index()\n",
        "word_index = {word: index+3 for word, index in word_index.items()}\n",
        "word_index[\"<PAD>\"] = 0  # Used to replace words that are outside the set limit of feature count\n",
        "word_index[\"<START>\"] = 1  # Used to indicate the start of the review\n",
        "word_index[\"<UNKNOWN>\"] = 2. # Used to indicate words that are not in word_index (since num_words=10000)\n",
        "word_index[\"<UNUSED>\"] = 3\n",
        "reverse_word_index = {index: word for word, index in word_index.items()}"
      ],
      "execution_count": 4,
      "outputs": [
        {
          "output_type": "stream",
          "text": [
            "Downloading data from https://storage.googleapis.com/tensorflow/tf-keras-datasets/imdb_word_index.json\n",
            "1646592/1641221 [==============================] - 0s 0us/step\n"
          ],
          "name": "stdout"
        }
      ]
    },
    {
      "cell_type": "code",
      "metadata": {
        "id": "WqgdQiFDWL3e",
        "colab_type": "code",
        "colab": {}
      },
      "source": [
        "def decode_review(review):\n",
        "  return \" \".join([reverse_word_index.get(i, '?') for i in review])"
      ],
      "execution_count": 0,
      "outputs": []
    },
    {
      "cell_type": "code",
      "metadata": {
        "id": "A2-La9DwWg5b",
        "colab_type": "code",
        "colab": {
          "base_uri": "https://localhost:8080/",
          "height": 74
        },
        "outputId": "d438f49a-2bec-4837-928a-e1cd54c02cf4"
      },
      "source": [
        "decode_review(test_data[2])"
      ],
      "execution_count": 6,
      "outputs": [
        {
          "output_type": "execute_result",
          "data": {
            "text/plain": [
              "\"<START> many animation buffs consider <UNKNOWN> <UNKNOWN> the great forgotten genius of one special branch of the art puppet animation which he invented almost single <UNKNOWN> and as it happened almost accidentally as a young man <UNKNOWN> was more interested in <UNKNOWN> than the cinema but his <UNKNOWN> attempt to film two <UNKNOWN> <UNKNOWN> fighting led to an unexpected breakthrough in film making when he realized he could <UNKNOWN> movement by <UNKNOWN> beetle <UNKNOWN> and <UNKNOWN> them one frame at a time this discovery led to the production of amazingly elaborate classic short the <UNKNOWN> revenge which he made in russia in <UNKNOWN> at a time when motion picture animation of all sorts was in its <UNKNOWN> br br the political <UNKNOWN> of the russian revolution caused <UNKNOWN> to move to paris where one of his first productions <UNKNOWN> was a dark political satire <UNKNOWN> known as <UNKNOWN> or the <UNKNOWN> who wanted a king a strain of black comedy can be found in almost all of films but here it is very dark indeed aimed more at grown ups who can appreciate the satirical aspects than children who would most likely find the climax <UNKNOWN> i'm middle aged and found it pretty <UNKNOWN> myself and indeed <UNKNOWN> of the film intended for english speaking viewers of the 1920s were given title cards filled with <UNKNOWN> and <UNKNOWN> in order to help <UNKNOWN> the sharp <UNKNOWN> of the finale br br our tale is set in a swamp the <UNKNOWN> <UNKNOWN> where the citizens are unhappy with their government and have called a special session to see what they can do to improve matters they decide to <UNKNOWN> <UNKNOWN> for a king the crowds are <UNKNOWN> animated in this opening sequence it couldn't have been easy to make so many frog puppets look alive simultaneously while <UNKNOWN> for his part is depicted as a <UNKNOWN> white <UNKNOWN> guy in the clouds who looks like he'd rather be taking a <UNKNOWN> when <UNKNOWN> sends them a tree like god who regards them the <UNKNOWN> decide that this is no improvement and demand a different king irritated <UNKNOWN> sends them a <UNKNOWN> br br delighted with this <UNKNOWN> looking new king who towers above them the <UNKNOWN> welcome him with a <UNKNOWN> of <UNKNOWN> dressed <UNKNOWN> the mayor steps forward to hand him the key to the <UNKNOWN> as <UNKNOWN> cameras record the event to everyone's horror the <UNKNOWN> promptly eats the mayor and then goes on a merry rampage <UNKNOWN> citizens at random a title card <UNKNOWN> reads news of the king's <UNKNOWN> throughout the kingdom when the now terrified <UNKNOWN> once more <UNKNOWN> <UNKNOWN> for help he loses his temper and <UNKNOWN> their community with lightning <UNKNOWN> the moral of our story delivered by a hapless frog just before he is eaten is let well enough alone br br considering the time period when this startling little film was made and considering the fact that it was made by a russian <UNKNOWN> at the height of that <UNKNOWN> country's civil war it would be easy to see this as a <UNKNOWN> about those events <UNKNOWN> may or may not have had <UNKNOWN> turmoil in mind when he made <UNKNOWN> but whatever <UNKNOWN> his choice of material the film stands as a <UNKNOWN> tale of universal <UNKNOWN> <UNKNOWN> could be the soviet union italy germany or japan in the 1930s or any country of any era that lets its guard down and is overwhelmed by <UNKNOWN> it's a fascinating film even a charming one in its macabre way but its message is no joke\""
            ]
          },
          "metadata": {
            "tags": []
          },
          "execution_count": 6
        }
      ]
    },
    {
      "cell_type": "markdown",
      "metadata": {
        "id": "-hkYkImzX-FT",
        "colab_type": "text"
      },
      "source": [
        "## Prepare Data"
      ]
    },
    {
      "cell_type": "markdown",
      "metadata": {
        "id": "S5jrdr9bZBor",
        "colab_type": "text"
      },
      "source": [
        "### Feature consistency"
      ]
    },
    {
      "cell_type": "markdown",
      "metadata": {
        "id": "YzwFbDlRYQzq",
        "colab_type": "text"
      },
      "source": [
        "Limit the number of words in a review to 250 (needed to know number of features i.e. number of neurons in input layer)"
      ]
    },
    {
      "cell_type": "code",
      "metadata": {
        "id": "hTbk_5B-YALq",
        "colab_type": "code",
        "colab": {
          "base_uri": "https://localhost:8080/",
          "height": 51
        },
        "outputId": "1c68a247-0ddf-4a88-f0fc-2f5c1106b71c"
      },
      "source": [
        "train_data = keras.preprocessing.sequence.pad_sequences(train_data, \n",
        "                                                        value=word_index[\"<PAD>\"],\n",
        "                                                        padding='post',\n",
        "                                                        maxlen=256)\n",
        "test_data = keras.preprocessing.sequence.pad_sequences(test_data, \n",
        "                                                        value=word_index[\"<PAD>\"],\n",
        "                                                        padding='post',\n",
        "                                                        maxlen=256)\n",
        "print(f'Length of Training Data : {len(train_data)}'\n",
        "      f'\\nLength of Test Data : {len(test_data)}')"
      ],
      "execution_count": 7,
      "outputs": [
        {
          "output_type": "stream",
          "text": [
            "Length of Training Data : 25000\n",
            "Length of Test Data : 25000\n"
          ],
          "name": "stdout"
        }
      ]
    },
    {
      "cell_type": "markdown",
      "metadata": {
        "id": "dTFeDvpgZG4s",
        "colab_type": "text"
      },
      "source": [
        "# Model"
      ]
    },
    {
      "cell_type": "markdown",
      "metadata": {
        "id": "fl2NDVhTaXid",
        "colab_type": "text"
      },
      "source": [
        "* Embedding : Create word vector for each word (10000 vectors in below example). Angle between each vector indicates similarity.  \n",
        "Set 16 dimensions to the vector in below example.\n",
        "* Global Average Pooling 1D : \n",
        "* Output : need 1 neuron to indicate 0 or 1 (good or bad). Sigmoid suits well for boolean.  "
      ]
    },
    {
      "cell_type": "code",
      "metadata": {
        "id": "tPrtylRjZH5S",
        "colab_type": "code",
        "colab": {
          "base_uri": "https://localhost:8080/",
          "height": 159
        },
        "outputId": "33ac2052-f0fb-42a7-e72a-7b632a13a987"
      },
      "source": [
        "model = keras.Sequential()\n",
        "model.add(keras.layers.Embedding(10000, 16))\n",
        "model.add(keras.layers.GlobalAveragePooling1D())\n",
        "model.add(keras.layers.Dense(16, activation='relu'))\n",
        "model.add(keras.layers.Dense(1, activation='sigmoid'))"
      ],
      "execution_count": 8,
      "outputs": [
        {
          "output_type": "stream",
          "text": [
            "WARNING:tensorflow:From /usr/local/lib/python3.6/dist-packages/tensorflow_core/python/keras/initializers.py:119: calling RandomUniform.__init__ (from tensorflow.python.ops.init_ops) with dtype is deprecated and will be removed in a future version.\n",
            "Instructions for updating:\n",
            "Call initializer instance with the dtype argument instead of passing it to the constructor\n",
            "WARNING:tensorflow:From /usr/local/lib/python3.6/dist-packages/tensorflow_core/python/ops/resource_variable_ops.py:1630: calling BaseResourceVariable.__init__ (from tensorflow.python.ops.resource_variable_ops) with constraint is deprecated and will be removed in a future version.\n",
            "Instructions for updating:\n",
            "If using Keras pass *_constraint arguments to layers.\n"
          ],
          "name": "stdout"
        }
      ]
    }
  ]
}