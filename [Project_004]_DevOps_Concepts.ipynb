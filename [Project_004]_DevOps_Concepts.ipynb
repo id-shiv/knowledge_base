{
  "nbformat": 4,
  "nbformat_minor": 0,
  "metadata": {
    "colab": {
      "name": "[Project 004] DevOps Concepts.ipynb",
      "provenance": [],
      "collapsed_sections": [],
      "toc_visible": true,
      "authorship_tag": "ABX9TyPwgaQfoty0NtO42TR7xjLF",
      "include_colab_link": true
    },
    "kernelspec": {
      "name": "python3",
      "display_name": "Python 3"
    }
  },
  "cells": [
    {
      "cell_type": "markdown",
      "metadata": {
        "id": "view-in-github",
        "colab_type": "text"
      },
      "source": [
        "<a href=\"https://colab.research.google.com/github/id-shiv/knowledge_base/blob/master/%5BProject_004%5D_DevOps_Concepts.ipynb\" target=\"_parent\"><img src=\"https://colab.research.google.com/assets/colab-badge.svg\" alt=\"Open In Colab\"/></a>"
      ]
    },
    {
      "cell_type": "markdown",
      "metadata": {
        "id": "1vbk9VNJDjb7",
        "colab_type": "text"
      },
      "source": [
        "# Why?"
      ]
    },
    {
      "cell_type": "markdown",
      "metadata": {
        "id": "UX6f5ewLDmAp",
        "colab_type": "text"
      },
      "source": [
        "**Traditional Waterfall Model for Software Development** :\n",
        "- Cannot turn back to previous phase.\n",
        "- Works well for product releases with minimal change."
      ]
    },
    {
      "cell_type": "markdown",
      "metadata": {
        "id": "dmcaBbIGD8zw",
        "colab_type": "text"
      },
      "source": [
        "**Agile Model** :\n",
        "- Addressed the limitations of Waterfall method with multiple iterations of parallel Design, Build and Test process"
      ]
    },
    {
      "cell_type": "markdown",
      "metadata": {
        "id": "46JjU_eSEnsD",
        "colab_type": "text"
      },
      "source": [
        "![](https://drive.google.com/uc?export=view&id=11O9MGbZmUT4hJSztKjw_fRwfXpd-QUXT)"
      ]
    },
    {
      "cell_type": "markdown",
      "metadata": {
        "id": "x1-Ha9CXGmKb",
        "colab_type": "text"
      },
      "source": [
        "**Why DevOps?** :\n",
        "- To Overcome the limitations of Agile and Waterfall software development models\n",
        "> Code works in development team system, but not in production. "
      ]
    },
    {
      "cell_type": "markdown",
      "metadata": {
        "id": "PwPluFQpG-3G",
        "colab_type": "text"
      },
      "source": [
        "# What is DevOps?"
      ]
    },
    {
      "cell_type": "markdown",
      "metadata": {
        "id": "CUtGPgejHBfD",
        "colab_type": "text"
      },
      "source": [
        "DevOps is a set of practices that automates the processes between software development and IT teams, in order that they can build, test, and release software faster and more reliably. The concept of DevOps is founded on building a culture of collaboration between teams that historically functioned in relative siloes."
      ]
    },
    {
      "cell_type": "markdown",
      "metadata": {
        "id": "zDM3KTl7HHNj",
        "colab_type": "text"
      },
      "source": [
        "![](https://drive.google.com/uc?export=view&id=1pqs8OkEfXMXqh_aOigGAofz8Oauq8fc-)"
      ]
    },
    {
      "cell_type": "markdown",
      "metadata": {
        "id": "iDJqBJNlHXGJ",
        "colab_type": "text"
      },
      "source": [
        "# DevOps Stages"
      ]
    },
    {
      "cell_type": "markdown",
      "metadata": {
        "id": "th3R1OwtHcKd",
        "colab_type": "text"
      },
      "source": [
        "- Planning\n",
        "- Continuous Development\n",
        "> Version Control, Source Code Management.\n",
        "- Continuous Integration - Continuous Build.\n",
        "> Compile, validate, code review, unit test, integration test.\n",
        "- Continuous Delivery - Continuous Testing\n",
        "> Deploy on test servers and perform UAT.\n",
        "- Continuous Deployment - Continuos Release, deploying on production servers.\n",
        "- Continuous Monitoring."
      ]
    },
    {
      "cell_type": "markdown",
      "metadata": {
        "id": "SxJb9LOqHqXt",
        "colab_type": "text"
      },
      "source": [
        "![](https://drive.google.com/uc?export=view&id=1wjR2sXRfbPy0mqdG4HBQExOFUX_w9h_j)"
      ]
    },
    {
      "cell_type": "markdown",
      "metadata": {
        "id": "s-L8NsjEH5E2",
        "colab_type": "text"
      },
      "source": [
        "## Source Code Management"
      ]
    },
    {
      "cell_type": "markdown",
      "metadata": {
        "id": "gDbwxkKUIFsw",
        "colab_type": "text"
      },
      "source": [
        "- Centralized : Repository is managed by a centralized server\n",
        "E.g. : svn\n",
        "- Distributed : Repository is managed locally at developer server, and updated to remote repository through push \\ pull.\n",
        "E.g. : Git"
      ]
    },
    {
      "cell_type": "markdown",
      "metadata": {
        "id": "fWKERjpeIK-m",
        "colab_type": "text"
      },
      "source": [
        "## Continuous Integration"
      ]
    },
    {
      "cell_type": "markdown",
      "metadata": {
        "id": "IvMt9Pn3ILBY",
        "colab_type": "text"
      },
      "source": [
        "Build from repository when new changes are checked-in:\n",
        "- Compile.\n",
        "- Code review.\n",
        "- Unit Testing.\n",
        "- Integration Testing.\n",
        "- Package (war, jar, zip, etc).\n",
        "> Tool used : Jenkins\n"
      ]
    },
    {
      "cell_type": "markdown",
      "metadata": {
        "id": "eHv9FGcxIcur",
        "colab_type": "text"
      },
      "source": [
        "## Continuous Delivery"
      ]
    },
    {
      "cell_type": "markdown",
      "metadata": {
        "id": "vQnGS9k5Igdr",
        "colab_type": "text"
      },
      "source": [
        "Deploy the build applications on test servers and run UAT.\n",
        "Detect problems early by knowing what changes have caused an issue in the application.\n",
        "> Tool used : Jenkins"
      ]
    },
    {
      "cell_type": "markdown",
      "metadata": {
        "id": "iYSvcHaiIkds",
        "colab_type": "text"
      },
      "source": [
        "## Continuous Deployment"
      ]
    },
    {
      "cell_type": "markdown",
      "metadata": {
        "id": "nBiUFBESIkgj",
        "colab_type": "text"
      },
      "source": [
        "Deploy the build applications on production servers for release\n",
        "> Tool used : Jenkins"
      ]
    },
    {
      "cell_type": "markdown",
      "metadata": {
        "id": "BvRN3rBZIvGP",
        "colab_type": "text"
      },
      "source": [
        "### Configuration Management"
      ]
    },
    {
      "cell_type": "markdown",
      "metadata": {
        "id": "DqDq-SKXIx16",
        "colab_type": "text"
      },
      "source": [
        "Is a practice of handling changes systematically to maintain system integrity over time. E.g. software upgrades, library upgrades etc.\n",
        "\n",
        "\n",
        "Why? Recover from deployment failures.\n",
        "\n",
        "\n",
        "> Tools used: puppet, chef (follows pull configuration), ansible, saltstack (follows push configurations) and others.  \n",
        "> Concepts used: Containerization (using dockers)"
      ]
    },
    {
      "cell_type": "markdown",
      "metadata": {
        "id": "B34lxOg8I9ME",
        "colab_type": "text"
      },
      "source": [
        "## Continuous Monitoring"
      ]
    },
    {
      "cell_type": "markdown",
      "metadata": {
        "id": "OfWtH80SJLjy",
        "colab_type": "text"
      },
      "source": [
        "Ability to detect, report, respond, contain and mitigate the attacks that occur in the infrastructure and reduce outages.\n",
        "- Security\n",
        "- Uptime\n",
        "- Governance risk and compliance\n",
        "- Data warehouse\n",
        "- Analytics\n",
        "> Tools used: Nagios, and others."
      ]
    },
    {
      "cell_type": "markdown",
      "metadata": {
        "id": "8XrgDMI4JVzE",
        "colab_type": "text"
      },
      "source": [
        "# Use Case"
      ]
    },
    {
      "cell_type": "markdown",
      "metadata": {
        "id": "KZ265343Jddx",
        "colab_type": "text"
      },
      "source": [
        "![](https://drive.google.com/uc?export=view&id=1H7o6RRBoedC-GRX9Zzqn-uQsHACNbMwZ)"
      ]
    }
  ]
}