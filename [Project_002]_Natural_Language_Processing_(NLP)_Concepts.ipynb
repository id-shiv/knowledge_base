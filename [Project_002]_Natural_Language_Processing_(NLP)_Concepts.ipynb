{
  "nbformat": 4,
  "nbformat_minor": 0,
  "metadata": {
    "colab": {
      "name": "[Project 002] Natural Language Processing (NLP) Concepts.ipynb",
      "provenance": [],
      "collapsed_sections": [
        "pMnGN67Nj107",
        "5j2JdtSxlU8F",
        "-lihXNX1ly8W",
        "8pG_ZFahmUwm",
        "H_nVAvkEnNAE",
        "m7Z-9-5zpmMZ",
        "f0PcNs4ap1fU"
      ],
      "toc_visible": true,
      "authorship_tag": "ABX9TyM1gcVsvNoRYaJbLcK11QLt",
      "include_colab_link": true
    },
    "kernelspec": {
      "name": "python3",
      "display_name": "Python 3"
    }
  },
  "cells": [
    {
      "cell_type": "markdown",
      "metadata": {
        "id": "view-in-github",
        "colab_type": "text"
      },
      "source": [
        "<a href=\"https://colab.research.google.com/github/id-shiv/knowledge_base/blob/master/%5BProject_002%5D_Natural_Language_Processing_(NLP)_Concepts.ipynb\" target=\"_parent\"><img src=\"https://colab.research.google.com/assets/colab-badge.svg\" alt=\"Open In Colab\"/></a>"
      ]
    },
    {
      "cell_type": "markdown",
      "metadata": {
        "id": "oJnzS4sXhVzy",
        "colab_type": "text"
      },
      "source": [
        "# Library"
      ]
    },
    {
      "cell_type": "code",
      "metadata": {
        "id": "lNlLNopQfjIo",
        "colab_type": "code",
        "colab": {}
      },
      "source": [
        "import nltk\n",
        "from nltk.text import Text\n",
        "import matplotlib.pyplot as plt\n",
        "from wordcloud import WordCloud\n",
        "from nltk.corpus import wordnet as wn  # lexical database\n",
        "from nltk.stem import PorterStemmer\n",
        "from nltk.stem import WordNetLemmatizer"
      ],
      "execution_count": 0,
      "outputs": []
    },
    {
      "cell_type": "markdown",
      "metadata": {
        "id": "GkGhlKWZxtqP",
        "colab_type": "text"
      },
      "source": [
        "# Terminologies"
      ]
    },
    {
      "cell_type": "markdown",
      "metadata": {
        "id": "L5Ddm9sGxvHV",
        "colab_type": "text"
      },
      "source": [
        "\n",
        "* Stop Words : Stop words are a set of commonly used words in any language. For example, in English, “the”, “is” and “and”, would easily qualify as stop words.\n",
        "* Synonyms : A synonym is a word or phrase that means the same (or very nearly the same) as another word or phrase.\n",
        "* Hypernyms : Y is a hypernym of X if every X is a (kind of) Y.\n",
        "* Hyponyms : Y is a hyponym of X if every Y is a (kind of) X.\n",
        "* Holonyms : Y is a holonym of X if X is a part of Y.\n",
        "* Antonyms : a word opposite in meaning to another (e.g. bad and good ).\n",
        "* Stemming : process of reducing a word to it's stem.\n",
        "* Lemmas (Lemmatization) : using morphological analysis of each word.\n",
        "* POS (Parts of Speech) : is the word tag in a sentense on whether it is a noun, verb, adverb, adjective ... \n",
        "\n"
      ]
    },
    {
      "cell_type": "markdown",
      "metadata": {
        "id": "1NgZ6iief_8c",
        "colab_type": "text"
      },
      "source": [
        "# NLTK"
      ]
    },
    {
      "cell_type": "markdown",
      "metadata": {
        "id": "EVjM9i0ih2ur",
        "colab_type": "text"
      },
      "source": [
        "## List the Corpuses"
      ]
    },
    {
      "cell_type": "code",
      "metadata": {
        "id": "lsgXCq5Bh5Wm",
        "colab_type": "code",
        "outputId": "00fd8a47-da41-4602-d417-1ec1d90821d1",
        "colab": {
          "base_uri": "https://localhost:8080/",
          "height": 163
        }
      },
      "source": [
        "# nltk.download()  # enable this line if the nltk corpus is not downloaded_\n",
        "# in your environment\n",
        "\n",
        "# From Gutenberg Collection\n",
        "print(nltk.corpus.gutenberg.fileids())"
      ],
      "execution_count": 123,
      "outputs": [
        {
          "output_type": "stream",
          "text": [
            "NLTK Downloader\n",
            "---------------------------------------------------------------------------\n",
            "    d) Download   l) List    u) Update   c) Config   h) Help   q) Quit\n",
            "---------------------------------------------------------------------------\n",
            "Downloader> q\n",
            "['austen-emma.txt', 'austen-persuasion.txt', 'austen-sense.txt', 'bible-kjv.txt', 'blake-poems.txt', 'bryant-stories.txt', 'burgess-busterbrown.txt', 'carroll-alice.txt', 'chesterton-ball.txt', 'chesterton-brown.txt', 'chesterton-thursday.txt', 'edgeworth-parents.txt', 'melville-moby_dick.txt', 'milton-paradise.txt', 'shakespeare-caesar.txt', 'shakespeare-hamlet.txt', 'shakespeare-macbeth.txt', 'whitman-leaves.txt']\n"
          ],
          "name": "stdout"
        }
      ]
    },
    {
      "cell_type": "markdown",
      "metadata": {
        "id": "2vWD1NyChTJg",
        "colab_type": "text"
      },
      "source": [
        "## Load a Sample Corpus"
      ]
    },
    {
      "cell_type": "code",
      "metadata": {
        "id": "L46R0eHchVR2",
        "colab_type": "code",
        "colab": {}
      },
      "source": [
        "imported_text = Text(nltk.corpus.gutenberg.words('carroll-alice.txt'))"
      ],
      "execution_count": 0,
      "outputs": []
    },
    {
      "cell_type": "markdown",
      "metadata": {
        "id": "ldfPMhDBiOnm",
        "colab_type": "text"
      },
      "source": [
        "## NLTK Text Object"
      ]
    },
    {
      "cell_type": "code",
      "metadata": {
        "id": "-HLlyoy4iQMh",
        "colab_type": "code",
        "outputId": "751fcd8a-238c-4cd6-cc66-156d5c7e2ecf",
        "colab": {
          "base_uri": "https://localhost:8080/",
          "height": 34
        }
      },
      "source": [
        "print(type(imported_text))"
      ],
      "execution_count": 125,
      "outputs": [
        {
          "output_type": "stream",
          "text": [
            "<class 'nltk.text.Text'>\n"
          ],
          "name": "stdout"
        }
      ]
    },
    {
      "cell_type": "markdown",
      "metadata": {
        "id": "4m8GnGOHj_hi",
        "colab_type": "text"
      },
      "source": [
        "### Number of Words"
      ]
    },
    {
      "cell_type": "code",
      "metadata": {
        "id": "2pwTiwf4kFH1",
        "colab_type": "code",
        "outputId": "52b91c3f-2cc7-4a33-947b-de11131fe48f",
        "colab": {
          "base_uri": "https://localhost:8080/",
          "height": 34
        }
      },
      "source": [
        "print(len(imported_text))  # includes punctutions"
      ],
      "execution_count": 126,
      "outputs": [
        {
          "output_type": "stream",
          "text": [
            "34110\n"
          ],
          "name": "stdout"
        }
      ]
    },
    {
      "cell_type": "markdown",
      "metadata": {
        "id": "DtG2VNylkLbz",
        "colab_type": "text"
      },
      "source": [
        "### Number of unique words"
      ]
    },
    {
      "cell_type": "code",
      "metadata": {
        "id": "H2z6MQ-LkLkT",
        "colab_type": "code",
        "outputId": "f84d7756-c560-420d-8bcb-98f8a52e389d",
        "colab": {
          "base_uri": "https://localhost:8080/",
          "height": 34
        }
      },
      "source": [
        "print(len(set(imported_text)))  # includes punctuations"
      ],
      "execution_count": 127,
      "outputs": [
        {
          "output_type": "stream",
          "text": [
            "3016\n"
          ],
          "name": "stdout"
        }
      ]
    },
    {
      "cell_type": "markdown",
      "metadata": {
        "id": "MBQ-FQzajckN",
        "colab_type": "text"
      },
      "source": [
        "### Concordance"
      ]
    },
    {
      "cell_type": "code",
      "metadata": {
        "id": "pMq7e2LrjiTG",
        "colab_type": "code",
        "outputId": "df1efeed-0a1f-4dfd-fb9d-5c18f8f0b854",
        "colab": {
          "base_uri": "https://localhost:8080/",
          "height": 476
        }
      },
      "source": [
        "print(imported_text.concordance(\"great\"))"
      ],
      "execution_count": 128,
      "outputs": [
        {
          "output_type": "stream",
          "text": [
            "Displaying 25 of 39 matches:\n",
            "led ' ORANGE MARMALADE ', but to her great disappointment it was empty : she di\n",
            " golden key in the lock , and to her great delight it fitted ! Alice opened the\n",
            " _I_ shan ' t be able ! I shall be a great deal too far off to trouble myself a\n",
            "amed of yourself ,' said Alice , ' a great girl like you ,' ( she might well sa\n",
            " other : he came trotting along in a great hurry , muttering to himself as he c\n",
            "n the world am I ? Ah , THAT ' S the great puzzle !' And she began thinking ove\n",
            " won ' t indeed !' said Alice , in a great hurry to change the subject of conve\n",
            " the Dodo could not answer without a great deal of thought , and it sat for a l\n",
            "since her swim in the pool , and the great hall , with the glass table and the \n",
            "knocking , and hurried upstairs , in great fear lest she should meet the real M\n",
            " over her head made her look up in a great hurry . An enormous puppy was lookin\n",
            "orry it ; then Alice dodged behind a great thistle , to keep herself from being\n",
            "e hanging out of its mouth , and its great eyes half shut . This seemed to Alic\n",
            "r drink something or other ; but the great question is , what ?' The great ques\n",
            " the great question is , what ?' The great question certainly was , what ? Alic\n",
            "an by producing from under his arm a great letter , nearly as large as himself \n",
            " sneezing , and every now and then a great crash , as if a dish or kettle had b\n",
            ": still it had VERY long claws and a great many teeth , so she felt that it oug\n",
            " ,' said Alice ; ' it ' s laid for a great many more than three .' ' Your hair \n",
            " looking at Alice for some time with great curiosity , and this was his first s\n",
            " the March Hare ,) '-- it was at the great concert given by the Queen of Hearts\n",
            "e sisters ,' the Dormouse began in a great hurry ; ' and their names were Elsie\n",
            "on ?' said Alice , who always took a great interest in questions of eating and \n",
            "han Alice could bear : she got up in great disgust , and walked off ; the Dormo\n",
            " fond of beheading people here ; the great wonder is , that there ' s any one l\n",
            "None\n"
          ],
          "name": "stdout"
        }
      ]
    },
    {
      "cell_type": "markdown",
      "metadata": {
        "id": "pMnGN67Nj107",
        "colab_type": "text"
      },
      "source": [
        "### Number of word occurance"
      ]
    },
    {
      "cell_type": "code",
      "metadata": {
        "id": "qo5Kr3x9j19z",
        "colab_type": "code",
        "outputId": "373678e9-32f5-4c17-c11d-0d3f67ed62bf",
        "colab": {
          "base_uri": "https://localhost:8080/",
          "height": 54
        }
      },
      "source": [
        "print(imported_text.count('Alice'))  # input word is case-sensitive"
      ],
      "execution_count": 129,
      "outputs": [
        {
          "output_type": "stream",
          "text": [
            "396\n"
          ],
          "name": "stdout"
        }
      ]
    },
    {
      "cell_type": "markdown",
      "metadata": {
        "id": "5j2JdtSxlU8F",
        "colab_type": "text"
      },
      "source": [
        "### Dispersion Plot"
      ]
    },
    {
      "cell_type": "code",
      "metadata": {
        "id": "Go6Bb7R_lVFq",
        "colab_type": "code",
        "outputId": "a419394d-8462-4ba8-df8a-22a0f4e22774",
        "colab": {
          "base_uri": "https://localhost:8080/",
          "height": 315
        }
      },
      "source": [
        "imported_text.dispersion_plot(['Alice', 'Rabbit', 'Hatter', 'Queen'])"
      ],
      "execution_count": 130,
      "outputs": [
        {
          "output_type": "display_data",
          "data": {
            "image/png": "[encoded data removed]",
            "text/plain": [
              "<Figure size 432x288 with 1 Axes>"
            ]
          },
          "metadata": {
            "tags": []
          }
        }
      ]
    },
    {
      "cell_type": "markdown",
      "metadata": {
        "id": "-lihXNX1ly8W",
        "colab_type": "text"
      },
      "source": [
        "### Frequency Distribution"
      ]
    },
    {
      "cell_type": "code",
      "metadata": {
        "id": "t45xfEPRlzLp",
        "colab_type": "code",
        "outputId": "b340c7c3-c516-43fb-de64-17afcb8691e1",
        "colab": {
          "base_uri": "https://localhost:8080/",
          "height": 332
        }
      },
      "source": [
        "fdist = nltk.FreqDist(imported_text)\n",
        "fdist.plot(50, cumulative=True, title='Common Words')"
      ],
      "execution_count": 131,
      "outputs": [
        {
          "output_type": "display_data",
          "data": {
            "image/png": "[encoded data removed]",
            "text/plain": [
              "<Figure size 432x288 with 1 Axes>"
            ]
          },
          "metadata": {
            "tags": []
          }
        }
      ]
    },
    {
      "cell_type": "markdown",
      "metadata": {
        "id": "8pG_ZFahmUwm",
        "colab_type": "text"
      },
      "source": [
        "#### Without punctuations"
      ]
    },
    {
      "cell_type": "code",
      "metadata": {
        "id": "k1KOEdWNmXWI",
        "colab_type": "code",
        "outputId": "e248d9cc-1689-46d1-d1d6-e4fccb2d4fd3",
        "colab": {
          "base_uri": "https://localhost:8080/",
          "height": 340
        }
      },
      "source": [
        "fdist_no_punc = nltk.FreqDist(dict((word, freq) for word, freq in fdist.items() if word.isalpha()))\n",
        "fdist_no_punc.plot(50, cumulative=True, title='Common Words')"
      ],
      "execution_count": 132,
      "outputs": [
        {
          "output_type": "display_data",
          "data": {
            "image/png": "[encoded data removed]",
            "text/plain": [
              "<Figure size 432x288 with 1 Axes>"
            ]
          },
          "metadata": {
            "tags": []
          }
        }
      ]
    },
    {
      "cell_type": "markdown",
      "metadata": {
        "id": "H_nVAvkEnNAE",
        "colab_type": "text"
      },
      "source": [
        "#### Without stopwords"
      ]
    },
    {
      "cell_type": "code",
      "metadata": {
        "id": "derRP_b7nNIO",
        "colab_type": "code",
        "outputId": "8f0fe2d5-7ba5-40e7-b88b-9bd3db66c53e",
        "colab": {
          "base_uri": "https://localhost:8080/",
          "height": 375
        }
      },
      "source": [
        "def stop_words():\n",
        "  return nltk.corpus.stopwords.words('english')\n",
        "\n",
        "def common_words_freq_dist(text, no_punctuations=True, no_stop_words=True):\n",
        "  common_words = list()\n",
        "  fdist = nltk.FreqDist(imported_text)\n",
        "  for word, freq in fdist.items():\n",
        "      if word.isalpha() and word not in stop_words():\n",
        "        common_words.append(word)\n",
        "  return nltk.FreqDist(common_words)\n",
        "\n",
        "common_words = common_words_freq_dist(imported_text)\n",
        "\n",
        "common_words.plot(50, cumulative=True, title='Common Words')"
      ],
      "execution_count": 133,
      "outputs": [
        {
          "output_type": "display_data",
          "data": {
            "image/png": "[encoded data removed]",
            "text/plain": [
              "<Figure size 432x288 with 1 Axes>"
            ]
          },
          "metadata": {
            "tags": []
          }
        }
      ]
    },
    {
      "cell_type": "markdown",
      "metadata": {
        "id": "m7Z-9-5zpmMZ",
        "colab_type": "text"
      },
      "source": [
        "### Hapaxes"
      ]
    },
    {
      "cell_type": "markdown",
      "metadata": {
        "id": "UO6sbMGtpo-R",
        "colab_type": "text"
      },
      "source": [
        "Words that occur exactly once in the text"
      ]
    },
    {
      "cell_type": "code",
      "metadata": {
        "id": "9E_qLCBdpmV0",
        "colab_type": "code",
        "outputId": "4b05218d-37e0-4d3f-cd3f-903809a7e6d1",
        "colab": {
          "base_uri": "https://localhost:8080/",
          "height": 54
        }
      },
      "source": [
        "print(fdist.hapaxes())"
      ],
      "execution_count": 134,
      "outputs": [
        {
          "output_type": "stream",
          "text": [
            "['Lewis', 'Carroll', '1865', ']', 'Hole', 'conversations', 'daisy', 'chain', 'daisies', 'pink', 'wondered', 'actually', 'TOOK', 'WATCH', 'OUT', 'ITS', 'WAISTCOAT', 'POCKET', 'flashed', 'waistcoat', 'burning', 'field', 'fortunately', 'pop', 'tunnel', 'stopping', 'Either', 'plenty', 'maps', 'hung', 'pegs', 'labelled', 'ORANGE', 'MARMALADE', 'disappointment', 'empty', 'drop', 'killing', 'brave', 'centre', 'schoolroom', 'practice', 'yes', 'THROUGH', 'downward', 'Antipathies', 'country', 'New', 'Zealand', 'Australia', 'curtsey', 'CURTSEYING', '?)', 'ignorant', 'miss', 'saucer', 'dreamy', 'dozing', 'truth', 'heap', 'sticks', 'overhead', 'hurrying', 'lit', 'lamps', 'locked', 'Suddenly', 'solid', 'belong', 'curtain', 'fifteen', 'lock', 'fitted', 'rat', 'knelt', 'loveliest', 'wander', 'doorway', 'lately', 'telescopes', 'printed', 'letters', 'Drink', 'histories', 'burnt', 'eaten', 'poker', 'bleeds', 'disagree', 'flavour', 'cherry', 'tart', 'custard', 'pine', 'apple', 'roast', 'turkey', 'toffee', 'buttered', 'toast', 'shrink', 'flame', 'blown', 'plainly', 'climb', 'slippery', 'advise', 'advice', 'seldom', 'scolded', 'cheated', 'pretending', 'pretend', 'respectable', 'Soon', 'EAT', 'currants', 'creep', 'ate', \"?',\", 'eats', 'common', 'II', 'Pool', 'Tears', 'Curiouser', 'curiouser', 'largest', 'Good', 'stockings', 'able', ';--', 'Christmas', 'planning', 'carrier', 'odd', 'RIGHT', 'FOOT', 'ESQ', 'HEARTHRUG', 'NEAR', 'FENDER', 'WITH', 'LOVE', 'hopeless', 'Stop', 'shedding', 'gallons', 'reaching', 'dried', 'returning', 'splendidly', 'dressed', 'desperate', 'skurried', 'darkness', 'fanning', 'Dear', 'puzzle', 'Ada', 'Besides', 'five', 'thirteen', 'seven', 'Multiplication', 'Table', 'signify', 'Geography', 'London', 'crocodile', 'Improve', 'shining', 'pour', 'waters', 'Nile', 'scale', 'cheerfully', 'welcome', 'fishes', 'poky', 'toys', 'burst', 'measure', 'avoid', 'existence', 'speed', 'splash', 'somehow', 'seaside', 'coast', 'bathing', 'machines', 'sand', 'wooden', 'spades', 'lodging', 'houses', 'station', 'wept', 'punished', 'drowned', 'walrus', 'hippopotamus', 'harm', 'brother', 'Latin', 'Grammar', \"!')\", 'inquisitively', 'daresay', 'Ou', 'est', 'ma', 'chatte', 'leap', 'quiver', 'passionate', 'soothing', 'lazily', 'sits', 'licking', 'soft', 'bristling', 'Our', 'family', 'HATED', 'nasty', 'vulgar', 'eyed', 'terrier', 'curly', 'farmer', 'hundred', 'pounds', 'kills', 'rats', 'commotion', 'softly', 'III', 'Race', 'Long', 'Tale', 'draggled', 'feathers', 'clinging', 'dripping', 'consultation', 'familiarly', 'known', 'Indeed', 'positively', 'refused', 'Sit', 'LL', 'fixed', 'cold', 'Ahem', 'driest', 'favoured', 'pope', 'submitted', 'leaders', 'accustomed', 'usurpation', 'conquest', 'shiver', 'declared', 'Stigand', 'patriotic', 'Canterbury', 'crossly', 'worm', '\\'\"--', 'Edgar', 'Atheling', 'conduct', 'moderate', 'insolence', 'Normans', 'rising', 'meeting', 'adjourn', 'immediate', 'adoption', 'energetic', 'remedies', 'bent', 'hide', 'tittered', 'audibly', 'paused', 'SOMEBODY', 'inclined', 'winter', 'circle', 'exact', 'shape', 'placed', 'Shakespeare', 'EVERYBODY', 'calling', 'despair', 'pulled', 'luckily', 'prize', 'Hand', 'presented', 'acceptance', 'elegant', 'laugh', 'complained', 'theirs', 'ones', 'patted', 'begged', 'promised', 'C', 'Mine', 'prosecute', 'denial', 'cur', 'Such', 'Sir', 'cunning', 'condemn', 'death', 'fifth', 'undo', 'insult', 'growled', 'quicker', 'daughter', 'lose', 'snappishly', 'patience', 'oyster', 'addressing', 'pet', 'Magpie', 'wrapping', 'Canary', 'bed', 'various', 'pretexts', 'spirited', 'IV', 'Sends', 'Little', 'naturedly', 'completely', 'Run', 'Quick', 'pointed', 'housemaid', 'finds', 'neat', 'brass', 'W', 'RABBIT', 'engraved', 'upstairs', 'lest', 'fancying', 'Coming', 'tidy', 'hoped', 'pairs', 'nevertheless', 'uncorked', 'lips', 'SOMETHING', 'whenever', 'expected', 'pressing', 'ceiling', 'save', 'Alas', 'kneel', 'Still', 'resource', 'Luckily', 'magic', 'grew', 'pleasanter', 'rabbits', 'fairy', 'tales', 'HERE', 'comfort', 'foolish', 'Fetch', 'inwards', 'attempt', 'failure', 'possible', 'frame', 'Sounds', 'pronounced', 'arrum', \".')\", 'fills', 'whispers', 'coward', 'shrieks', 'frames', 'pulling', 'rumbling', 'cartwheels', 'ladder', 'lad', 'tie', 'rope', 'loose', 'Heads', 'Nay', 'Shy', 'fireplace', 'scratching', 'scrambling', 'Catch', 'Brandy', 'choke', 'Last', 'thank', 'ye', 'flustered', 'Jack', 'rocket', 'produced', 'SOME', 'swallowed', 'thick', 'arranged', 'peering', 'enormous', 'feebly', 'stretching', 'touch', 'whistle', 'terribly', 'spite', 'Hardly', 'whereupon', 'yelp', 'rushed', 'worry', 'dodged', 'tumbled', 'heels', 'cart', 'horse', 'trampled', 'series', 'charges', 'forwards', 'barking', 'hoarsely', 'faint', 'leant', 'buttercup', 'fanned', 'teaching', 'tricks', 'blades', 'circumstances', 'caterpillar', 'V', 'Advice', 'languid', 'shyly', 'sternly', 'MYSELF', 'clearly', 'sizes', 'chrysalis', 'butterfly', 'irritated', 'state', 'promising', 'swallowing', 'wait', 'puffed', 'HOW', 'DOTH', 'BUSY', 'BEE', 'Repeat', 'incessantly', 'son', 'feared', 'injure', 'brain', 'uncommonly', 'fat', 'sage', 'grey', 'limbs', 'supple', 'ointment', 'shilling', 'Allow', 'couple', 'tougher', 'suet', 'bones', 'beak', 'argued', 'wife', 'muscular', 'strength', 'jaw', 'Has', 'steady', 'balanced', 'awfully', 'airs', 'altered', 'DON', 'contradicted', 'losing', 'content', 'rearing', 'upright', 'piteous', 'crawled', 'underneath', 'closely', 'swallow', 'morsel', 'immense', 'length', 'rise', 'stalk', 'result', 'curving', 'graceful', 'zigzag', 'dive', 'tops', 'hiss', 'pigeon', 'flown', 'wings', 'subdued', 'sob', 'banks', 'hedges', 'pleasing', 'hatching', 'weeks', 'sorry', 'annoyed', 'highest', 'raising', 'needs', 'wriggling', 'invent', 'deepest', 'contempt', 'denying', 'egg', 'truthful', 'adding', 'YOURS', 'raw', 'nest', 'crouched', 'untwist', 'Whoever', 'frighten', 'wits', 'righthand', 'VI', '--(', 'judging', ')--', 'rapped', 'knuckles', 'footmen', 'powdered', 'crept', 'producing', 'Frog', 'From', 'curls', 'stupidly', 'knocked', 'reasons', 'inside', 'kettle', 'INSIDE', 'knock', 'uncivil', 'tomorrow', 'skimming', 'grazed', 'maybe', 'louder', 'argue', 'drive', 'crazy', 'variations', 'Anything', 'whistling', 'desperately', 'idiotic', 'smoke', 'stool', 'Even', 'sneezed', 'occasionally', 'alternately', 'hearth', 'grinning', 'manners', 'grins', 'violence', 'fix', 'irons', 'saucepans', 'blows', 'PLEASE', 'agony', 'terror', 'PRECIOUS', 'unusually', 'saucepan', 'flew', 'minded', 'axis', 'Talking', 'axes', 'chop', 'glanced', 'Twenty', 'bother', 'abide', 'figures', 'lullaby', 'shake', 'roughly', 'annoy', 'Because', 'teases', '):--', 'howled', 'enjoy', 'pleases', 'flinging', 'frying', 'pan', 'star', 'snorting', 'steam', 'engine', 'doubling', 'straightening', 'tight', 'prevent', 'undoing', 'kill', 'murder', 'grunt', 'expressing', 'snout', 'seriously', 'sobbed', 'NO', 'carry', 'relieved', 'trot', 'handsome', 'seeing', 'bough', 'yards', 'natured', 'teeth', 'treated', 'respect', 'Puss', 'wider', 'depends', 'SOMEWHERE', 'Visit', 'To', 'grant', 'growls', 'wags', 'wag', 'Therefore', 'growling', 'happening', 'hatters', 'branch', 'fig', 'appearing', 'vanishing', 'farther', 'chimneys', 'thatched', 'towards', 'VII', 'Mad', 'Tea', 'Party', 'elbows', 'PLENTY', 'chair', 'cutting', 'severity', 'raven', 'desk', 'ravens', 'desks', 'fourth', 'works', 'grumbled', 'gloomily', 'readily', 'stays', 'poured', 'riddle', 'slightest', 'Nor', 'wearily', 'waste', 'answers', 'accounts', 'terms', 'Half', 'mournfully', 'quarrelled', 'given', 'Like', 'tray', 'pinch', 'bawled', 'murdering', 'mournful', 'whiles', 'vote', 'alarmed', 'proposal', 'fellows', 'quick', 'Elsie', 'Lacie', 'Tillie', 'interest', 'eating', 'drinking', 'ways', 'LESS', 'opinion', 'helped', 'Sh', 'sh', 'interrupt', 'consented', 'promise', 'clean', 'unwillingly', 'jug', 'offend', 'eh', 'IN', 'choosing', 'doze', 'woke', 'traps', 'moon', 'memory', 'drawing', 'rudeness', 'disgust', 'teapot', 'THERE', 'stupidest', 'leading', 'today', 'unlocking', 'THEN', 'VIII', 'Croquet', 'Ground', 'entrance', 'Look', 'paint', 'jogged', 'Always', 'blame', 'deserved', 'spoken', 'tulip', 'onions', 'flung', 'brush', 'unjust', 'chanced', 'RED', 'afore', 'clubs', 'oblong', 'corners', 'diamonds', 'merrily', 'couples', 'hearts', 'Kings', 'Queens', 'recognised', 'noticing', 'velvet', 'KING', 'QUEEN', 'HEARTS', 'processions', 'opposite', 'Idiot', 'THESE', 'rosetree', 'pattern', 'backs', 'fury', 'glaring', 'beast', 'Nonsense', 'bowing', 'Leave', 'humble', 'meanwhile', 'examining', 'remaining', 'execute', 'protection', 'pot', 'marched', 'Their', 'evidently', 'roared', 'peeping', '!\"?\\'', 'boxed', 'laughter', 'hush', 'thunder', 'ridges', 'furrows', 'balls', 'mallets', 'double', 'chief', 'managing', 'comfortably', 'straightened', 'expression', 'bursting', 'laughing', 'provoking', 'act', 'crawling', 'ridge', 'furrow', 'send', 'doubled', 'parts', 'played', 'fighting', 'furious', 'uneasy', 'beheading', 'appearance', 'nodded', 'account', 'someone', 'fairly', 'complaining', 'quarrel', 'oneself', 'attends', 'arch', 'croqueted', 'win', 'finishing', 'kiss', 'likes', 'impertinent', 'king', 'passing', 'settling', 'difficulties', 'screaming', 'search', 'engaged', 'croqueting', 'helpless', 'appealed', 'settle', 'arguments', 'HIS', 'weren', 'prison', 'arrow', 'fading', 'IX', 'Story', 'affectionately', 'pleasant', 'hopeful', 'AT', 'Maybe', 'vinegar', 'sour', 'camomile', 'bitter', 'barley', 'sweet', 'stingy', 'Tut', 'tut', 'squeezed', 'closer', 'uncomfortably', 'bore', 'Somebody', 'minding', 'morals', 'waist', 'Birds', 'feather', 'flock', 'Right', 'mineral', 'attended', 'vegetable', 'imagine', 'cheap', 'birthday', 'Thinking', 'dig', 'worried', 'died', 'favourite', 'linked', 'tremble', 'thunderstorm', 'fair', 'warning', 'absence', 'shade', 'delay', 'cost', 'Those', 'whom', 'sentenced', 'company', 'pardoned', 'picture', 'lazy', 'leaving', 'rubbed', 'chuckled', 'executes', 'ledge', 'rock', 'pitied', 'hollow', 'EVEN', 'occasional', 'exclamation', 'Hjckrrh', 'calmly', 'sink', 'Drive', 'mayn', 'educations', 'VE', 'extras', 'learned', 'Certainly', 'OURS', 'bill', 'WASHING', 'extra', 'afford', 'inquired', 'Reeling', 'Writhing', 'Arithmetic', 'Ambition', 'Distraction', 'Derision', 'lifted', 'uglifying', 'beautify', 'prettier', 'uglify', 'simpleton', 'encouraged', 'counting', 'subjects', 'flappers', 'ancient', 'modern', 'Seaography', 'conger', 'Stretching', 'Fainting', 'Coils', 'stiff', 'Hadn', 'Classics', 'crab', 'Laughing', 'Grief', 'hid', 'Ten', 'lessen', 'eleventh', 'holiday', 'twelfth', 'games', 'X', 'flapper', 'Same', 'bone', 'punching', 'cheeks', 'introduced', \"')\", 'form', 'lines', 'Seals', 'salmon', 'cleared', 'jelly', 'Each', 'partner', 'partners', 'retire', 'bound', 'Swim', 'capering', 'Change', 'yelled', 'Back', 'land', 'dropping', 'pretty', 'forepaws', 'See', 'shingle', 'Too', 'askance', 'thanked', 'scaly', 'England', 'France', 'beloved', 'dinn', 'Dinn', \".--'\", 'thrown', 'DOES', 'BOOTS', 'SHOES', 'shiny', 'blacking', 'Boots', 'Soles', 'eels', 'shrimp', 'anywhere', 'Wouldn', 'journey', 'purpose', '\"?\\'', 'impatient', 'explanations', 'gained', 'listeners', 'Stand', '\"\\'', 'TIS', 'VOICE', 'SLUGGARD', 'baked', 'duck', 'eyelids', 'Trims', 'belt', 'buttons', 'sands', 'gay', 'lark', 'contemptuous', 'Shark', 'tide', 'rises', 'sharks', 'His', 'tremulous', '.]', 'uncommon', 'EVER', 'explained', 'disobey', 'sharing', 'crust', 'gravy', 'meat', 'share', 'treat', 'boon', 'Was', 'permitted', 'received', 'fork', 'banquet', '--]', 'Or', 'Hm', 'accounting', 'tastes', 'Sing', 'rich', 'Waiting', 'tureen', 'dainties', 'Game', 'beauti', 'FUL', 'SOUP', 'Chorus', 'panted', 'faintly', 'breeze', 'XI', 'Stole', 'Tarts', 'seated', 'throne', 'arrived', 'standing', 'chains', 'soldier', 'guard', 'refreshments', 'pass', 'justice', 'wore', 'frontispiece', 'comfortable', 'becoming', 'rightly', 'men', 'Stupid', 'indignant', 'spell', 'neighbour', 'muddle', 'squeaked', 'juror', 'Herald', 'accusation', 'stole', 'Fourteenth', 'Fifteenth', 'Sixteenth', 'Write', 'dates', 'reduced', 'shillings', 'pence', 'hat', 'Stolen', 'memorandum', 'hatter', 'fidgeted', 'spot', 'encourage', 'shifting', 'remain', 'squeeze', 'boldly', 'reasonable', 'pace', 'ridiculous', 'Bring', 'thin', 'dunce', 'twinkled', 'denies', 'speaker', 'canvas', 'bag', 'tied', 'strings', 'newspapers', 'trials', 'attempts', 'applause', 'understood', 'lower', 'SIT', 'officer', 'Shan', 'folding', 'Collar', 'shrieked', 'Behead', 'Suppress', 'Pinch', 'ache', 'fumbled', 'YET', 'Imagine', 'XII', 'Evidence', 'flurry', 'tipped', 'skirt', 'upsetting', 'sprawling', 'reminding', 'globe', 'accidentally', 'BEG', 'dismay', 'vague', 'die', 'cannot', 'emphasis', 'haste', 'downwards', 'unable', 'signifies', 'shock', 'pencils', 'diligently', 'overcome', 'gazing', 'WHATEVER', 'respectful', 'cackled', 'Rule', 'Forty', 'PERSONS', 'THAN', 'MILE', 'HIGH', 'LEAVE', 'COURT', 'mile', 'Nearly', 'invented', 'oldest', 'Number', 'OUTSIDE', 'handwriting', 'queerest', 'imitated', 'prove', 'sign', 'mischief', 'honest', 'clapping', 'PROVES', 'guilt', 'proves', 'Read', 'Begin', 'character', '):', 'push', 'returned', 'Though', 'Involved', 'affair', 'trusts', 'Before', 'fit', 'obstacle', 'Him', 'ourselves', 'secret', 'Between', 'sixpence', 'attempted', 'saves', 'spreading', 'SWIM', 'cardboard', 'WE', 'KNOW', 'BE', 'TRUE', 'RETURNED', 'FROM', 'clearer', 'BEFORE', 'HAD', 'fits', 'furiously', 'inkstand', 'ink', 'trickling', 'pun', 'consider', 'twentieth', 'Sentence', 'Stuff', 'purple', 'flying', 'brushing', 'fluttered', 'kissed', 'setting', 'dreaming', 'dreamed', 'clasped', 'toss', 'listened', 'rustled', 'splashed', 'neighbouring', 'rattle', 'shared', 'meal', 'crashed', 'choking', 'believed', 'reality', 'rustling', 'rippling', 'reeds', 'tinkling', 'sheep', 'bells', 'cries', 'shepherd', 'noises', 'clamour', 'busy', 'farm', 'yard', 'lowing', 'cattle', 'Lastly', 'pictured', 'riper', 'years', 'loving', 'childhood', 'gather', 'THEIR', 'sorrows', 'joys', 'remembering', 'happy']\n"
          ],
          "name": "stdout"
        }
      ]
    },
    {
      "cell_type": "markdown",
      "metadata": {
        "id": "f0PcNs4ap1fU",
        "colab_type": "text"
      },
      "source": [
        "### Collocation"
      ]
    },
    {
      "cell_type": "markdown",
      "metadata": {
        "id": "CTsadFVup1pg",
        "colab_type": "text"
      },
      "source": [
        "A pair or group of words"
      ]
    },
    {
      "cell_type": "code",
      "metadata": {
        "id": "vhUe_BC7p17D",
        "colab_type": "code",
        "outputId": "4e57daa0-d10b-40c0-8eeb-6d34c31b84f2",
        "colab": {
          "base_uri": "https://localhost:8080/",
          "height": 122
        }
      },
      "source": [
        "print(imported_text.collocations())"
      ],
      "execution_count": 135,
      "outputs": [
        {
          "output_type": "stream",
          "text": [
            "Mock Turtle; said Alice; March Hare; White Rabbit; thought Alice;\n",
            "golden key; beautiful Soup; white kid; good deal; kid gloves; Mary\n",
            "Ann; yer honour; three gardeners; play croquet; Lobster Quadrille;\n",
            "ootiful Soo; great hurry; old fellow; trembling voice; poor little\n",
            "None\n"
          ],
          "name": "stdout"
        }
      ]
    },
    {
      "cell_type": "markdown",
      "metadata": {
        "id": "AYR41xFlvSK4",
        "colab_type": "text"
      },
      "source": [
        "## WordNet"
      ]
    },
    {
      "cell_type": "markdown",
      "metadata": {
        "id": "oAMDcXmSvv8q",
        "colab_type": "text"
      },
      "source": [
        "### Synonym sets"
      ]
    },
    {
      "cell_type": "code",
      "metadata": {
        "id": "j7D_KeGevgS6",
        "colab_type": "code",
        "outputId": "b0b9f9ee-2c92-49c2-a801-36cc3c4b6fe7",
        "colab": {
          "base_uri": "https://localhost:8080/",
          "height": 720
        }
      },
      "source": [
        "for synset in wn.synsets('Test'):\n",
        "  print(f'{str(synset)} ; \\n\\tdefinition : {synset.definition()} ; \\n\\texamples : {synset.examples()}')"
      ],
      "execution_count": 136,
      "outputs": [
        {
          "output_type": "stream",
          "text": [
            "Synset('trial.n.02') ; \n",
            "\tdefinition : trying something to find out about it ; \n",
            "\texamples : ['a sample for ten days free trial', 'a trial of progesterone failed to relieve the pain']\n",
            "Synset('test.n.02') ; \n",
            "\tdefinition : any standardized procedure for measuring sensitivity or memory or intelligence or aptitude or personality etc ; \n",
            "\texamples : ['the test was standardized on a large sample of students']\n",
            "Synset('examination.n.02') ; \n",
            "\tdefinition : a set of questions or exercises evaluating skill or knowledge ; \n",
            "\texamples : ['when the test was stolen the professor had to make a new set of questions']\n",
            "Synset('test.n.04') ; \n",
            "\tdefinition : the act of undergoing testing ; \n",
            "\texamples : ['he survived the great test of battle', 'candidates must compete in a trial of skill']\n",
            "Synset('test.n.05') ; \n",
            "\tdefinition : the act of testing something ; \n",
            "\texamples : ['in the experimental trials the amount of carbon was measured separately', 'he called each flip of the coin a new trial']\n",
            "Synset('test.n.06') ; \n",
            "\tdefinition : a hard outer covering as of some amoebas and sea urchins ; \n",
            "\texamples : []\n",
            "Synset('test.v.01') ; \n",
            "\tdefinition : put to the test, as for its quality, or give experimental use to ; \n",
            "\texamples : ['This approach has been tried with good results', 'Test this recipe']\n",
            "Synset('screen.v.01') ; \n",
            "\tdefinition : test or examine for the presence of disease or infection ; \n",
            "\texamples : ['screen the blood for the HIV virus']\n",
            "Synset('quiz.v.01') ; \n",
            "\tdefinition : examine someone's knowledge of something ; \n",
            "\texamples : ['The teacher tests us every week', 'We got quizzed on French irregular verbs']\n",
            "Synset('test.v.04') ; \n",
            "\tdefinition : show a certain characteristic when tested ; \n",
            "\texamples : ['He tested positive for HIV']\n",
            "Synset('test.v.05') ; \n",
            "\tdefinition : achieve a certain score or rating on a test ; \n",
            "\texamples : ['She tested high on the LSAT and was admitted to all the good law schools']\n",
            "Synset('test.v.06') ; \n",
            "\tdefinition : determine the presence or properties of (a substance) ; \n",
            "\texamples : []\n",
            "Synset('test.v.07') ; \n",
            "\tdefinition : undergo a test ; \n",
            "\texamples : [\"She doesn't test well\"]\n"
          ],
          "name": "stdout"
        }
      ]
    },
    {
      "cell_type": "markdown",
      "metadata": {
        "id": "vrQ78Q3cwPnN",
        "colab_type": "text"
      },
      "source": [
        "### Lemmas"
      ]
    },
    {
      "cell_type": "markdown",
      "metadata": {
        "id": "ir7dAdBWwRww",
        "colab_type": "text"
      },
      "source": [
        "Each synonym in the above synsets is called lemma"
      ]
    },
    {
      "cell_type": "code",
      "metadata": {
        "id": "exwIBYefwWUo",
        "colab_type": "code",
        "outputId": "3689b4df-436f-47fc-f229-4b3157627b92",
        "colab": {
          "base_uri": "https://localhost:8080/",
          "height": 54
        }
      },
      "source": [
        "print(wn.synset('test.n.02').lemma_names())"
      ],
      "execution_count": 137,
      "outputs": [
        {
          "output_type": "stream",
          "text": [
            "['test', 'mental_test', 'mental_testing', 'psychometric_test']\n"
          ],
          "name": "stdout"
        }
      ]
    },
    {
      "cell_type": "markdown",
      "metadata": {
        "id": "FZpfXgDeySON",
        "colab_type": "text"
      },
      "source": [
        "### Hyponyms"
      ]
    },
    {
      "cell_type": "code",
      "metadata": {
        "id": "_IvRLhP9yUmL",
        "colab_type": "code",
        "outputId": "61ef8de1-0598-4161-c9dd-06588feffea7",
        "colab": {
          "base_uri": "https://localhost:8080/",
          "height": 105
        }
      },
      "source": [
        "test = wn.synset('test.n.02')\n",
        "for synset in test.hyponyms():\n",
        "  for lemma in synset.lemmas():\n",
        "    print(lemma.name())"
      ],
      "execution_count": 138,
      "outputs": [
        {
          "output_type": "stream",
          "text": [
            "intelligence_test\n",
            "IQ_test\n",
            "personality_test\n",
            "sub-test\n"
          ],
          "name": "stdout"
        }
      ]
    },
    {
      "cell_type": "markdown",
      "metadata": {
        "id": "ikw_ETf_zaOt",
        "colab_type": "text"
      },
      "source": [
        "### Hypernym"
      ]
    },
    {
      "cell_type": "code",
      "metadata": {
        "id": "KYJXMEOdzcFV",
        "colab_type": "code",
        "outputId": "530f8bc1-0bb5-40bd-f989-582f7ae35f04",
        "colab": {
          "base_uri": "https://localhost:8080/",
          "height": 156
        }
      },
      "source": [
        "print(wn.synset('test.n.02'))\n",
        "print(wn.synset('test.n.02').hypernyms())\n",
        "print(wn.synset('test.n.02').hypernyms()[0].hypernyms())\n",
        "print(wn.synset('test.n.02').hypernyms()[0].hypernyms()[0].hypernyms())\n",
        "print(wn.synset('test.n.02').hypernyms()[0].hypernyms()[0].hypernyms()[0].hypernyms())\n",
        "print(wn.synset('test.n.02').hypernyms()[0].hypernyms()[0].hypernyms()[0].hypernyms()[0].hypernyms())\n",
        "print(wn.synset('test.n.02').hypernyms()[0].hypernyms()[0].hypernyms()[0].hypernyms()[0].hypernyms()[0].hypernyms())"
      ],
      "execution_count": 139,
      "outputs": [
        {
          "output_type": "stream",
          "text": [
            "Synset('test.n.02')\n",
            "[Synset('mental_measurement.n.01')]\n",
            "[Synset('measurement.n.01')]\n",
            "[Synset('activity.n.01')]\n",
            "[Synset('act.n.02')]\n",
            "[Synset('event.n.01')]\n",
            "[Synset('psychological_feature.n.01')]\n"
          ],
          "name": "stdout"
        }
      ]
    },
    {
      "cell_type": "markdown",
      "metadata": {
        "id": "vLy_P_i00I3h",
        "colab_type": "text"
      },
      "source": [
        "### Word Similarity"
      ]
    },
    {
      "cell_type": "markdown",
      "metadata": {
        "id": "59qt95vx0L_G",
        "colab_type": "text"
      },
      "source": [
        "#### Path Similarity"
      ]
    },
    {
      "cell_type": "markdown",
      "metadata": {
        "id": "VXnTGOEc0SI_",
        "colab_type": "text"
      },
      "source": [
        "Similarity in terms of distance between hypernyms and hyponyms"
      ]
    },
    {
      "cell_type": "code",
      "metadata": {
        "id": "R2c2aW6Q0bOD",
        "colab_type": "code",
        "outputId": "868962e0-7a76-4b75-c58b-b5873f6cbb1f",
        "colab": {
          "base_uri": "https://localhost:8080/",
          "height": 156
        }
      },
      "source": [
        "word_1 = wn.synset('test.n.01')\n",
        "word_2 = wn.synset('test.n.01')\n",
        "print(word_1.path_similarity(word_2))\n",
        "\n",
        "word_1 = wn.synset('test.n.01')\n",
        "word_2 = wn.synset('try.v.02')\n",
        "print(word_1.path_similarity(word_2))\n",
        "\n",
        "word_1 = wn.synset('exam.n.01')\n",
        "word_2 = wn.synset('experiment.n.01')\n",
        "print('\\n-----------------------------')\n",
        "print(word_1.path_similarity(word_2))\n",
        "print(word_1.wup_similarity(word_2))\n",
        "print(word_1.lch_similarity(word_2))"
      ],
      "execution_count": 140,
      "outputs": [
        {
          "output_type": "stream",
          "text": [
            "1.0\n",
            "None\n",
            "\n",
            "-----------------------------\n",
            "0.1111111111111111\n",
            "0.5555555555555556\n",
            "1.4403615823901665\n"
          ],
          "name": "stdout"
        }
      ]
    },
    {
      "cell_type": "markdown",
      "metadata": {
        "id": "BwJNS7INse9N",
        "colab_type": "text"
      },
      "source": [
        "## Word Cloud"
      ]
    },
    {
      "cell_type": "code",
      "metadata": {
        "id": "XtRwpZgssfG_",
        "colab_type": "code",
        "colab": {}
      },
      "source": [
        "text = 'Software testing is the process of verifying a system with the ' \\\n",
        "        'purpose of identifying any errors, gaps or missing requirement ' \\\n",
        "        'versus the actual requirement. Software testing is broadly ' \\\n",
        "        'categorised into two types - functional testing and non-functional ' \\\n",
        "        'testing.'\n",
        "word_cloud = WordCloud(stopwords=stop_words()).generate(text)"
      ],
      "execution_count": 0,
      "outputs": []
    },
    {
      "cell_type": "markdown",
      "metadata": {
        "id": "zhBhtRRXs7Gd",
        "colab_type": "text"
      },
      "source": [
        "### Plot"
      ]
    },
    {
      "cell_type": "code",
      "metadata": {
        "id": "klbBPwIvs8Dt",
        "colab_type": "code",
        "outputId": "25406e27-add8-4a38-aa4c-0838ae5863ef",
        "colab": {
          "base_uri": "https://localhost:8080/",
          "height": 198
        }
      },
      "source": [
        "def plot_word_cloud(word_cloud):\n",
        "  plt.imshow(word_cloud)\n",
        "  plt.axis('off')\n",
        "  plt.show()\n",
        "\n",
        "plot_word_cloud(word_cloud)"
      ],
      "execution_count": 142,
      "outputs": [
        {
          "output_type": "display_data",
          "data": {
            "image/png": "[encoded data removed]",
            "text/plain": [
              "<Figure size 432x288 with 1 Axes>"
            ]
          },
          "metadata": {
            "tags": []
          }
        }
      ]
    },
    {
      "cell_type": "markdown",
      "metadata": {
        "id": "awh976xOLfcF",
        "colab_type": "text"
      },
      "source": [
        "## Stemming"
      ]
    },
    {
      "cell_type": "code",
      "metadata": {
        "id": "U1PsoKiALg86",
        "colab_type": "code",
        "colab": {
          "base_uri": "https://localhost:8080/",
          "height": 85
        },
        "outputId": "0977e169-fb5f-45b3-c08f-74bb2ad1bb1a"
      },
      "source": [
        "stemmer = PorterStemmer()\n",
        "words = ['tested', 'testing', 'test', 'tests']\n",
        "\n",
        "for word in words:\n",
        "  print(f'Stem of the word {word} is {stemmer.stem(word)}')"
      ],
      "execution_count": 143,
      "outputs": [
        {
          "output_type": "stream",
          "text": [
            "Stem of the word tested is test\n",
            "Stem of the word testing is test\n",
            "Stem of the word test is test\n",
            "Stem of the word tests is test\n"
          ],
          "name": "stdout"
        }
      ]
    },
    {
      "cell_type": "markdown",
      "metadata": {
        "id": "6U94LBhsMXVC",
        "colab_type": "text"
      },
      "source": [
        "## Lemmatization"
      ]
    },
    {
      "cell_type": "code",
      "metadata": {
        "id": "yZNaWkX0MiyV",
        "colab_type": "code",
        "colab": {
          "base_uri": "https://localhost:8080/",
          "height": 85
        },
        "outputId": "54ed522a-f0a3-4bbb-e609-b18c90da0334"
      },
      "source": [
        "lemmatizer = WordNetLemmatizer()\n",
        "word = 'better'\n",
        "\n",
        "print(lemmatizer.lemmatize(word, pos='v'))\n",
        "print(lemmatizer.lemmatize(word, pos='a'))\n",
        "print(lemmatizer.lemmatize(word, pos='r'))\n",
        "print(lemmatizer.lemmatize(word, pos='n'))"
      ],
      "execution_count": 144,
      "outputs": [
        {
          "output_type": "stream",
          "text": [
            "better\n",
            "good\n",
            "well\n",
            "better\n"
          ],
          "name": "stdout"
        }
      ]
    }
  ]
}