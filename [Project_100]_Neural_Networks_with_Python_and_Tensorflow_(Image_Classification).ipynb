{
  "nbformat": 4,
  "nbformat_minor": 0,
  "metadata": {
    "colab": {
      "name": "[Project 100] Neural Networks with Python and Tensorflow (Image Classification).ipynb",
      "provenance": [],
      "collapsed_sections": [],
      "toc_visible": true,
      "authorship_tag": "ABX9TyOatmU2U0l6jSflymWzCpRB",
      "include_colab_link": true
    },
    "kernelspec": {
      "name": "python3",
      "display_name": "Python 3"
    }
  },
  "cells": [
    {
      "cell_type": "markdown",
      "metadata": {
        "id": "view-in-github",
        "colab_type": "text"
      },
      "source": [
        "<a href=\"https://colab.research.google.com/github/id-shiv/project_notebooks/blob/master/%5BProject_100%5D_Neural_Networks_with_Python_and_Tensorflow_(Image_Classification).ipynb\" target=\"_parent\"><img src=\"https://colab.research.google.com/assets/colab-badge.svg\" alt=\"Open In Colab\"/></a>"
      ]
    },
    {
      "cell_type": "markdown",
      "metadata": {
        "id": "IfqA6165Vtfb",
        "colab_type": "text"
      },
      "source": [
        "# Neural Networks\n"
      ]
    },
    {
      "cell_type": "markdown",
      "metadata": {
        "id": "IQVt84VOgqW3",
        "colab_type": "text"
      },
      "source": [
        "## Introduction\n",
        "\n",
        "* Input Layer : is the first layer.\n",
        "> Consists of recommendation for a certain input.  \n",
        "> Flatten : Convert multi-dimentional (array within an array) data into one-dimentional data.  \n",
        "* Hidden Layer : include hidden layers for computation to improve the accuracy of the model.  \n",
        "> Number of neurons in hiddden layer may be percentage of number of input features\n",
        "* Output Layer : is the last layer.\n",
        "> Outputs probability of recommendation being correct.\n",
        "\n",
        "* Each connection from one neuron to another neuron is associated with weights."
      ]
    },
    {
      "cell_type": "markdown",
      "metadata": {
        "id": "43vZfrrQgg5e",
        "colab_type": "text"
      },
      "source": [
        "## Model\n",
        "\n",
        "(known as Weighted Sum)\n",
        "```\n",
        "Output = Sum ( Input Value X Weights) + Sum (Biases)\n",
        "```\n",
        "e.g.:\n",
        "```\n",
        "Model = v1 * w1 + v2 * w2 + v3 * w3 + v4 * w4 + b1 + b2 + b3 + b4\n",
        "```\n",
        "\n",
        "## Working\n",
        "\n",
        "* Model starts off with random weights and biases and checks for correctness of output in training data.\n",
        "* Model adjuts weights and biases to predict the training data against its output with multiple repeatations. \n",
        "* All of the output neurons will be fired to certain value which indicates the percentage \\ probabibility of that output being accurate"
      ]
    },
    {
      "cell_type": "markdown",
      "metadata": {
        "id": "RRY0I63_hGF5",
        "colab_type": "text"
      },
      "source": [
        "### Activation Function\n",
        "\n",
        "Context : Above model is similar to a linear function (mx + b) limits the degree of complexity.  \n",
        "Allows you to create the above model with more complex non-linear higher degree function.\n",
        "\n",
        "Output : \n",
        "```\n",
        "f(Sum ( Input Value X Weights) + Sum (Biases))\n",
        "```\n",
        "\n",
        "e.g. : \n",
        "* Sigmoid function (Sets the output to be in between -1 and 1).\n",
        "* Rectified linear unit (relu) - takes all the values that are negative and makes to 0 and all the values that are positive makes them higher positive.\n",
        "* Softmax function"
      ]
    },
    {
      "cell_type": "markdown",
      "metadata": {
        "id": "V5QADLaRhLkb",
        "colab_type": "text"
      },
      "source": [
        "### Loss function\n",
        "\n",
        "Loss functions are the ones responsible to adjust the weights and biases to predict outputs with better accuracy.  \n",
        "Loss functions is way of calculating error while predicting outputs (in training).  \n",
        "\n",
        "e.g.: Mean Squared Error.\n",
        "\n",
        "* Loss functions are non-linears - hence handles high degree of complexity."
      ]
    },
    {
      "cell_type": "markdown",
      "metadata": {
        "id": "A92k11GDfHFW",
        "colab_type": "text"
      },
      "source": [
        "# Code\n",
        "\n"
      ]
    },
    {
      "cell_type": "markdown",
      "metadata": {
        "id": "bvjGVoyioSSq",
        "colab_type": "text"
      },
      "source": [
        "## Libraries"
      ]
    },
    {
      "cell_type": "code",
      "metadata": {
        "id": "zP95f71hF4Jn",
        "colab_type": "code",
        "colab": {}
      },
      "source": [
        "import tensorflow as tf\n",
        "\n",
        "# Keras is an API from tensorflow to write less code\n",
        "from tensorflow import keras\n",
        "\n",
        "import numpy as np\n",
        "import matplotlib.pyplot as plt\n",
        "import pandas"
      ],
      "execution_count": 0,
      "outputs": []
    },
    {
      "cell_type": "markdown",
      "metadata": {
        "id": "OFDTi2G4n_E1",
        "colab_type": "text"
      },
      "source": [
        "## Data"
      ]
    },
    {
      "cell_type": "markdown",
      "metadata": {
        "id": "bSry26NmitPb",
        "colab_type": "text"
      },
      "source": [
        "### Import"
      ]
    },
    {
      "cell_type": "markdown",
      "metadata": {
        "id": "_i1ee4dKi2H8",
        "colab_type": "text"
      },
      "source": [
        "Data to be imported is 70k+ labelled images of fashion accessories"
      ]
    },
    {
      "cell_type": "code",
      "metadata": {
        "id": "zLu5ZoV7h9ui",
        "colab_type": "code",
        "colab": {}
      },
      "source": [
        "data = keras.datasets.fashion_mnist\n",
        "(train_images, train_labels), (test_images, test_labels) = data.load_data()"
      ],
      "execution_count": 0,
      "outputs": []
    },
    {
      "cell_type": "markdown",
      "metadata": {
        "id": "8fXfRvaljRNm",
        "colab_type": "text"
      },
      "source": [
        "Map the labels (integers) to actual text"
      ]
    },
    {
      "cell_type": "code",
      "metadata": {
        "id": "MaTcrcDrjOy9",
        "colab_type": "code",
        "colab": {}
      },
      "source": [
        "labels = ['T-shirt/ Top', 'Trouser', 'Pullover', 'Dress', 'Coat',\n",
        "          'Sandal', 'Shirt', 'Sneaker', 'Bag', 'Ankle Boot']"
      ],
      "execution_count": 0,
      "outputs": []
    },
    {
      "cell_type": "markdown",
      "metadata": {
        "id": "VEqnJzD7kgO8",
        "colab_type": "text"
      },
      "source": [
        "### View Data (Images)"
      ]
    },
    {
      "cell_type": "markdown",
      "metadata": {
        "id": "EYP7pqRUlHHd",
        "colab_type": "text"
      },
      "source": [
        "Plot the image\n",
        "\n",
        "cmap binary - for black and white"
      ]
    },
    {
      "cell_type": "code",
      "metadata": {
        "id": "_GjU4EAhkwVZ",
        "colab_type": "code",
        "colab": {
          "base_uri": "https://localhost:8080/",
          "height": 282
        },
        "outputId": "dff8492f-a2b9-4c36-f23e-c1b52149b0ac"
      },
      "source": [
        "print(labels[train_labels[3]])\n",
        "\n",
        "plt.imshow(train_images[3], cmap=plt.cm.binary)\n",
        "plt.show()"
      ],
      "execution_count": 36,
      "outputs": [
        {
          "output_type": "stream",
          "text": [
            "Dress\n"
          ],
          "name": "stdout"
        },
        {
          "output_type": "display_data",
          "data": {
            "image/png": "[encoded data removed]",
            "text/plain": [
              "<Figure size 432x288 with 1 Axes>"
            ]
          },
          "metadata": {
            "tags": []
          }
        }
      ]
    },
    {
      "cell_type": "markdown",
      "metadata": {
        "id": "o1arH2i1nUSD",
        "colab_type": "text"
      },
      "source": [
        "### Prepare Data"
      ]
    },
    {
      "cell_type": "markdown",
      "metadata": {
        "id": "PpveYfhhnhcA",
        "colab_type": "text"
      },
      "source": [
        "Reduce the values (ranging from 0 to 255) to decimal"
      ]
    },
    {
      "cell_type": "code",
      "metadata": {
        "id": "4Y2y2mbunXkK",
        "colab_type": "code",
        "colab": {}
      },
      "source": [
        "test_images = test_images / 255.0\n",
        "train_images = train_images / 255.0"
      ],
      "execution_count": 0,
      "outputs": []
    },
    {
      "cell_type": "markdown",
      "metadata": {
        "id": "x3X8xbKroLa1",
        "colab_type": "text"
      },
      "source": [
        "## Model"
      ]
    },
    {
      "cell_type": "markdown",
      "metadata": {
        "id": "LbGqITpcpLqI",
        "colab_type": "text"
      },
      "source": [
        "* Flatten Data :  \n",
        "Current Data has 28 rows X 28 pixels in each row = 784 pixels\n",
        "---\n",
        "* Dense Layer :  \n",
        "Fully connected layer - each neuron connected to each layer\n",
        "---\n",
        "* Output Layer :  \n",
        "Current problem requires 10 neurons to represent 10 categories of prediction (i.e. image labels).  \n",
        "Require 10 classes of labels for recommendation, set activation function as softmax"
      ]
    },
    {
      "cell_type": "code",
      "metadata": {
        "id": "uUNqYXPGp4rO",
        "colab_type": "code",
        "colab": {}
      },
      "source": [
        "model = keras.Sequential([keras.layers.Flatten(input_shape=(28, 28)),\n",
        "                          keras.layers.Dense(128, activation='relu'),\n",
        "                          keras.layers.Dense(10, activation='softmax'),\n",
        "])"
      ],
      "execution_count": 0,
      "outputs": []
    },
    {
      "cell_type": "markdown",
      "metadata": {
        "id": "F_1jD6fJp--k",
        "colab_type": "text"
      },
      "source": [
        "### Compile"
      ]
    },
    {
      "cell_type": "code",
      "metadata": {
        "id": "z_UbCN-5zG5n",
        "colab_type": "code",
        "colab": {}
      },
      "source": [
        "model.compile(optimizer='adam', loss='sparse_categorical_crossentropy', metrics=['accuracy'])"
      ],
      "execution_count": 0,
      "outputs": []
    },
    {
      "cell_type": "markdown",
      "metadata": {
        "id": "8_nnIi8fDon4",
        "colab_type": "text"
      },
      "source": [
        "### Fit"
      ]
    },
    {
      "cell_type": "markdown",
      "metadata": {
        "id": "yFruB1MgEIAY",
        "colab_type": "text"
      },
      "source": [
        "Epochs : # of times the model views the data for processing, required since the accuracy of the model also depends on sequence in which the model view the data"
      ]
    },
    {
      "cell_type": "code",
      "metadata": {
        "id": "7mQrpcIhDo0c",
        "colab_type": "code",
        "colab": {
          "base_uri": "https://localhost:8080/",
          "height": 119
        },
        "outputId": "f47c6785-d0d9-4924-9abb-650238ec1d3c"
      },
      "source": [
        "model.fit(train_images, train_labels, epochs=2)"
      ],
      "execution_count": 40,
      "outputs": [
        {
          "output_type": "stream",
          "text": [
            "Train on 60000 samples\n",
            "Epoch 1/2\n",
            "60000/60000 [==============================] - 4s 72us/sample - loss: 0.4957 - acc: 0.8255\n",
            "Epoch 2/2\n",
            "60000/60000 [==============================] - 4s 70us/sample - loss: 0.3752 - acc: 0.8637\n"
          ],
          "name": "stdout"
        },
        {
          "output_type": "execute_result",
          "data": {
            "text/plain": [
              "<tensorflow.python.keras.callbacks.History at 0x7fe5d7727b70>"
            ]
          },
          "metadata": {
            "tags": []
          },
          "execution_count": 40
        }
      ]
    },
    {
      "cell_type": "markdown",
      "metadata": {
        "id": "lJ0sgvioEk_T",
        "colab_type": "text"
      },
      "source": [
        "### Evaluate"
      ]
    },
    {
      "cell_type": "code",
      "metadata": {
        "id": "KTGefwqqElKG",
        "colab_type": "code",
        "colab": {
          "base_uri": "https://localhost:8080/",
          "height": 68
        },
        "outputId": "ece21e32-bd5f-4f23-81c5-fe8630e88588"
      },
      "source": [
        "test_loss, test_accuracy = model.evaluate(test_images, test_labels)\n",
        "\n",
        "print(f'Test Loss : {test_loss}')\n",
        "print(f'Test Accuracy : {test_accuracy * 100} percentage')"
      ],
      "execution_count": 48,
      "outputs": [
        {
          "output_type": "stream",
          "text": [
            "10000/10000 [==============================] - 0s 34us/sample - loss: 0.3727 - acc: 0.8667\n",
            "Test Loss : 0.3726923031926155\n",
            "Test Accuracy : 86.66999936103821 percentage\n"
          ],
          "name": "stdout"
        }
      ]
    },
    {
      "cell_type": "markdown",
      "metadata": {
        "id": "MeQx_8yoqA5u",
        "colab_type": "text"
      },
      "source": [
        "## Predict\n",
        "\n",
        "\n"
      ]
    },
    {
      "cell_type": "code",
      "metadata": {
        "id": "Gew-UfltEAG0",
        "colab_type": "code",
        "colab": {
          "base_uri": "https://localhost:8080/",
          "height": 51
        },
        "outputId": "59c7d54e-e914-4f92-b5c8-92700aeb28e8"
      },
      "source": [
        "print(f'To be predicted : {labels[test_labels[3]]}')\n",
        "predictions = model.predict(test_images)\n",
        "\n",
        "recommendations = predictions[3]  # Get probabilities to all labels for image #3\n",
        "predicted_image = np.argmax(recommendations)  # Get the label that has max probability\n",
        "print(f'Predicted : {labels[predicted_image]}')  # Map the label to label name"
      ],
      "execution_count": 62,
      "outputs": [
        {
          "output_type": "stream",
          "text": [
            "To be predicted : Trouser\n",
            "Predicted : Trouser\n"
          ],
          "name": "stdout"
        }
      ]
    },
    {
      "cell_type": "markdown",
      "metadata": {
        "id": "qhJQW1iAIFD8",
        "colab_type": "text"
      },
      "source": [
        "### View Output"
      ]
    },
    {
      "cell_type": "code",
      "metadata": {
        "id": "CpqehmPLIHOz",
        "colab_type": "code",
        "colab": {
          "base_uri": "https://localhost:8080/",
          "height": 1000
        },
        "outputId": "f9d7ba05-ffc7-4ebe-8ef4-8610293a3a32"
      },
      "source": [
        "for i in range(5):\n",
        "  plt.grid(False)\n",
        "  plt.imshow(test_images[i], cmap=plt.cm.binary)\n",
        "  plt.xlabel(f'Actual Image : {labels[test_labels[i]]}')\n",
        "\n",
        "  # Get probabilities to all labels for image\n",
        "  recommendations = predictions[i]  \n",
        "\n",
        "  # Get the label that has max probability\n",
        "  predicted_image = np.argmax(recommendations) \n",
        "   \n",
        "  # Map the label to label name\n",
        "  plt.title(f'Predicted : {labels[predicted_image]}')\n",
        "\n",
        "  plt.show()"
      ],
      "execution_count": 73,
      "outputs": [
        {
          "output_type": "display_data",
          "data": {
            "image/png": "[encoded data removed]",
            "text/plain": [
              "<Figure size 432x288 with 1 Axes>"
            ]
          },
          "metadata": {
            "tags": []
          }
        },
        {
          "output_type": "display_data",
          "data": {
            "image/png": "[encoded data removed]",
            "text/plain": [
              "<Figure size 432x288 with 1 Axes>"
            ]
          },
          "metadata": {
            "tags": []
          }
        },
        {
          "output_type": "display_data",
          "data": {
            "image/png": "[encoded data removed]",
            "text/plain": [
              "<Figure size 432x288 with 1 Axes>"
            ]
          },
          "metadata": {
            "tags": []
          }
        },
        {
          "output_type": "display_data",
          "data": {
            "image/png": "[encoded data removed]",
            "text/plain": [
              "<Figure size 432x288 with 1 Axes>"
            ]
          },
          "metadata": {
            "tags": []
          }
        },
        {
          "output_type": "display_data",
          "data": {
            "image/png": "[encoded data removed]",
            "text/plain": [
              "<Figure size 432x288 with 1 Axes>"
            ]
          },
          "metadata": {
            "tags": []
          }
        }
      ]
    }
  ]
}