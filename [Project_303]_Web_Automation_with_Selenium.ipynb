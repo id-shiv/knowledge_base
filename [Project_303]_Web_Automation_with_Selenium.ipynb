{
  "nbformat": 4,
  "nbformat_minor": 0,
  "metadata": {
    "colab": {
      "name": "[Project 303] Web Automation with Selenium.ipynb",
      "provenance": [],
      "collapsed_sections": [],
      "toc_visible": true,
      "mount_file_id": "1qBR12KqLwl1XhKvjEcOXGt836yxZBnZT",
      "authorship_tag": "ABX9TyO7eSEjbv54svQJcwkMqQDH",
      "include_colab_link": true
    },
    "kernelspec": {
      "name": "python3",
      "display_name": "Python 3"
    }
  },
  "cells": [
    {
      "cell_type": "markdown",
      "metadata": {
        "id": "view-in-github",
        "colab_type": "text"
      },
      "source": [
        "<a href=\"https://colab.research.google.com/github/id-shiv/knowledge_base/blob/master/%5BProject_303%5D_Web_Automation_with_Selenium.ipynb\" target=\"_parent\"><img src=\"https://colab.research.google.com/assets/colab-badge.svg\" alt=\"Open In Colab\"/></a>"
      ]
    },
    {
      "cell_type": "markdown",
      "metadata": {
        "id": "n3BDqm1V8aDz",
        "colab_type": "text"
      },
      "source": [
        "# Modules"
      ]
    },
    {
      "cell_type": "code",
      "metadata": {
        "id": "Nz6wmtm-8dct",
        "colab_type": "code",
        "colab": {}
      },
      "source": [
        "# # Install Packages\n",
        "# !apt update\n",
        "# !apt install chromium-chromedriver\n",
        "# !pip install selenium"
      ],
      "execution_count": 0,
      "outputs": []
    },
    {
      "cell_type": "markdown",
      "metadata": {
        "id": "V_Odv1i3l0Eb",
        "colab_type": "text"
      },
      "source": [
        "# Libraries"
      ]
    },
    {
      "cell_type": "code",
      "metadata": {
        "id": "CQGI_Mx0pYhV",
        "colab_type": "code",
        "colab": {}
      },
      "source": [
        "from selenium import webdriver"
      ],
      "execution_count": 0,
      "outputs": []
    },
    {
      "cell_type": "markdown",
      "metadata": {
        "id": "oFtFIvY284El",
        "colab_type": "text"
      },
      "source": [
        "# Utilities"
      ]
    },
    {
      "cell_type": "markdown",
      "metadata": {
        "id": "YXl3n1JH8n1h",
        "colab_type": "text"
      },
      "source": [
        "# Launch"
      ]
    },
    {
      "cell_type": "code",
      "metadata": {
        "id": "NI1N5piP8mzt",
        "colab_type": "code",
        "outputId": "be2b20d6-5eb9-4416-b6ee-ea282f874a24",
        "colab": {
          "base_uri": "https://localhost:8080/",
          "height": 1000
        }
      },
      "source": [
        "# Configure chrome to be headless\n",
        "options = webdriver.ChromeOptions()\n",
        "options.add_argument('--headless')\n",
        "options.add_argument('--no-sandbox')\n",
        "options.add_argument('--disable-dev-shm-usage')\n",
        "\n",
        "# Create driver object\n",
        "driver = webdriver.Chrome('chromedriver', options=options)\n",
        "\n",
        "# Load the driver with web page\n",
        "base_url = 'https://www.dell.com/support/home/us/en/04/drivers/driversdetails?driverid=4xgyf'\n",
        "driver.get(base_url)\n",
        "\n",
        "# Retrieve web page details\n",
        "title = driver.title\n",
        "current_url = driver.current_url\n",
        "html = driver.page_source\n",
        "\n",
        "# Find information on web page\n",
        "compatible_systems = []\n",
        "compatible_systems_section = driver.find_elements_by_xpath(\"//div[@id = 'SupportedOs']/div/div\")\n",
        "for system in compatible_systems_section:\n",
        "  compatible_systems.append({system.find_element_by_css_selector(\"a\").get_attribute('text') :\n",
        "                             system.find_element_by_css_selector(\"a\").get_attribute('href')})\n",
        "# Write the information to a file\n",
        "with open('Compatible_Systems.txt', 'w') as f:\n",
        "    for system in compatible_systems:\n",
        "        f.write(\"%s\\n\" % system)\n",
        "        print(system)\n",
        "\n",
        "driver.close()"
      ],
      "execution_count": 123,
      "outputs": [
        {
          "output_type": "stream",
          "text": [
            "{'Dell EMC NX440': 'https://www.dell.com/support/home/us/en/04/product-support/product/storage-nx440/drivers'}\n",
            "{'OEMR R6525': 'https://www.dell.com/support/home/us/en/04/product-support/product/oth-r6525/drivers'}\n",
            "{'OEMR R7525': 'https://www.dell.com/support/home/us/en/04/product-support/product/oth-r7525/drivers'}\n",
            "{'PowerEdge C6525': 'https://www.dell.com/support/home/us/en/04/product-support/product/poweredge-c6525/drivers'}\n",
            "{'PowerEdge FC430': 'https://www.dell.com/support/home/us/en/04/product-support/product/poweredge-fc430/drivers'}\n",
            "{'Poweredge FC630': 'https://www.dell.com/support/home/us/en/04/product-support/product/poweredge-fc630/drivers'}\n",
            "{'PowerEdge FC640': 'https://www.dell.com/support/home/us/en/04/product-support/product/poweredge-fc640/drivers'}\n",
            "{'Poweredge FC830': 'https://www.dell.com/support/home/us/en/04/product-support/product/poweredge-fc830/drivers'}\n",
            "{'PowerEdge FD332': 'https://www.dell.com/support/home/us/en/04/product-support/product/poweredge-fd332/drivers'}\n",
            "{'PowerEdge FM120x4 (for PE FX2/FX2s)': 'https://www.dell.com/support/home/us/en/04/product-support/product/poweredge-fm120/drivers'}\n",
            "{'PowerEdge M420': 'https://www.dell.com/support/home/us/en/04/product-support/product/poweredge-m420/drivers'}\n",
            "{'PowerEdge M520': 'https://www.dell.com/support/home/us/en/04/product-support/product/poweredge-m520/drivers'}\n",
            "{'PowerEdge M520 (for PE VRTX)': 'https://www.dell.com/support/home/us/en/04/product-support/product/poweredge-m520p/drivers'}\n",
            "{'PowerEdge M610': 'https://www.dell.com/support/home/us/en/04/product-support/product/poweredge-m610/drivers'}\n",
            "{'PowerEdge M610x': 'https://www.dell.com/support/home/us/en/04/product-support/product/poweredge-m610x/drivers'}\n",
            "{'PowerEdge M620': 'https://www.dell.com/support/home/us/en/04/product-support/product/poweredge-m620/drivers'}\n",
            "{'PowerEdge M620 (for PE VRTX)': 'https://www.dell.com/support/home/us/en/04/product-support/product/poweredge-m620p/drivers'}\n",
            "{'PowerEdge M630': 'https://www.dell.com/support/home/us/en/04/product-support/product/poweredge-m630/drivers'}\n",
            "{'PowerEdge M630 (for PE VRTX)': 'https://www.dell.com/support/home/us/en/04/product-support/product/poweredge-m630p/drivers'}\n",
            "{'PowerEdge M640': 'https://www.dell.com/support/home/us/en/04/product-support/product/poweredge-m640/drivers'}\n",
            "{'PowerEdge M640 (for PE VRTX)': 'https://www.dell.com/support/home/us/en/04/product-support/product/poweredge-m640p/drivers'}\n",
            "{'PowerEdge M710': 'https://www.dell.com/support/home/us/en/04/product-support/product/poweredge-m710/drivers'}\n",
            "{'PowerEdge M710HD': 'https://www.dell.com/support/home/us/en/04/product-support/product/poweredge-m710hd/drivers'}\n",
            "{'PowerEdge M820': 'https://www.dell.com/support/home/us/en/04/product-support/product/poweredge-m820/drivers'}\n",
            "{'PowerEdge M820 (for PE VRTX)': 'https://www.dell.com/support/home/us/en/04/product-support/product/poweredge-m820p/drivers'}\n",
            "{'PowerEdge M830': 'https://www.dell.com/support/home/us/en/04/product-support/product/poweredge-m830/drivers'}\n",
            "{'PowerEdge M830 (for PE VRTX)': 'https://www.dell.com/support/home/us/en/04/product-support/product/poweredge-m830p/drivers'}\n",
            "{'PowerEdge M910': 'https://www.dell.com/support/home/us/en/04/product-support/product/poweredge-m910/drivers'}\n",
            "{'PowerEdge M915': 'https://www.dell.com/support/home/us/en/04/product-support/product/poweredge-m915/drivers'}\n",
            "{'PowerEdge MX5016s': 'https://www.dell.com/support/home/us/en/04/product-support/product/poweredge-mx5016s/drivers'}\n",
            "{'PowerEdge MX740c': 'https://www.dell.com/support/home/us/en/04/product-support/product/poweredge-mx740c/drivers'}\n",
            "{'PowerEdge MX840c': 'https://www.dell.com/support/home/us/en/04/product-support/product/poweredge-mx840c/drivers'}\n",
            "{'PowerEdge R210': 'https://www.dell.com/support/home/us/en/04/product-support/product/poweredge-r210/drivers'}\n",
            "{'PowerEdge R210 II': 'https://www.dell.com/support/home/us/en/04/product-support/product/poweredge-r210-2/drivers'}\n",
            "{'PowerEdge R220': 'https://www.dell.com/support/home/us/en/04/product-support/product/poweredge-r220/drivers'}\n",
            "{'PowerEdge R230': 'https://www.dell.com/support/home/us/en/04/product-support/product/poweredge-r230/drivers'}\n",
            "{'PowerEdge R310': 'https://www.dell.com/support/home/us/en/04/product-support/product/poweredge-r310/drivers'}\n",
            "{'PowerEdge R320': 'https://www.dell.com/support/home/us/en/04/product-support/product/poweredge-r320/drivers'}\n",
            "{'PowerEdge R330': 'https://www.dell.com/support/home/us/en/04/product-support/product/poweredge-r330/drivers'}\n",
            "{'PowerEdge R340': 'https://www.dell.com/support/home/us/en/04/product-support/product/poweredge-r340/drivers'}\n",
            "{'PowerEdge R410': 'https://www.dell.com/support/home/us/en/04/product-support/product/poweredge-r410/drivers'}\n",
            "{'PowerEdge R415': 'https://www.dell.com/support/home/us/en/04/product-support/product/poweredge-r415/drivers'}\n",
            "{'PowerEdge R420': 'https://www.dell.com/support/home/us/en/04/product-support/product/poweredge-r420/drivers'}\n",
            "{'PowerEdge R430': 'https://www.dell.com/support/home/us/en/04/product-support/product/poweredge-r430/drivers'}\n",
            "{'PowerEdge R440': 'https://www.dell.com/support/home/us/en/04/product-support/product/poweredge-r440/drivers'}\n",
            "{'PowerEdge R510': 'https://www.dell.com/support/home/us/en/04/product-support/product/poweredge-r510/drivers'}\n",
            "{'PowerEdge R515': 'https://www.dell.com/support/home/us/en/04/product-support/product/poweredge-r515/drivers'}\n",
            "{'PowerEdge R520': 'https://www.dell.com/support/home/us/en/04/product-support/product/poweredge-r520/drivers'}\n",
            "{'PowerEdge R530': 'https://www.dell.com/support/home/us/en/04/product-support/product/poweredge-r530/drivers'}\n",
            "{'PowerEdge R530xd': 'https://www.dell.com/support/home/us/en/04/product-support/product/poweredge-r530xd/drivers'}\n",
            "{'PowerEdge R540': 'https://www.dell.com/support/home/us/en/04/product-support/product/poweredge-r540/drivers'}\n",
            "{'PowerEdge R610': 'https://www.dell.com/support/home/us/en/04/product-support/product/poweredge-r610/drivers'}\n",
            "{'PowerEdge R620': 'https://www.dell.com/support/home/us/en/04/product-support/product/poweredge-r620/drivers'}\n",
            "{'PowerEdge R630': 'https://www.dell.com/support/home/us/en/04/product-support/product/poweredge-r630/drivers'}\n",
            "{'PowerEdge R640': 'https://www.dell.com/support/home/us/en/04/product-support/product/poweredge-r640/drivers'}\n",
            "{'PowerEdge R6415': 'https://www.dell.com/support/home/us/en/04/product-support/product/poweredge-r6415/drivers'}\n",
            "{'PowerEdge R6525': 'https://www.dell.com/support/home/us/en/04/product-support/product/poweredge-r6525/drivers'}\n",
            "{'PowerEdge R710': 'https://www.dell.com/support/home/us/en/04/product-support/product/poweredge-r710/drivers'}\n",
            "{'PowerEdge R715': 'https://www.dell.com/support/home/us/en/04/product-support/product/poweredge-r715/drivers'}\n",
            "{'PowerEdge R720': 'https://www.dell.com/support/home/us/en/04/product-support/product/poweredge-r720/drivers'}\n",
            "{'PowerEdge R720xd': 'https://www.dell.com/support/home/us/en/04/product-support/product/poweredge-r720xd/drivers'}\n",
            "{'PowerEdge R730': 'https://www.dell.com/support/home/us/en/04/product-support/product/poweredge-r730/drivers'}\n",
            "{'PowerEdge R730xd': 'https://www.dell.com/support/home/us/en/04/product-support/product/poweredge-r730xd/drivers'}\n",
            "{'PowerEdge R740': 'https://www.dell.com/support/home/us/en/04/product-support/product/poweredge-r740/drivers'}\n",
            "{'PowerEdge R740xd': 'https://www.dell.com/support/home/us/en/04/product-support/product/poweredge-r740xd/drivers'}\n",
            "{'PowerEdge R7415': 'https://www.dell.com/support/home/us/en/04/product-support/product/poweredge-r7415/drivers'}\n",
            "{'PowerEdge R7425': 'https://www.dell.com/support/home/us/en/04/product-support/product/poweredge-r7425/drivers'}\n",
            "{'PowerEdge R7525': 'https://www.dell.com/support/home/us/en/04/product-support/product/poweredge-r7525/drivers'}\n",
            "{'PowerEdge R810': 'https://www.dell.com/support/home/us/en/04/product-support/product/poweredge-r810/drivers'}\n",
            "{'PowerEdge R815': 'https://www.dell.com/support/home/us/en/04/product-support/product/poweredge-r815/drivers'}\n",
            "{'PowerEdge R820': 'https://www.dell.com/support/home/us/en/04/product-support/product/poweredge-r820/drivers'}\n",
            "{'PowerEdge R830': 'https://www.dell.com/support/home/us/en/04/product-support/product/poweredge-r830/drivers'}\n",
            "{'PowerEdge R840': 'https://www.dell.com/support/home/us/en/04/product-support/product/poweredge-r840/drivers'}\n",
            "{'PowerEdge R910': 'https://www.dell.com/support/home/us/en/04/product-support/product/poweredge-r910/drivers'}\n",
            "{'PowerEdge R920': 'https://www.dell.com/support/home/us/en/04/product-support/product/poweredge-r920/drivers'}\n",
            "{'PowerEdge R930': 'https://www.dell.com/support/home/us/en/04/product-support/product/poweredge-r930/drivers'}\n",
            "{'PowerEdge R940': 'https://www.dell.com/support/home/us/en/04/product-support/product/poweredge-r940/drivers'}\n",
            "{'PowerEdge R940xa': 'https://www.dell.com/support/home/us/en/04/product-support/product/poweredge-r940xa/drivers'}\n",
            "{'PowerEdge T110': 'https://www.dell.com/support/home/us/en/04/product-support/product/poweredge-t110/drivers'}\n",
            "{'PowerEdge T110 II': 'https://www.dell.com/support/home/us/en/04/product-support/product/poweredge-t110-2/drivers'}\n",
            "{'PowerEdge T130': 'https://www.dell.com/support/home/us/en/04/product-support/product/poweredge-t130/drivers'}\n",
            "{'PowerEdge T310': 'https://www.dell.com/support/home/us/en/04/product-support/product/poweredge-t310/drivers'}\n",
            "{'PowerEdge T320': 'https://www.dell.com/support/home/us/en/04/product-support/product/poweredge-t320/drivers'}\n",
            "{'PowerEdge T330': 'https://www.dell.com/support/home/us/en/04/product-support/product/poweredge-t330/drivers'}\n",
            "{'PowerEdge T410': 'https://www.dell.com/support/home/us/en/04/product-support/product/poweredge-t410/drivers'}\n",
            "{'PowerEdge T420': 'https://www.dell.com/support/home/us/en/04/product-support/product/poweredge-t420/drivers'}\n",
            "{'PowerEdge T430': 'https://www.dell.com/support/home/us/en/04/product-support/product/poweredge-t430/drivers'}\n",
            "{'PowerEdge T440': 'https://www.dell.com/support/home/us/en/04/product-support/product/poweredge-t440/drivers'}\n",
            "{'PowerEdge T610': 'https://www.dell.com/support/home/us/en/04/product-support/product/poweredge-t610/drivers'}\n",
            "{'PowerEdge T620': 'https://www.dell.com/support/home/us/en/04/product-support/product/poweredge-t620/drivers'}\n",
            "{'PowerEdge T630': 'https://www.dell.com/support/home/us/en/04/product-support/product/poweredge-t630/drivers'}\n",
            "{'PowerEdge T640': 'https://www.dell.com/support/home/us/en/04/product-support/product/poweredge-t640/drivers'}\n",
            "{'PowerEdge T710': 'https://www.dell.com/support/home/us/en/04/product-support/product/poweredge-t710/drivers'}\n",
            "{'Storage Spaces Direct R640 Ready Node': 'https://www.dell.com/support/home/us/en/04/product-support/product/microsoft-storage-ready-node-r640/drivers'}\n",
            "{'Storage Spaces Direct R740xd Ready Node': 'https://www.dell.com/support/home/us/en/04/product-support/product/microsoft-storage-ready-node-r740xd/drivers'}\n"
          ],
          "name": "stdout"
        }
      ]
    }
  ]
}