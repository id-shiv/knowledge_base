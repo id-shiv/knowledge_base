{
  "nbformat": 4,
  "nbformat_minor": 0,
  "metadata": {
    "colab": {
      "name": "[Project 102] Chatbots with Tensorflow.ipynb",
      "provenance": [],
      "collapsed_sections": [],
      "toc_visible": true,
      "authorship_tag": "ABX9TyN434upqLfkqS/hArR2DKK4",
      "include_colab_link": true
    },
    "kernelspec": {
      "name": "python3",
      "display_name": "Python 3"
    }
  },
  "cells": [
    {
      "cell_type": "markdown",
      "metadata": {
        "id": "view-in-github",
        "colab_type": "text"
      },
      "source": [
        "<a href=\"https://colab.research.google.com/github/id-shiv/project_notebooks/blob/master/%5BProject_102%5D_Chatbots_with_Tensorflow.ipynb\" target=\"_parent\"><img src=\"https://colab.research.google.com/assets/colab-badge.svg\" alt=\"Open In Colab\"/></a>"
      ]
    },
    {
      "cell_type": "markdown",
      "metadata": {
        "id": "UyiQzzRAgROt",
        "colab_type": "text"
      },
      "source": [
        "# Intents"
      ]
    },
    {
      "cell_type": "code",
      "metadata": {
        "id": "QtL5_MlkgQVj",
        "colab_type": "code",
        "colab": {}
      },
      "source": [
        "data = {\n",
        "    \"intents\": [{\n",
        "        \"tag\": \"greeting\",\n",
        "        \"patterns\": [\n",
        "                     \"Hello\", \n",
        "                     \"Hi\",\n",
        "                     \"Howdy\",\n",
        "                     \"Whats up\"\n",
        "        ],\n",
        "        \"responses\": [\n",
        "                      \"Hello!\",\n",
        "                      \"Good to see you!, how may i help you\",\n",
        "                      \"Hi! how may i help you\"\n",
        "        ],  \n",
        "        \"context_set\": \"\"\n",
        "    },\n",
        "    {\n",
        "        \"tag\": \"name\",\n",
        "        \"patterns\": [\n",
        "                     \"Whats your name?\", \n",
        "                     \"your name\",\n",
        "                     \"who are you\"\n",
        "        ],\n",
        "        \"responses\": [\n",
        "                      \"My name! Anonymous\",\n",
        "                      \"I am Anonymous\"\n",
        "        ],  \n",
        "        \"context_set\": \"\"\n",
        "    }\n",
        "    ]\n",
        "}"
      ],
      "execution_count": 0,
      "outputs": []
    },
    {
      "cell_type": "markdown",
      "metadata": {
        "id": "6jZWMJJqh4jL",
        "colab_type": "text"
      },
      "source": [
        "# Chatbot"
      ]
    },
    {
      "cell_type": "markdown",
      "metadata": {
        "id": "IInS5FL5kHgy",
        "colab_type": "text"
      },
      "source": [
        "## Libraries"
      ]
    },
    {
      "cell_type": "code",
      "metadata": {
        "id": "s3_AR-EviCXH",
        "colab_type": "code",
        "colab": {
          "base_uri": "https://localhost:8080/",
          "height": 51
        },
        "outputId": "f03bfcc7-6734-48b4-e1f6-2235d6c4b070"
      },
      "source": [
        "import nltk\n",
        "nltk.download('punkt')\n",
        "\n",
        "from nltk.stem.lancaster import LancasterStemmer\n",
        "stemmer = LancasterStemmer()\n",
        "\n",
        "import numpy\n",
        "import tflearn\n",
        "import tensorflow as tf\n",
        "import random"
      ],
      "execution_count": 60,
      "outputs": [
        {
          "output_type": "stream",
          "text": [
            "[nltk_data] Downloading package punkt to /root/nltk_data...\n",
            "[nltk_data]   Package punkt is already up-to-date!\n"
          ],
          "name": "stdout"
        }
      ]
    },
    {
      "cell_type": "markdown",
      "metadata": {
        "id": "4eLFn2rYk002",
        "colab_type": "text"
      },
      "source": [
        "## Data"
      ]
    },
    {
      "cell_type": "code",
      "metadata": {
        "id": "Rln_BH7zkwv3",
        "colab_type": "code",
        "colab": {
          "base_uri": "https://localhost:8080/",
          "height": 74
        },
        "outputId": "3e5343bb-fee5-4c48-8618-8de87aed9659"
      },
      "source": [
        "print(data['intents'])"
      ],
      "execution_count": 55,
      "outputs": [
        {
          "output_type": "stream",
          "text": [
            "[{'tag': 'greeting', 'patterns': ['Hello', 'Hi', 'Howdy', 'Whats up'], 'responses': ['Hello!', 'Good to see you!, how may i help you', 'Hi! how may i help you'], 'context_set': ''}, {'tag': 'name', 'patterns': ['Whats your name?', 'your name', 'who are you'], 'responses': ['My name! Anonymous', 'I am Anonymous'], 'context_set': ''}]\n"
          ],
          "name": "stdout"
        }
      ]
    },
    {
      "cell_type": "markdown",
      "metadata": {
        "id": "6KSpCruOlFk-",
        "colab_type": "text"
      },
      "source": [
        "### Prepare"
      ]
    },
    {
      "cell_type": "markdown",
      "metadata": {
        "id": "zoSNZ73QlI4_",
        "colab_type": "text"
      },
      "source": [
        "Get words, labels and patterns vs intents"
      ]
    },
    {
      "cell_type": "code",
      "metadata": {
        "id": "_3YmPq0wlIE-",
        "colab_type": "code",
        "colab": {
          "base_uri": "https://localhost:8080/",
          "height": 85
        },
        "outputId": "2190be22-7c8a-4781-d3b8-f6cf49848592"
      },
      "source": [
        "words = []\n",
        "labels = []\n",
        "docs_x = []\n",
        "docs_y = []\n",
        "\n",
        "for intent in data['intents']:\n",
        "  for pattern in intent['patterns']:\n",
        "    word_s = nltk.word_tokenize(pattern)\n",
        "    words.extend(word_s)\n",
        "    \n",
        "    docs_x.append(pattern)\n",
        "    docs_y.append(intent['tag'])\n",
        "\n",
        "  if intent['tag'] not in labels:\n",
        "    labels.append(intent['tag'])\n",
        "\n",
        "print(words)\n",
        "print(labels)\n",
        "print(docs_x)\n",
        "print(docs_y)"
      ],
      "execution_count": 56,
      "outputs": [
        {
          "output_type": "stream",
          "text": [
            "['Hello', 'Hi', 'Howdy', 'Whats', 'up', 'Whats', 'your', 'name', '?', 'your', 'name', 'who', 'are', 'you']\n",
            "['greeting', 'name']\n",
            "['Hello', 'Hi', 'Howdy', 'Whats up', 'Whats your name?', 'your name', 'who are you']\n",
            "['greeting', 'greeting', 'greeting', 'greeting', 'name', 'name', 'name']\n"
          ],
          "name": "stdout"
        }
      ]
    },
    {
      "cell_type": "markdown",
      "metadata": {
        "id": "XkYRYirqnmD-",
        "colab_type": "text"
      },
      "source": [
        "Get vocabulary"
      ]
    },
    {
      "cell_type": "code",
      "metadata": {
        "id": "SEukerpinrNQ",
        "colab_type": "code",
        "colab": {
          "base_uri": "https://localhost:8080/",
          "height": 51
        },
        "outputId": "b6529810-63d8-4d6d-a642-63d3242e5926"
      },
      "source": [
        "words = [stemmer.stem(w.lower()) for w in words]\n",
        "words = sorted(list(set(words)))\n",
        "print(words)\n",
        "\n",
        "labels = sorted(labels)\n",
        "print(labels)"
      ],
      "execution_count": 57,
      "outputs": [
        {
          "output_type": "stream",
          "text": [
            "['?', 'ar', 'hello', 'hi', 'howdy', 'nam', 'up', 'what', 'who', 'yo', 'you']\n",
            "['greeting', 'name']\n"
          ],
          "name": "stdout"
        }
      ]
    },
    {
      "cell_type": "markdown",
      "metadata": {
        "id": "maszOAZjoSpy",
        "colab_type": "text"
      },
      "source": [
        "Bag of words (one hot encoding)"
      ]
    },
    {
      "cell_type": "code",
      "metadata": {
        "id": "v9mmhrEEqLns",
        "colab_type": "code",
        "colab": {}
      },
      "source": [
        "def one_hot_encoder(document, words):\n",
        "  bag = []\n",
        "  document_words = [stemmer.stem(word) for word in nltk.word_tokenize(document)]\n",
        "\n",
        "  for word in words:\n",
        "    if word in document_words:\n",
        "      bag.append(1)\n",
        "    else:\n",
        "      bag.append(0)\n",
        "  \n",
        "  return numpy.array(bag)"
      ],
      "execution_count": 0,
      "outputs": []
    },
    {
      "cell_type": "markdown",
      "metadata": {
        "id": "isa_PaAxtsc7",
        "colab_type": "text"
      },
      "source": [
        "Prepare features and labels"
      ]
    },
    {
      "cell_type": "code",
      "metadata": {
        "id": "dv2OKElSqtDX",
        "colab_type": "code",
        "colab": {
          "base_uri": "https://localhost:8080/",
          "height": 255
        },
        "outputId": "b54f146f-343c-4ddc-b2de-19c77c3b36e5"
      },
      "source": [
        "training = []\n",
        "output = []\n",
        "\n",
        "out_empty = [0 for _ in range (len(labels))]\n",
        "\n",
        "for x, doc in enumerate(docs_x):\n",
        "  bag = one_hot_encoder(doc, words)\n",
        "  output_row = out_empty[:]\n",
        "  output_row[labels.index(docs_y[x])] = 1\n",
        "\n",
        "  training.append(bag)\n",
        "  output.append(output_row)\n",
        "\n",
        "training = numpy.array(training)\n",
        "output = numpy.array(output)\n",
        "\n",
        "print(training)\n",
        "print(output)"
      ],
      "execution_count": 59,
      "outputs": [
        {
          "output_type": "stream",
          "text": [
            "[[0 0 1 0 0 0 0 0 0 0 0]\n",
            " [0 0 0 1 0 0 0 0 0 0 0]\n",
            " [0 0 0 0 1 0 0 0 0 0 0]\n",
            " [0 0 0 0 0 0 1 1 0 0 0]\n",
            " [1 0 0 0 0 1 0 1 0 1 0]\n",
            " [0 0 0 0 0 1 0 0 0 1 0]\n",
            " [0 1 0 0 0 0 0 0 1 0 1]]\n",
            "[[1 0]\n",
            " [1 0]\n",
            " [1 0]\n",
            " [1 0]\n",
            " [0 1]\n",
            " [0 1]\n",
            " [0 1]]\n"
          ],
          "name": "stdout"
        }
      ]
    },
    {
      "cell_type": "markdown",
      "metadata": {
        "id": "-QVfh_LZvu81",
        "colab_type": "text"
      },
      "source": [
        "### View"
      ]
    },
    {
      "cell_type": "code",
      "metadata": {
        "id": "P9JKwnXmvxws",
        "colab_type": "code",
        "colab": {
          "base_uri": "https://localhost:8080/",
          "height": 68
        },
        "outputId": "dcea1691-df88-4852-8bb9-e27145f3530b"
      },
      "source": [
        "print(f'Number of words in vocabulary (features) : {len(words)}')\n",
        "print(f'Number of labels : {len(labels)}')\n",
        "print(f'Number of samples : {len(training)}')"
      ],
      "execution_count": 63,
      "outputs": [
        {
          "output_type": "stream",
          "text": [
            "Number of words in vocabulary (features) : 11\n",
            "Number of labels : 2\n",
            "Number of samples : 7\n"
          ],
          "name": "stdout"
        }
      ]
    },
    {
      "cell_type": "markdown",
      "metadata": {
        "id": "8H-o0GmioWHV",
        "colab_type": "text"
      },
      "source": [
        "## Model"
      ]
    },
    {
      "cell_type": "code",
      "metadata": {
        "id": "d1PYqsvOt6V7",
        "colab_type": "code",
        "colab": {}
      },
      "source": [
        "tf.reset_default_graph()\n",
        "\n",
        "net = tflearn.input_data(shape=[None, len(words)])\n",
        "net = tflearn.fully_connected(net, 8)  # hidden layer with 8 neurons\n",
        "net = tflearn.fully_connected(net, 8)\n",
        "\n",
        "#  Output layer\n",
        "net = tflearn.fully_connected(net, len(labels), activation='softmax')\n",
        "\n",
        "net = tflearn.regression(net)\n",
        "\n",
        "model = tflearn.DNN(net)"
      ],
      "execution_count": 0,
      "outputs": []
    },
    {
      "cell_type": "markdown",
      "metadata": {
        "id": "erVnsgOjwzzR",
        "colab_type": "text"
      },
      "source": [
        "### Train"
      ]
    },
    {
      "cell_type": "code",
      "metadata": {
        "id": "52mHyKo8w15m",
        "colab_type": "code",
        "colab": {}
      },
      "source": [
        "model.fit(training, output, n_epoch=1000, batch_size=8, show_metric=True)\n",
        "model.save('chatbot.tflearn')"
      ],
      "execution_count": 0,
      "outputs": []
    },
    {
      "cell_type": "markdown",
      "metadata": {
        "id": "ymdiSvAXxdNs",
        "colab_type": "text"
      },
      "source": [
        "## Predict"
      ]
    },
    {
      "cell_type": "code",
      "metadata": {
        "id": "LA1wtDhOxdXS",
        "colab_type": "code",
        "colab": {
          "base_uri": "https://localhost:8080/",
          "height": 34
        },
        "outputId": "b02e5488-b357-4138-93b3-a4df2a16ceff"
      },
      "source": [
        "model.load('chatbot.tflearn')"
      ],
      "execution_count": 68,
      "outputs": [
        {
          "output_type": "stream",
          "text": [
            "INFO:tensorflow:Restoring parameters from /content/chatbot.tflearn\n"
          ],
          "name": "stdout"
        }
      ]
    },
    {
      "cell_type": "code",
      "metadata": {
        "id": "AKnHuuqGyDyk",
        "colab_type": "code",
        "colab": {}
      },
      "source": [
        "def chat():\n",
        "  print('Bot is Ready!, type quit to exit ...')\n",
        "  while True:\n",
        "    text = input('You : ')\n",
        "    if text.lower() == \"quit\":\n",
        "      print('See you again! Bye')\n",
        "      break\n",
        "    \n",
        "    # Predict\n",
        "    encoded = one_hot_encoder(text, words)\n",
        "    prediction = model.predict([encoded])\n",
        "\n",
        "    predicted_label_index = numpy.argmax(prediction)\n",
        "    predicted_label = labels[predicted_label_index]\n",
        "    \n",
        "    # Respond\n",
        "    for intent in data['intents']:\n",
        "      if intent['tag'] == predicted_label:\n",
        "        responses = intent['responses']\n",
        "    print(random.choice(responses)) \n"
      ],
      "execution_count": 0,
      "outputs": []
    },
    {
      "cell_type": "code",
      "metadata": {
        "id": "uGH4Lb3Ey84r",
        "colab_type": "code",
        "colab": {
          "base_uri": "https://localhost:8080/",
          "height": 170
        },
        "outputId": "db2ae6ef-c511-4df2-d42b-a93b3debe7b9"
      },
      "source": [
        "chat()"
      ],
      "execution_count": 80,
      "outputs": [
        {
          "output_type": "stream",
          "text": [
            "Bot is Ready!, type quit to exit ...\n",
            "You : Hi\n",
            "Good to see you!, how may i help you\n",
            "You : what is your name , do you have one?\n",
            "My name! Anonymous\n",
            "You : great, thanks of help\n",
            "Hello!\n",
            "You : quit\n",
            "See you again! Bye\n"
          ],
          "name": "stdout"
        }
      ]
    }
  ]
}