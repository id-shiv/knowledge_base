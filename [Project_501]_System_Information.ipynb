{
  "nbformat": 4,
  "nbformat_minor": 0,
  "metadata": {
    "colab": {
      "name": "[Project 501] System Information.ipynb",
      "provenance": [],
      "collapsed_sections": [],
      "authorship_tag": "ABX9TyPwecvG78Nh4e3MpxnkRQyN",
      "include_colab_link": true
    },
    "kernelspec": {
      "name": "python3",
      "display_name": "Python 3"
    }
  },
  "cells": [
    {
      "cell_type": "markdown",
      "metadata": {
        "id": "view-in-github",
        "colab_type": "text"
      },
      "source": [
        "<a href=\"https://colab.research.google.com/github/id-shiv/knowledge_base/blob/master/%5BProject_501%5D_System_Information.ipynb\" target=\"_parent\"><img src=\"https://colab.research.google.com/assets/colab-badge.svg\" alt=\"Open In Colab\"/></a>"
      ]
    },
    {
      "cell_type": "code",
      "metadata": {
        "id": "OcCBLIM6UodZ",
        "colab_type": "code",
        "colab": {}
      },
      "source": [
        "import psutil\n",
        "import time\n",
        "import datetime\n",
        "import pandas as pd"
      ],
      "execution_count": 0,
      "outputs": []
    },
    {
      "cell_type": "markdown",
      "metadata": {
        "id": "kSDmYpyoinZv",
        "colab_type": "text"
      },
      "source": [
        "# IMPORTANT\n",
        "\n",
        "\n",
        "```\n",
        "This may not run on Jupyter Notebook\n",
        "```\n",
        "\n"
      ]
    },
    {
      "cell_type": "code",
      "metadata": {
        "id": "Gc4vaZ5hhclT",
        "colab_type": "code",
        "colab": {}
      },
      "source": [
        "class System:\n",
        "    def __init__(self):\n",
        "        # Collection of System attributes\n",
        "        self.__time_stamp = None\n",
        "\n",
        "        self.__cpu_total_count = None\n",
        "        self.__cpu_available_count = None\n",
        "        self.__cpu_current_frequency = None\n",
        "        self.__cpu_load_average = None\n",
        "        self.__cpu_percent = None\n",
        "        self.__cpu_time_system_percent = None\n",
        "        self.__cpu_time_user_percent = None\n",
        "        self.__cpu_time_idle_percent = None\n",
        "\n",
        "        self.__virtual_memory_total = None\n",
        "        self.__virtual_memory_available = None\n",
        "        self.__virtual_memory_used_percentage = None\n",
        "        self.__virtual_memory_used = None\n",
        "        self.__virtual_memory_free = None\n",
        "        self.__virtual_memory_active = None\n",
        "        self.__virtual_memory_inactive = None\n",
        "        self.__virtual_memory_wired = None\n",
        "        self.__swap_memory_percent = None\n",
        "\n",
        "        self.__disk_total = None\n",
        "        self.__disk_used = None\n",
        "        self.__disk_free = None\n",
        "        self.__disk_percent = None\n",
        "        self.__disk_io_read_count = None\n",
        "        self.__disk_io_write_count = None\n",
        "        self.__disk_io_read_bytes = None\n",
        "        self.__disk_io_write_bytes = None\n",
        "        self.__disk_io_read_time= None\n",
        "        self.__disk_io_write_time = None\n",
        "\n",
        "        self.__network_io_bytes_sent = None\n",
        "        self.__network_io_bytes_recieved = None\n",
        "        self.__network_io_packets_sent = None\n",
        "        self.__network_io_packets_recieved = None\n",
        "        self.__network_io_error_in = None\n",
        "        self.__network_io_error_out = None\n",
        "        self.__network_io_drop_in = None\n",
        "        self.__network_io_drop_out = None\n",
        "        self.__network_connections = None\n",
        "\n",
        "    def __get_cpu(self):\n",
        "        self.__cpu_total_count = psutil.cpu_count()\n",
        "        # self.__cpu_available_count = psutil.Process()\n",
        "        self.__cpu_current_frequency = psutil.cpu_freq()[0]\n",
        "        self.__cpu_load_average = round(((psutil.getloadavg()[0] / self.__cpu_total_count) * 100), 3)\n",
        "        self.__cpu_percent = psutil.cpu_percent()\n",
        "        self.__cpu_time_user_percent = psutil.cpu_times_percent()[0]\n",
        "        self.__cpu_time_system_percent = psutil.cpu_times_percent()[2]\n",
        "        self.__cpu_time_idle_percent = psutil.cpu_times_percent()[3]\n",
        "\n",
        "    def __get_memory(self):\n",
        "        self.__virtual_memory_total= round(psutil.virtual_memory()[0] / (1024*1024*1024), 3)\n",
        "        self.__virtual_memory_available = round(psutil.virtual_memory()[1] / (1024*1024*1024), 3)\n",
        "        self.__virtual_memory_used_percentage = psutil.virtual_memory()[2]\n",
        "        self.__virtual_memory_used = round(psutil.virtual_memory()[3] / (1024*1024*1024), 3)\n",
        "        self.__virtual_memory_free = round(psutil.virtual_memory()[4] / (1024*1024*1024), 3)\n",
        "        self.__virtual_memory_active = round(psutil.virtual_memory()[5] / (1024*1024*1024), 3)\n",
        "        self.__virtual_memory_inactive = round(psutil.virtual_memory()[6] / (1024*1024*1024), 3)\n",
        "        self.__virtual_memory_wired = round(psutil.virtual_memory()[7] / (1024*1024*1024), 3)\n",
        "        self.__swap_memory_percent = psutil.swap_memory()[3]\n",
        "\n",
        "    def __get_disk(self):\n",
        "        self.__disk_total = psutil.disk_usage('/')[0]\n",
        "        self.__disk_used = psutil.disk_usage('/')[1]\n",
        "        self.__disk_free = psutil.disk_usage('/')[2]\n",
        "        self.__disk_percent = psutil.disk_usage('/')[3]\n",
        "        self.__disk_io_read_count = psutil.disk_io_counters()[0]\n",
        "        self.__disk_io_write_count = psutil.disk_io_counters()[1]\n",
        "        self.__disk_io_read_bytes = psutil.disk_io_counters()[2]\n",
        "        self.__disk_io_write_bytes = psutil.disk_io_counters()[3]\n",
        "        self.__disk_io_read_time = psutil.disk_io_counters()[4]\n",
        "        self.__disk_io_write_time = psutil.disk_io_counters()[5]\n",
        "\n",
        "    def __get_network(self):\n",
        "        self.__network_io_bytes_sent = psutil.net_io_counters()[0]\n",
        "        self.__network_io_bytes_recieved = psutil.net_io_counters()[1]\n",
        "        self.__network_io_packets_sent = psutil.net_io_counters()[2]\n",
        "        self.__network_io_packets_recieved = psutil.net_io_counters()[3]\n",
        "        self.__network_io_error_in = psutil.net_io_counters()[4]\n",
        "        self.__network_io_error_out = psutil.net_io_counters()[5]\n",
        "        self.__network_io_drop_in = psutil.net_io_counters()[6]\n",
        "        self.__network_io_drop_out = psutil.net_io_counters()[7]\n",
        "        try:\n",
        "            self.__network_connections = psutil.net_connections()\n",
        "        except BaseException as be:\n",
        "            pass\n",
        "\n",
        "    def get_current_performace(self):\n",
        "        self.__time_stamp = str(datetime.datetime.now()).replace('-', ':').replace(' ', ':').replace('.', ':')\n",
        "        self.__get_cpu()\n",
        "        self.__get_memory()\n",
        "        self.__get_disk()\n",
        "        self.__get_network()\n",
        "\n",
        "        # Return all System attributes as dictionary\n",
        "        current_performance = {attribute.replace(\"_System__\", \"\") : value for attribute, value in vars(self).items()}\n",
        "        return current_performance\n",
        "\n",
        "    def get_performance_series(self, timeout_in_seconds=30, interval_in_seconds=5):\n",
        "        # Object to return time series as dataframe\n",
        "        performance_series = pd.DataFrame()\n",
        "        elapsed_time = 0\n",
        "\n",
        "        # \n",
        "        while elapsed_time <= timeout_in_seconds:\n",
        "            local_system = System()\n",
        "            current_performance = local_system.get_current_performace()\n",
        "            performance_series = performance_series.append(current_performance, ignore_index=True)\n",
        "\n",
        "            time.sleep(interval_in_seconds)\n",
        "            elapsed_time += interval_in_seconds\n",
        "\n",
        "        return performance_series"
      ],
      "execution_count": 0,
      "outputs": []
    },
    {
      "cell_type": "code",
      "metadata": {
        "id": "AxTkaenXhlUk",
        "colab_type": "code",
        "colab": {}
      },
      "source": [
        "class Report:\n",
        "    @staticmethod\n",
        "    def to_csv(data, report_path):\n",
        "        data.to_csv(report_path)"
      ],
      "execution_count": 0,
      "outputs": []
    },
    {
      "cell_type": "code",
      "metadata": {
        "id": "Zvlv5YrPhsEf",
        "colab_type": "code",
        "colab": {}
      },
      "source": [
        "local_system = System()\n",
        "local_system.get_current_performace()\n",
        "perf_metrics = local_system.get_performance_series(timeout_in_seconds=30, interval_in_seconds=5)\n",
        "Report.to_csv(perf_metrics, './output.csv')"
      ],
      "execution_count": 0,
      "outputs": []
    }
  ]
}