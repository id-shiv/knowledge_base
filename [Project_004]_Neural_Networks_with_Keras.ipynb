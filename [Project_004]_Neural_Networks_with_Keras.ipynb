{
  "nbformat": 4,
  "nbformat_minor": 0,
  "metadata": {
    "colab": {
      "name": "[Project 004] Neural Networks with Keras.ipynb",
      "provenance": [],
      "collapsed_sections": [],
      "toc_visible": true,
      "authorship_tag": "ABX9TyMxByRiE3guCniEwrSD77MW",
      "include_colab_link": true
    },
    "kernelspec": {
      "name": "python3",
      "display_name": "Python 3"
    }
  },
  "cells": [
    {
      "cell_type": "markdown",
      "metadata": {
        "id": "view-in-github",
        "colab_type": "text"
      },
      "source": [
        "<a href=\"https://colab.research.google.com/github/id-shiv/project_notebooks/blob/master/%5BProject_004%5D_Neural_Networks_with_Keras.ipynb\" target=\"_parent\"><img src=\"https://colab.research.google.com/assets/colab-badge.svg\" alt=\"Open In Colab\"/></a>"
      ]
    },
    {
      "cell_type": "markdown",
      "metadata": {
        "id": "hwZ83UdgUe8w",
        "colab_type": "text"
      },
      "source": [
        "# Machine Learning\n",
        "\n",
        "* Traditional Programing : Data + Rules = Answers\n",
        "\n",
        "* Machine Learning : Data + Answers = Rules"
      ]
    },
    {
      "cell_type": "code",
      "metadata": {
        "id": "dMi5a4PJVPR5",
        "colab_type": "code",
        "colab": {}
      },
      "source": [
        "import keras\n",
        "import numpy as np"
      ],
      "execution_count": 0,
      "outputs": []
    },
    {
      "cell_type": "markdown",
      "metadata": {
        "id": "l1b711n_Y0Wk",
        "colab_type": "text"
      },
      "source": [
        "# Import Data"
      ]
    },
    {
      "cell_type": "code",
      "metadata": {
        "id": "--YxFq61UEkP",
        "colab_type": "code",
        "colab": {}
      },
      "source": [
        "xs = np.array([-1.0, 0.0, 1.0, 2.0, 3.0, 4.0], dtype=float)\n",
        "ys = np.array([-3.0, -1.0, 1.0, 3.0, 5.0, 7.0], dtype=float)"
      ],
      "execution_count": 0,
      "outputs": []
    },
    {
      "cell_type": "markdown",
      "metadata": {
        "id": "9UAq_d4sXpt7",
        "colab_type": "text"
      },
      "source": [
        "## Define the Model\n",
        "\n",
        "Below example is a Neural network with a single layer(indicated by # of layers added in code) with single neuron(indicated by units) in it"
      ]
    },
    {
      "cell_type": "code",
      "metadata": {
        "id": "GNKcBW7zWHwN",
        "colab_type": "code",
        "colab": {}
      },
      "source": [
        "model = keras.Sequential([keras.layers.Dense(units=1, input_shape=[1])])"
      ],
      "execution_count": 0,
      "outputs": []
    },
    {
      "cell_type": "markdown",
      "metadata": {
        "id": "ME15oBMgX51J",
        "colab_type": "text"
      },
      "source": [
        "## Compile the Model\n",
        "\n",
        "Uses loss function to guess how good or bad the Model is and then uses optimizer funtion to perform another guess\n",
        "\n",
        "Both functions in tandom would repeat in cycle to generate the best pattern"
      ]
    },
    {
      "cell_type": "code",
      "metadata": {
        "id": "G0N8OYf9YDWl",
        "colab_type": "code",
        "colab": {}
      },
      "source": [
        "model.compile(optimizer='sgd', loss='mean_squared_error')"
      ],
      "execution_count": 0,
      "outputs": []
    },
    {
      "cell_type": "markdown",
      "metadata": {
        "id": "IK-Z5k19YFfo",
        "colab_type": "text"
      },
      "source": [
        "\n",
        "## Fit the Model\n",
        "\n",
        "Fit ys and xs to generate the pattern\n",
        "\n",
        "Epochs indicate the # of times the loss function and optimizer function would repeat to find the best pattern"
      ]
    },
    {
      "cell_type": "code",
      "metadata": {
        "id": "fWniOhrjYFq6",
        "colab_type": "code",
        "colab": {}
      },
      "source": [
        "model.fit(xs, ys, epochs=500)"
      ],
      "execution_count": 0,
      "outputs": []
    },
    {
      "cell_type": "markdown",
      "metadata": {
        "id": "0zlTZmxQZQUT",
        "colab_type": "text"
      },
      "source": [
        "## Predict the Data\n",
        "\n",
        "Input [X] to predict y"
      ]
    },
    {
      "cell_type": "code",
      "metadata": {
        "id": "vjCGRg92WFb3",
        "colab_type": "code",
        "outputId": "e2e42e2f-c020-4c6b-a83c-c865cd8b41b3",
        "colab": {
          "base_uri": "https://localhost:8080/",
          "height": 34
        }
      },
      "source": [
        "print(model.predict([10.0]))"
      ],
      "execution_count": 0,
      "outputs": [
        {
          "output_type": "stream",
          "text": [
            "[[18.999928]]\n"
          ],
          "name": "stdout"
        }
      ]
    }
  ]
}