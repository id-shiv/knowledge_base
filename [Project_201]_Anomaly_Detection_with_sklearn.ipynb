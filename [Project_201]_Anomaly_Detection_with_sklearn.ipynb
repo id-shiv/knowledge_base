{
  "nbformat": 4,
  "nbformat_minor": 0,
  "metadata": {
    "colab": {
      "name": "[Project 201] Anomaly Detection with sklearn.ipynb",
      "provenance": [],
      "collapsed_sections": [],
      "authorship_tag": "ABX9TyOeXf8uP4h2whDuNz3WfwXz",
      "include_colab_link": true
    },
    "kernelspec": {
      "name": "python3",
      "display_name": "Python 3"
    }
  },
  "cells": [
    {
      "cell_type": "markdown",
      "metadata": {
        "id": "view-in-github",
        "colab_type": "text"
      },
      "source": [
        "<a href=\"https://colab.research.google.com/github/id-shiv/knowledge_base/blob/master/%5BProject_201%5D_Anomaly_Detection_with_sklearn.ipynb\" target=\"_parent\"><img src=\"https://colab.research.google.com/assets/colab-badge.svg\" alt=\"Open In Colab\"/></a>"
      ]
    },
    {
      "cell_type": "markdown",
      "metadata": {
        "id": "5pHMmqjZpGRO",
        "colab_type": "text"
      },
      "source": [
        "# Anomaly Detection\n",
        "Anomaly or an outlier is data point in a dataset that is distant from other data points"
      ]
    },
    {
      "cell_type": "code",
      "metadata": {
        "id": "64wUNX9bpiAU",
        "colab_type": "code",
        "colab": {}
      },
      "source": [
        "# Import libraries\n",
        "import pandas as pd\n",
        "from sklearn.svm import OneClassSVM\n",
        "import seaborn as sb"
      ],
      "execution_count": null,
      "outputs": []
    },
    {
      "cell_type": "code",
      "metadata": {
        "id": "F3dspzB2n1V5",
        "colab_type": "code",
        "colab": {
          "base_uri": "https://localhost:8080/",
          "height": 323
        },
        "outputId": "18e98456-eda6-4280-9855-56e8b7d6fd99"
      },
      "source": [
        "# data_set_path = 'https://docs.google.com/spreadsheets/d/e/2PACX-1vR4xPlauQieuG_9EOmOwT15kcXB6kDQpCjx4__hF4K5lPMFrVEbxEx-ruB_Q-aT9e6S1nd8-DNitVFx/pub?output=csv'\n",
        "# data = pd.read_csv(data_set_path)\n",
        "data = pd.DataFrame(columns=['Server', 'PowerConsumption', 'AmbientTemperature'])\n",
        "insert_data = [\n",
        "                ['ST0001', '124', '88'],\n",
        "                ['ST0001', '124', '89'],\n",
        "                ['ST0001', '126', '90'],\n",
        "                ['ST0001', '124', '87'],\n",
        "                ['ST0001', '127', '88'],\n",
        "                ['ST0001', '129', '90'],\n",
        "                ['ST0001', '142', '98'],\n",
        "                ['ST0001', '145', '101'],\n",
        "                ['ST0001', '148', '102'],\n",
        "                ['ST0001', '145', '102'],\n",
        "                ['ST0001', '130', '98'],\n",
        "                ['ST0001', '127', '90'],\n",
        "                ['ST0001', '124', '87'],\n",
        "                ['ST0001', '124', '88'],\n",
        "                ['ST0001', '124', '88'],\n",
        "                ['ST0001', '124', '88'],\n",
        "                ['ST0001', '124', '88']\n",
        "]\n",
        "for i in range(0, len(insert_data)):\n",
        "  data.loc[i] = insert_data[i]\n",
        "\n",
        "print(data)"
      ],
      "execution_count": null,
      "outputs": [
        {
          "output_type": "stream",
          "text": [
            "    Server PowerConsumption AmbientTemperature\n",
            "0   ST0001              124                 88\n",
            "1   ST0001              124                 89\n",
            "2   ST0001              126                 90\n",
            "3   ST0001              124                 87\n",
            "4   ST0001              127                 88\n",
            "5   ST0001              129                 90\n",
            "6   ST0001              142                 98\n",
            "7   ST0001              145                101\n",
            "8   ST0001              148                102\n",
            "9   ST0001              145                102\n",
            "10  ST0001              130                 98\n",
            "11  ST0001              127                 90\n",
            "12  ST0001              124                 87\n",
            "13  ST0001              124                 88\n",
            "14  ST0001              124                 88\n",
            "15  ST0001              124                 88\n",
            "16  ST0001              124                 88\n"
          ],
          "name": "stdout"
        }
      ]
    },
    {
      "cell_type": "code",
      "metadata": {
        "id": "pEHf1NTq3_LQ",
        "colab_type": "code",
        "colab": {}
      },
      "source": [
        "# Seperate out the label\n",
        "persons = data['Server']\n",
        "data_samples = data.loc[:, 'PowerConsumption': 'AmbientTemperature']"
      ],
      "execution_count": null,
      "outputs": []
    },
    {
      "cell_type": "code",
      "metadata": {
        "id": "aRZfL8-NP1Rr",
        "colab_type": "code",
        "colab": {
          "base_uri": "https://localhost:8080/",
          "height": 404
        },
        "outputId": "6caa3105-8962-4a0a-fbdd-151a7be02747"
      },
      "source": [
        "# Pair plot\n",
        "sb.pairplot(data_samples)"
      ],
      "execution_count": null,
      "outputs": [
        {
          "output_type": "execute_result",
          "data": {
            "text/plain": [
              "<seaborn.axisgrid.PairGrid at 0x7fe537007dd8>"
            ]
          },
          "metadata": {
            "tags": []
          },
          "execution_count": 90
        },
        {
          "output_type": "display_data",
          "data": {
            "image/png": "[encoded data removed]",
            "text/plain": [
              "<Figure size 360x360 with 6 Axes>"
            ]
          },
          "metadata": {
            "tags": [],
            "needs_background": "light"
          }
        }
      ]
    },
    {
      "cell_type": "markdown",
      "metadata": {
        "id": "9Y2DEyrZ69ng",
        "colab_type": "text"
      },
      "source": [
        "Detect Multivariate outliers using one-class Support Vector Machines"
      ]
    },
    {
      "cell_type": "code",
      "metadata": {
        "id": "ELQLQU9v5nqx",
        "colab_type": "code",
        "colab": {
          "base_uri": "https://localhost:8080/",
          "height": 51
        },
        "outputId": "7009d57f-c296-4047-9ebc-52c15df0e79b"
      },
      "source": [
        "model = OneClassSVM(kernel='linear', nu=0.80)\n",
        "model.fit(data_samples)"
      ],
      "execution_count": null,
      "outputs": [
        {
          "output_type": "execute_result",
          "data": {
            "text/plain": [
              "OneClassSVM(cache_size=200, coef0=0.0, degree=3, gamma='scale', kernel='linear',\n",
              "            max_iter=-1, nu=0.8, shrinking=True, tol=0.001, verbose=False)"
            ]
          },
          "metadata": {
            "tags": []
          },
          "execution_count": 91
        }
      ]
    },
    {
      "cell_type": "markdown",
      "metadata": {
        "id": "Fkd2BeYldFtA",
        "colab_type": "text"
      },
      "source": [
        "# Detect surge or spike (caused due to outage etc)"
      ]
    },
    {
      "cell_type": "code",
      "metadata": {
        "id": "T9ykaNkkcFS-",
        "colab_type": "code",
        "colab": {
          "base_uri": "https://localhost:8080/",
          "height": 102
        },
        "outputId": "068fcba0-290e-4b82-bdf7-e249439f0468"
      },
      "source": [
        "print(model.predict(data_samples))\n",
        "print(data[model.predict(data_samples) == 1])"
      ],
      "execution_count": null,
      "outputs": [
        {
          "output_type": "stream",
          "text": [
            "[-1 -1 -1 -1 -1 -1 -1  1  1  1 -1 -1 -1 -1 -1 -1 -1]\n",
            "   Server PowerConsumption AmbientTemperature\n",
            "7  ST0001              145                101\n",
            "8  ST0001              148                102\n",
            "9  ST0001              145                102\n"
          ],
          "name": "stdout"
        }
      ]
    }
  ]
}