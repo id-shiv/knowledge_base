{
  "nbformat": 4,
  "nbformat_minor": 0,
  "metadata": {
    "colab": {
      "name": "[Project 003] Data Analysis.ipynb",
      "provenance": [],
      "collapsed_sections": [],
      "toc_visible": true,
      "authorship_tag": "ABX9TyMH1Pq8fH94gTfHxFVRW0Ar",
      "include_colab_link": true
    },
    "kernelspec": {
      "name": "python3",
      "display_name": "Python 3"
    }
  },
  "cells": [
    {
      "cell_type": "markdown",
      "metadata": {
        "id": "view-in-github",
        "colab_type": "text"
      },
      "source": [
        "<a href=\"https://colab.research.google.com/github/id-shiv/project_notebooks/blob/master/%5BProject_003%5D_Data_Analysis.ipynb\" target=\"_parent\"><img src=\"https://colab.research.google.com/assets/colab-badge.svg\" alt=\"Open In Colab\"/></a>"
      ]
    },
    {
      "cell_type": "markdown",
      "metadata": {
        "id": "O4sZ6qWo88-2",
        "colab_type": "text"
      },
      "source": [
        "# Import Libraries"
      ]
    },
    {
      "cell_type": "code",
      "metadata": {
        "id": "23lkcFCh82DW",
        "colab_type": "code",
        "colab": {}
      },
      "source": [
        "import pandas as pd\n",
        "import matplotlib.pyplot as plt"
      ],
      "execution_count": 0,
      "outputs": []
    },
    {
      "cell_type": "markdown",
      "metadata": {
        "id": "QOrvqfdM9EEr",
        "colab_type": "text"
      },
      "source": [
        "# Import Data"
      ]
    },
    {
      "cell_type": "markdown",
      "metadata": {
        "id": "NfMJqx0Kzy96",
        "colab_type": "text"
      },
      "source": [
        "Dataset : collection of weather metrics"
      ]
    },
    {
      "cell_type": "code",
      "metadata": {
        "id": "UISJzwgc9GGy",
        "colab_type": "code",
        "outputId": "be443be0-d645-453e-ad97-2393b9f48c57",
        "colab": {
          "base_uri": "https://localhost:8080/",
          "height": 295
        }
      },
      "source": [
        "csv_path = 'https://query.data.world/s/af43swnwx5mouyz4pogqazlgk6jhyt'\n",
        "data = pd.read_csv(csv_path)\n",
        "data.head()"
      ],
      "execution_count": 0,
      "outputs": [
        {
          "output_type": "execute_result",
          "data": {
            "text/html": [
              "<div>\n",
              "<style scoped>\n",
              "    .dataframe tbody tr th:only-of-type {\n",
              "        vertical-align: middle;\n",
              "    }\n",
              "\n",
              "    .dataframe tbody tr th {\n",
              "        vertical-align: top;\n",
              "    }\n",
              "\n",
              "    .dataframe thead th {\n",
              "        text-align: right;\n",
              "    }\n",
              "</style>\n",
              "<table border=\"1\" class=\"dataframe\">\n",
              "  <thead>\n",
              "    <tr style=\"text-align: right;\">\n",
              "      <th></th>\n",
              "      <th>Date</th>\n",
              "      <th>Season</th>\n",
              "      <th>Hour</th>\n",
              "      <th>Holiday</th>\n",
              "      <th>Day of the Week</th>\n",
              "      <th>Working Day</th>\n",
              "      <th>Weather Type</th>\n",
              "      <th>Temperature F</th>\n",
              "      <th>Temperature Feels F</th>\n",
              "      <th>Humidity</th>\n",
              "      <th>Wind Speed</th>\n",
              "      <th>Casual Users</th>\n",
              "      <th>Registered Users</th>\n",
              "      <th>Total Users</th>\n",
              "    </tr>\n",
              "  </thead>\n",
              "  <tbody>\n",
              "    <tr>\n",
              "      <th>0</th>\n",
              "      <td>1/1/2011</td>\n",
              "      <td>4</td>\n",
              "      <td>0</td>\n",
              "      <td>0</td>\n",
              "      <td>6</td>\n",
              "      <td>0</td>\n",
              "      <td>1</td>\n",
              "      <td>36.6</td>\n",
              "      <td>37.4</td>\n",
              "      <td>81</td>\n",
              "      <td>0</td>\n",
              "      <td>3</td>\n",
              "      <td>13</td>\n",
              "      <td>16</td>\n",
              "    </tr>\n",
              "    <tr>\n",
              "      <th>1</th>\n",
              "      <td>1/1/2011</td>\n",
              "      <td>4</td>\n",
              "      <td>1</td>\n",
              "      <td>0</td>\n",
              "      <td>6</td>\n",
              "      <td>0</td>\n",
              "      <td>1</td>\n",
              "      <td>34.9</td>\n",
              "      <td>35.6</td>\n",
              "      <td>80</td>\n",
              "      <td>0</td>\n",
              "      <td>8</td>\n",
              "      <td>32</td>\n",
              "      <td>40</td>\n",
              "    </tr>\n",
              "    <tr>\n",
              "      <th>2</th>\n",
              "      <td>1/1/2011</td>\n",
              "      <td>4</td>\n",
              "      <td>2</td>\n",
              "      <td>0</td>\n",
              "      <td>6</td>\n",
              "      <td>0</td>\n",
              "      <td>1</td>\n",
              "      <td>34.9</td>\n",
              "      <td>35.6</td>\n",
              "      <td>80</td>\n",
              "      <td>0</td>\n",
              "      <td>5</td>\n",
              "      <td>27</td>\n",
              "      <td>32</td>\n",
              "    </tr>\n",
              "    <tr>\n",
              "      <th>3</th>\n",
              "      <td>1/1/2011</td>\n",
              "      <td>4</td>\n",
              "      <td>3</td>\n",
              "      <td>0</td>\n",
              "      <td>6</td>\n",
              "      <td>0</td>\n",
              "      <td>1</td>\n",
              "      <td>36.6</td>\n",
              "      <td>37.4</td>\n",
              "      <td>75</td>\n",
              "      <td>0</td>\n",
              "      <td>3</td>\n",
              "      <td>10</td>\n",
              "      <td>13</td>\n",
              "    </tr>\n",
              "    <tr>\n",
              "      <th>4</th>\n",
              "      <td>1/1/2011</td>\n",
              "      <td>4</td>\n",
              "      <td>4</td>\n",
              "      <td>0</td>\n",
              "      <td>6</td>\n",
              "      <td>0</td>\n",
              "      <td>1</td>\n",
              "      <td>36.6</td>\n",
              "      <td>37.4</td>\n",
              "      <td>75</td>\n",
              "      <td>0</td>\n",
              "      <td>0</td>\n",
              "      <td>1</td>\n",
              "      <td>1</td>\n",
              "    </tr>\n",
              "  </tbody>\n",
              "</table>\n",
              "</div>"
            ],
            "text/plain": [
              "       Date  Season  Hour  ...  Casual Users  Registered Users  Total Users\n",
              "0  1/1/2011       4     0  ...             3                13           16\n",
              "1  1/1/2011       4     1  ...             8                32           40\n",
              "2  1/1/2011       4     2  ...             5                27           32\n",
              "3  1/1/2011       4     3  ...             3                10           13\n",
              "4  1/1/2011       4     4  ...             0                 1            1\n",
              "\n",
              "[5 rows x 14 columns]"
            ]
          },
          "metadata": {
            "tags": []
          },
          "execution_count": 64
        }
      ]
    },
    {
      "cell_type": "markdown",
      "metadata": {
        "id": "JDmAgdg8Kf43",
        "colab_type": "text"
      },
      "source": [
        "# Clean Data"
      ]
    },
    {
      "cell_type": "markdown",
      "metadata": {
        "id": "HPvq0_mDMxEy",
        "colab_type": "text"
      },
      "source": [
        "Check the data shape before cleaning"
      ]
    },
    {
      "cell_type": "code",
      "metadata": {
        "id": "mNcCIXgrMvQa",
        "colab_type": "code",
        "outputId": "58a8d8a7-6099-47d7-85bc-1932e6c5e554",
        "colab": {
          "base_uri": "https://localhost:8080/",
          "height": 54
        }
      },
      "source": [
        "data.shape"
      ],
      "execution_count": 0,
      "outputs": [
        {
          "output_type": "execute_result",
          "data": {
            "text/plain": [
              "(17379, 14)"
            ]
          },
          "metadata": {
            "tags": []
          },
          "execution_count": 65
        }
      ]
    },
    {
      "cell_type": "markdown",
      "metadata": {
        "id": "Vc7prVEtLk7L",
        "colab_type": "text"
      },
      "source": [
        "Check NaN rows and drop if any"
      ]
    },
    {
      "cell_type": "code",
      "metadata": {
        "id": "BZITw4zpIzv1",
        "colab_type": "code",
        "outputId": "9a43b6c3-a91a-4dbc-f0a3-29ec20385e4e",
        "colab": {
          "base_uri": "https://localhost:8080/",
          "height": 54
        }
      },
      "source": [
        "nan_rows = data[pd.isnull(data).any(axis=1)]\n",
        "data.dropna(how='any')\n",
        "data.shape"
      ],
      "execution_count": 0,
      "outputs": [
        {
          "output_type": "execute_result",
          "data": {
            "text/plain": [
              "(17379, 14)"
            ]
          },
          "metadata": {
            "tags": []
          },
          "execution_count": 66
        }
      ]
    },
    {
      "cell_type": "markdown",
      "metadata": {
        "id": "7EwX4M90IhY0",
        "colab_type": "text"
      },
      "source": [
        "# Augment Data\n",
        "\n",
        "Enhance the data by adding information"
      ]
    },
    {
      "cell_type": "markdown",
      "metadata": {
        "id": "NlyYIXGiI1xq",
        "colab_type": "text"
      },
      "source": [
        "Add Month and Year column"
      ]
    },
    {
      "cell_type": "code",
      "metadata": {
        "id": "Vu-OahvhIkBJ",
        "colab_type": "code",
        "outputId": "b2880aa1-78bc-4c98-9dbd-4c724ad7fb47",
        "colab": {
          "base_uri": "https://localhost:8080/",
          "height": 275
        }
      },
      "source": [
        "def get_month(date):\n",
        "  return date.split('/')[0]\n",
        "\n",
        "def get_year(date):\n",
        "  return date.split('/')[2]\n",
        "\n",
        "data['Month'] = data['Date'].apply(lambda x: get_month(x))\n",
        "data['Year'] = data['Date'].apply(lambda x: get_year(x))\n",
        "data.tail()"
      ],
      "execution_count": 0,
      "outputs": [
        {
          "output_type": "execute_result",
          "data": {
            "text/html": [
              "<div>\n",
              "<style scoped>\n",
              "    .dataframe tbody tr th:only-of-type {\n",
              "        vertical-align: middle;\n",
              "    }\n",
              "\n",
              "    .dataframe tbody tr th {\n",
              "        vertical-align: top;\n",
              "    }\n",
              "\n",
              "    .dataframe thead th {\n",
              "        text-align: right;\n",
              "    }\n",
              "</style>\n",
              "<table border=\"1\" class=\"dataframe\">\n",
              "  <thead>\n",
              "    <tr style=\"text-align: right;\">\n",
              "      <th></th>\n",
              "      <th>Date</th>\n",
              "      <th>Season</th>\n",
              "      <th>Hour</th>\n",
              "      <th>Holiday</th>\n",
              "      <th>Day of the Week</th>\n",
              "      <th>Working Day</th>\n",
              "      <th>Weather Type</th>\n",
              "      <th>Temperature F</th>\n",
              "      <th>Temperature Feels F</th>\n",
              "      <th>Humidity</th>\n",
              "      <th>Wind Speed</th>\n",
              "      <th>Casual Users</th>\n",
              "      <th>Registered Users</th>\n",
              "      <th>Total Users</th>\n",
              "      <th>Month</th>\n",
              "      <th>Year</th>\n",
              "    </tr>\n",
              "  </thead>\n",
              "  <tbody>\n",
              "    <tr>\n",
              "      <th>17374</th>\n",
              "      <td>12/31/2012</td>\n",
              "      <td>4</td>\n",
              "      <td>19</td>\n",
              "      <td>0</td>\n",
              "      <td>1</td>\n",
              "      <td>1</td>\n",
              "      <td>2</td>\n",
              "      <td>38.3</td>\n",
              "      <td>33.8</td>\n",
              "      <td>60</td>\n",
              "      <td>11</td>\n",
              "      <td>11</td>\n",
              "      <td>108</td>\n",
              "      <td>119</td>\n",
              "      <td>12</td>\n",
              "      <td>2012</td>\n",
              "    </tr>\n",
              "    <tr>\n",
              "      <th>17375</th>\n",
              "      <td>12/31/2012</td>\n",
              "      <td>4</td>\n",
              "      <td>20</td>\n",
              "      <td>0</td>\n",
              "      <td>1</td>\n",
              "      <td>1</td>\n",
              "      <td>2</td>\n",
              "      <td>38.3</td>\n",
              "      <td>33.8</td>\n",
              "      <td>60</td>\n",
              "      <td>11</td>\n",
              "      <td>8</td>\n",
              "      <td>81</td>\n",
              "      <td>89</td>\n",
              "      <td>12</td>\n",
              "      <td>2012</td>\n",
              "    </tr>\n",
              "    <tr>\n",
              "      <th>17376</th>\n",
              "      <td>12/31/2012</td>\n",
              "      <td>4</td>\n",
              "      <td>21</td>\n",
              "      <td>0</td>\n",
              "      <td>1</td>\n",
              "      <td>1</td>\n",
              "      <td>1</td>\n",
              "      <td>38.3</td>\n",
              "      <td>33.8</td>\n",
              "      <td>60</td>\n",
              "      <td>11</td>\n",
              "      <td>7</td>\n",
              "      <td>83</td>\n",
              "      <td>90</td>\n",
              "      <td>12</td>\n",
              "      <td>2012</td>\n",
              "    </tr>\n",
              "    <tr>\n",
              "      <th>17377</th>\n",
              "      <td>12/31/2012</td>\n",
              "      <td>4</td>\n",
              "      <td>22</td>\n",
              "      <td>0</td>\n",
              "      <td>1</td>\n",
              "      <td>1</td>\n",
              "      <td>1</td>\n",
              "      <td>38.3</td>\n",
              "      <td>35.6</td>\n",
              "      <td>56</td>\n",
              "      <td>9</td>\n",
              "      <td>13</td>\n",
              "      <td>48</td>\n",
              "      <td>61</td>\n",
              "      <td>12</td>\n",
              "      <td>2012</td>\n",
              "    </tr>\n",
              "    <tr>\n",
              "      <th>17378</th>\n",
              "      <td>12/31/2012</td>\n",
              "      <td>4</td>\n",
              "      <td>23</td>\n",
              "      <td>0</td>\n",
              "      <td>1</td>\n",
              "      <td>1</td>\n",
              "      <td>1</td>\n",
              "      <td>38.3</td>\n",
              "      <td>35.6</td>\n",
              "      <td>65</td>\n",
              "      <td>9</td>\n",
              "      <td>12</td>\n",
              "      <td>37</td>\n",
              "      <td>49</td>\n",
              "      <td>12</td>\n",
              "      <td>2012</td>\n",
              "    </tr>\n",
              "  </tbody>\n",
              "</table>\n",
              "</div>"
            ],
            "text/plain": [
              "             Date  Season  Hour  ...  Total Users  Month  Year\n",
              "17374  12/31/2012       4    19  ...          119     12  2012\n",
              "17375  12/31/2012       4    20  ...           89     12  2012\n",
              "17376  12/31/2012       4    21  ...           90     12  2012\n",
              "17377  12/31/2012       4    22  ...           61     12  2012\n",
              "17378  12/31/2012       4    23  ...           49     12  2012\n",
              "\n",
              "[5 rows x 16 columns]"
            ]
          },
          "metadata": {
            "tags": []
          },
          "execution_count": 67
        }
      ]
    },
    {
      "cell_type": "markdown",
      "metadata": {
        "id": "To_iICiB1NgD",
        "colab_type": "text"
      },
      "source": [
        "# Analyze Data"
      ]
    },
    {
      "cell_type": "markdown",
      "metadata": {
        "id": "f8vrv5NW1R2A",
        "colab_type": "text"
      },
      "source": [
        "## Q1 Which month has maximum causual users?"
      ]
    },
    {
      "cell_type": "code",
      "metadata": {
        "id": "7xYimdmz1L4Y",
        "colab_type": "code",
        "colab": {}
      },
      "source": [
        "results = data.groupby('Month').sum()"
      ],
      "execution_count": 0,
      "outputs": []
    },
    {
      "cell_type": "code",
      "metadata": {
        "id": "UqxvaJGBy4wp",
        "colab_type": "code",
        "outputId": "46c044b6-960b-467f-c92a-ce9fad7e6b3a",
        "colab": {
          "base_uri": "https://localhost:8080/",
          "height": 279
        }
      },
      "source": [
        "plt.bar(months, results['Casual Users']) # plot months vs casual users\n",
        "months = range(1, 13)\n",
        "plt.xticks(months) # set the X-axis range\n",
        "\n",
        "# Label axis\n",
        "plt.xlabel('Month')\n",
        "plt.ylabel('# of Casual Users')\n",
        "\n",
        "plt.show()"
      ],
      "execution_count": 0,
      "outputs": [
        {
          "output_type": "display_data",
          "data": {
            "image/png": "[encoded data removed]",
            "text/plain": [
              "<Figure size 432x288 with 1 Axes>"
            ]
          },
          "metadata": {
            "tags": []
          }
        }
      ]
    },
    {
      "cell_type": "markdown",
      "metadata": {
        "id": "t-vDsTFE2Wj9",
        "colab_type": "text"
      },
      "source": [
        "## Q2 Which Season?"
      ]
    },
    {
      "cell_type": "code",
      "metadata": {
        "id": "9ADOO2tT1ktd",
        "colab_type": "code",
        "colab": {}
      },
      "source": [
        "seasons = [season for season, _ in data.groupby('Season')]"
      ],
      "execution_count": 0,
      "outputs": []
    },
    {
      "cell_type": "code",
      "metadata": {
        "id": "fXwUJJe70GBu",
        "colab_type": "code",
        "outputId": "1958d0de-f591-4944-c9a4-fe8073baf86e",
        "colab": {
          "base_uri": "https://localhost:8080/",
          "height": 279
        }
      },
      "source": [
        "plt.plot(seasons, data.groupby('Season').count()) #\n",
        "plt.xticks(seasons) # set the X-axis range\n",
        "\n",
        "# Label axis\n",
        "plt.xlabel('Season')\n",
        "plt.ylabel('Count of Sample')\n",
        "\n",
        "plt.grid()\n",
        "plt.show()"
      ],
      "execution_count": 0,
      "outputs": [
        {
          "output_type": "display_data",
          "data": {
            "image/png": "[encoded data removed]",
            "text/plain": [
              "<Figure size 432x288 with 1 Axes>"
            ]
          },
          "metadata": {
            "tags": []
          }
        }
      ]
    }
  ]
}