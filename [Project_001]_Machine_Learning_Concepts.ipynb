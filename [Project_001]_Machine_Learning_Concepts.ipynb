{
  "nbformat": 4,
  "nbformat_minor": 0,
  "metadata": {
    "colab": {
      "name": "[Project 001] Machine Learning Concepts.ipynb",
      "provenance": [],
      "collapsed_sections": [
        "FwYi0CABMzDv",
        "8AxtsEh6Dy86",
        "wF75MSOqEN97",
        "qo1VqAWLkU8L",
        "ntKjFBb_LhbY",
        "yf9EYLINOSpR",
        "qz5H2bPsC6ZN",
        "fsOJNtVgRcur",
        "7S41Frds0o0g",
        "06-6kwI1v5rq",
        "n2jHJh0FPGKY",
        "WKcXvlMcRUnJ",
        "MP82JB3Gv8rg",
        "M81p8OkG1iZJ",
        "wgPMziC3c_si",
        "I506xP92dIld",
        "i_suiWSGekfu",
        "DKRZUgT3sKkm",
        "_yHPGEDDt2GH",
        "U7GWaSx8sspG",
        "YDbRAwyhf4Ob",
        "QgS5VvmYDm5h",
        "ZRS303LyGPkX",
        "WagaK_JkGhSe",
        "84m-4HNJttA-",
        "BPWGJam7G8bT",
        "1ps1ALjAzwys",
        "f_lxDZI90SNn",
        "AmP2zWIP164W",
        "1CChn7sO66Aj",
        "Ut75EmVf7G2I",
        "GsL6l7nT7Ril",
        "d8-bK-3m7jd8",
        "B4W6Cv8PN3pn",
        "JmITJLI0OJoO",
        "zNXUqsbhaOgt",
        "qykDQ0HBIt-x",
        "dRLFsA5DxQuv",
        "Z78HahQXxVVE",
        "1BtyRYImxc6K",
        "Zp0m9-N3fax0"
      ],
      "mount_file_id": "1xKYKB4C_tFvO3Nad2oGdcEH2rWvYdOPq",
      "authorship_tag": "ABX9TyPgdwATNvIgff67q8RIOQVB",
      "include_colab_link": true
    },
    "kernelspec": {
      "name": "python3",
      "display_name": "Python 3"
    }
  },
  "cells": [
    {
      "cell_type": "markdown",
      "metadata": {
        "id": "view-in-github",
        "colab_type": "text"
      },
      "source": [
        "<a href=\"https://colab.research.google.com/github/id-shiv/project_notebooks/blob/master/%5BProject_001%5D_Machine_Learning_Concepts.ipynb\" target=\"_parent\"><img src=\"https://colab.research.google.com/assets/colab-badge.svg\" alt=\"Open In Colab\"/></a>"
      ]
    },
    {
      "cell_type": "markdown",
      "metadata": {
        "id": "FwYi0CABMzDv",
        "colab_type": "text"
      },
      "source": [
        "# Concept"
      ]
    },
    {
      "cell_type": "markdown",
      "metadata": {
        "id": "nc5ClKiJEOCa",
        "colab_type": "text"
      },
      "source": [
        "**Traditional Method** \n",
        "\n",
        "```\n",
        "Input Data + Hardcoded Rules -> Output\n",
        "```\n",
        "\n",
        "**Machine Learning**\n",
        "\n",
        "```\n",
        "Training   : Input Data     + Output       -> General Rule \n",
        "  \n",
        "Prediction : New Input Data + General Rule -> Output (Predicted with Probability score)\n",
        "```"
      ]
    },
    {
      "cell_type": "markdown",
      "metadata": {
        "id": "8AxtsEh6Dy86",
        "colab_type": "text"
      },
      "source": [
        "# Example"
      ]
    },
    {
      "cell_type": "markdown",
      "metadata": {
        "id": "jHvJ1BcZq48h",
        "colab_type": "text"
      },
      "source": [
        "\n",
        "* Input Data (Features) : Characteristics of the flower\n",
        "> * Sepal Length\n",
        "> * Sepal Width\n",
        "> * Petal Length\n",
        "> * Petal Width\n",
        "* Output (Label) : Class of Iris flower\n",
        "> * Versicolor\n",
        "> * Setosa\n",
        "> * Virginica"
      ]
    },
    {
      "cell_type": "markdown",
      "metadata": {
        "id": "-W80QOlmtISr",
        "colab_type": "text"
      },
      "source": [
        "![](https://drive.google.com/uc?export=view&id=1XBfOJjt0tj7nQ0w3TdWhCwJRob2SMizy)"
      ]
    },
    {
      "cell_type": "code",
      "metadata": {
        "id": "T-ZuWRmdrM8r",
        "colab_type": "code",
        "colab": {
          "base_uri": "https://localhost:8080/",
          "height": 139
        },
        "outputId": "cbb0a839-cced-4de6-f6cc-24655952e445"
      },
      "source": [
        "# Import Data\n",
        "url = \"https://raw.githubusercontent.com/jbrownlee/Datasets/master/iris.csv\"\n",
        "names = ['sepal-length', 'sepal-width', 'petal-length', 'petal-width', 'class']\n",
        "data = pd.read_csv(url, names=names)\n",
        "\n",
        "# Expected Output\n",
        "label = 'class'\n",
        "\n",
        "# View Data\n",
        "print(data.head())"
      ],
      "execution_count": 123,
      "outputs": [
        {
          "output_type": "stream",
          "text": [
            "   sepal-length  sepal-width  petal-length  petal-width        class\n",
            "0           5.1          3.5           1.4          0.2  Iris-setosa\n",
            "1           4.9          3.0           1.4          0.2  Iris-setosa\n",
            "2           4.7          3.2           1.3          0.2  Iris-setosa\n",
            "3           4.6          3.1           1.5          0.2  Iris-setosa\n",
            "4           5.0          3.6           1.4          0.2  Iris-setosa\n"
          ],
          "name": "stdout"
        }
      ]
    },
    {
      "cell_type": "code",
      "metadata": {
        "id": "MLOx7QozEwrR",
        "colab_type": "code",
        "colab": {
          "base_uri": "https://localhost:8080/",
          "height": 105
        },
        "outputId": "c248c594-6e2e-45f8-800a-f8e4380f628c"
      },
      "source": [
        "# Characteristics\n",
        "print(f'Features : {features}')\n",
        "print(f'Label : {label}')\n",
        "print(f'Number of samples : {data.shape[0]}')\n",
        "print(f'Classes : {np.unique(data[label])}')"
      ],
      "execution_count": 124,
      "outputs": [
        {
          "output_type": "stream",
          "text": [
            "Features : ['sepal length (cm)', 'sepal width (cm)', 'petal length (cm)', 'petal width (cm)']\n",
            "Label : class\n",
            "Number of samples : 150\n",
            "Classes : ['Iris-setosa' 'Iris-versicolor' 'Iris-virginica']\n"
          ],
          "name": "stdout"
        }
      ]
    },
    {
      "cell_type": "code",
      "metadata": {
        "id": "xXk5Nlp8Ew1i",
        "colab_type": "code",
        "colab": {
          "base_uri": "https://localhost:8080/",
          "height": 88
        },
        "outputId": "f2ea5993-771a-4fb1-a5e7-17e87294ed6c"
      },
      "source": [
        "# Samples\n",
        "print(np.array(data.loc[data['class'] == 'Iris-setosa'].iloc[0]))\n",
        "print(np.array(data.loc[data['class'] == 'Iris-versicolor'].iloc[0]))\n",
        "print(np.array(data.loc[data['class'] == 'Iris-virginica'].iloc[0]))"
      ],
      "execution_count": 125,
      "outputs": [
        {
          "output_type": "stream",
          "text": [
            "[5.1 3.5 1.4 0.2 'Iris-setosa']\n",
            "[7.0 3.2 4.7 1.4 'Iris-versicolor']\n",
            "[6.3 3.3 6.0 2.5 'Iris-virginica']\n"
          ],
          "name": "stdout"
        }
      ]
    },
    {
      "cell_type": "markdown",
      "metadata": {
        "id": "wF75MSOqEN97",
        "colab_type": "text"
      },
      "source": [
        "# Terminologies"
      ]
    },
    {
      "cell_type": "markdown",
      "metadata": {
        "id": "yHInvr2-ERE_",
        "colab_type": "text"
      },
      "source": [
        "* Data Features : Attributes (Columns) of data that would used to determine the output.\n",
        "* Data Samples (X) : Each row in the data, set of features associated to a specific category.\n",
        "* Data Labels (y) : Output data to be predicted.\n",
        "- Class : Categories within Data Label\n",
        "* Data Characteristic : Univariate or Multivariate.\n",
        "* Attribute Characteristics : Data type (Integer, String, Date, etc.).\n",
        "* NaN : Missing values.\n",
        "\n"
      ]
    },
    {
      "cell_type": "markdown",
      "metadata": {
        "id": "qo1VqAWLkU8L",
        "colab_type": "text"
      },
      "source": [
        "# Workflow"
      ]
    },
    {
      "cell_type": "markdown",
      "metadata": {
        "id": "FKzh9fctl3Lr",
        "colab_type": "text"
      },
      "source": [
        "* Data\n",
        "> * Import\n",
        "> * (If applicable) Explore Data\n",
        "> * Determine Problem\n",
        ">> * Data analysis?\n",
        ">> * Classification?\n",
        ">> * Regression?\n",
        ">> * Clustering?\n",
        "> * Pre-Process Data\n",
        ">> * Detect Features(X) and Labels (y)\n",
        ">> * (If applicable) Handle Missing values (NaN)\n",
        ">> * (If applicable) Remove \n",
        ">> * (If applicable) Augment Data\n",
        ">>> * (If applicable) Add new \\ Modify columns\n",
        ">> * (If applicable) Handle Non-Numeric Data\n",
        "* Model\n",
        "> * Determine  \n",
        "Based on Problem\n",
        "> * Create\n",
        "> * Split Data into Testing and Training Data\n",
        "> * Train  \n",
        "With Train Data\n",
        "> * Evaluate - Accuracy.  \n",
        "Evaluate the Model trained with Training Data against Testing Data.  \n",
        "Compare Actual Testing Data Output to Predicted Output\n",
        "> * (If applicable) Tune Model\n",
        "> * (If applicable) Save\n",
        "* Predict\n",
        "> * (If applicable) Load Model\n",
        "> * Predict"
      ]
    },
    {
      "cell_type": "markdown",
      "metadata": {
        "id": "ntKjFBb_LhbY",
        "colab_type": "text"
      },
      "source": [
        "# Libraries"
      ]
    },
    {
      "cell_type": "code",
      "metadata": {
        "id": "6O_IOB9TLisH",
        "colab_type": "code",
        "colab": {}
      },
      "source": [
        "import pandas as pd\n",
        "import numpy as np\n",
        "\n",
        "import sklearn\n",
        "from sklearn import linear_model, preprocessing, svm\n",
        "from sklearn import datasets, metrics\n",
        "from sklearn.neighbors import KNeighborsClassifier\n",
        "from sklearn.utils import shuffle\n",
        "from sklearn.cluster import KMeans\n",
        "from sklearn.datasets import load_iris\n",
        "from sklearn.preprocessing import scale\n",
        "\n",
        "import matplotlib.pyplot as pyplot\n",
        "from matplotlib import style\n",
        "\n",
        "import pickle"
      ],
      "execution_count": 0,
      "outputs": []
    },
    {
      "cell_type": "markdown",
      "metadata": {
        "id": "yf9EYLINOSpR",
        "colab_type": "text"
      },
      "source": [
        "# Problem 1 - Regression with Linear Regression"
      ]
    },
    {
      "cell_type": "markdown",
      "metadata": {
        "id": "zfjFQBUKOVqw",
        "colab_type": "text"
      },
      "source": [
        "Predict G3 based on given data for all the students"
      ]
    },
    {
      "cell_type": "markdown",
      "metadata": {
        "id": "qz5H2bPsC6ZN",
        "colab_type": "text"
      },
      "source": [
        "### Data"
      ]
    },
    {
      "cell_type": "code",
      "metadata": {
        "id": "415_RY5rCzCh",
        "colab_type": "code",
        "outputId": "f16d9a6a-28a8-40d2-f231-b34fcd65bbfd",
        "colab": {
          "base_uri": "https://localhost:8080/",
          "height": 139
        }
      },
      "source": [
        "data_file = '/content/drive/My Drive/050 Colaboratory Notebooks/Datasets/student-mat.csv'\n",
        "data = pd.read_csv(data_file, delimiter=';')\n",
        "data.columns"
      ],
      "execution_count": 127,
      "outputs": [
        {
          "output_type": "execute_result",
          "data": {
            "text/plain": [
              "Index(['school', 'sex', 'age', 'address', 'famsize', 'Pstatus', 'Medu', 'Fedu',\n",
              "       'Mjob', 'Fjob', 'reason', 'guardian', 'traveltime', 'studytime',\n",
              "       'failures', 'schoolsup', 'famsup', 'paid', 'activities', 'nursery',\n",
              "       'higher', 'internet', 'romantic', 'famrel', 'freetime', 'goout', 'Dalc',\n",
              "       'Walc', 'health', 'absences', 'G1', 'G2', 'G3'],\n",
              "      dtype='object')"
            ]
          },
          "metadata": {
            "tags": []
          },
          "execution_count": 127
        }
      ]
    },
    {
      "cell_type": "code",
      "metadata": {
        "id": "kTC19eHdRIj9",
        "colab_type": "code",
        "outputId": "a4a280c1-4ea3-4ace-ee58-03e8ce4dda07",
        "colab": {
          "base_uri": "https://localhost:8080/",
          "height": 224
        }
      },
      "source": [
        "data = data[['G1', 'G2', 'G3', 'studytime', 'failures', 'absences']]\n",
        "data.head()"
      ],
      "execution_count": 128,
      "outputs": [
        {
          "output_type": "execute_result",
          "data": {
            "text/html": [
              "<div>\n",
              "<style scoped>\n",
              "    .dataframe tbody tr th:only-of-type {\n",
              "        vertical-align: middle;\n",
              "    }\n",
              "\n",
              "    .dataframe tbody tr th {\n",
              "        vertical-align: top;\n",
              "    }\n",
              "\n",
              "    .dataframe thead th {\n",
              "        text-align: right;\n",
              "    }\n",
              "</style>\n",
              "<table border=\"1\" class=\"dataframe\">\n",
              "  <thead>\n",
              "    <tr style=\"text-align: right;\">\n",
              "      <th></th>\n",
              "      <th>G1</th>\n",
              "      <th>G2</th>\n",
              "      <th>G3</th>\n",
              "      <th>studytime</th>\n",
              "      <th>failures</th>\n",
              "      <th>absences</th>\n",
              "    </tr>\n",
              "  </thead>\n",
              "  <tbody>\n",
              "    <tr>\n",
              "      <th>0</th>\n",
              "      <td>5</td>\n",
              "      <td>6</td>\n",
              "      <td>6</td>\n",
              "      <td>2</td>\n",
              "      <td>0</td>\n",
              "      <td>6</td>\n",
              "    </tr>\n",
              "    <tr>\n",
              "      <th>1</th>\n",
              "      <td>5</td>\n",
              "      <td>5</td>\n",
              "      <td>6</td>\n",
              "      <td>2</td>\n",
              "      <td>0</td>\n",
              "      <td>4</td>\n",
              "    </tr>\n",
              "    <tr>\n",
              "      <th>2</th>\n",
              "      <td>7</td>\n",
              "      <td>8</td>\n",
              "      <td>10</td>\n",
              "      <td>2</td>\n",
              "      <td>3</td>\n",
              "      <td>10</td>\n",
              "    </tr>\n",
              "    <tr>\n",
              "      <th>3</th>\n",
              "      <td>15</td>\n",
              "      <td>14</td>\n",
              "      <td>15</td>\n",
              "      <td>3</td>\n",
              "      <td>0</td>\n",
              "      <td>2</td>\n",
              "    </tr>\n",
              "    <tr>\n",
              "      <th>4</th>\n",
              "      <td>6</td>\n",
              "      <td>10</td>\n",
              "      <td>10</td>\n",
              "      <td>2</td>\n",
              "      <td>0</td>\n",
              "      <td>4</td>\n",
              "    </tr>\n",
              "  </tbody>\n",
              "</table>\n",
              "</div>"
            ],
            "text/plain": [
              "   G1  G2  G3  studytime  failures  absences\n",
              "0   5   6   6          2         0         6\n",
              "1   5   5   6          2         0         4\n",
              "2   7   8  10          2         3        10\n",
              "3  15  14  15          3         0         2\n",
              "4   6  10  10          2         0         4"
            ]
          },
          "metadata": {
            "tags": []
          },
          "execution_count": 128
        }
      ]
    },
    {
      "cell_type": "markdown",
      "metadata": {
        "id": "fsOJNtVgRcur",
        "colab_type": "text"
      },
      "source": [
        "## Pre-Process Data"
      ]
    },
    {
      "cell_type": "markdown",
      "metadata": {
        "id": "7S41Frds0o0g",
        "colab_type": "text"
      },
      "source": [
        "### Create Features Vs Labels"
      ]
    },
    {
      "cell_type": "markdown",
      "metadata": {
        "id": "ymCNhJQvRpv4",
        "colab_type": "text"
      },
      "source": [
        "Set the label (Category \\ Classifier) feature of the data"
      ]
    },
    {
      "cell_type": "code",
      "metadata": {
        "id": "eceiVZpROJZS",
        "colab_type": "code",
        "colab": {}
      },
      "source": [
        "label = 'G3'"
      ],
      "execution_count": 0,
      "outputs": []
    },
    {
      "cell_type": "markdown",
      "metadata": {
        "id": "w0UlGTIcRxlB",
        "colab_type": "text"
      },
      "source": [
        "Split Data into features (X) and labels (y)"
      ]
    },
    {
      "cell_type": "code",
      "metadata": {
        "id": "yn_VFPWgOnM7",
        "colab_type": "code",
        "colab": {}
      },
      "source": [
        "X = data.drop([label], axis=1)\n",
        "y = data[label]"
      ],
      "execution_count": 0,
      "outputs": []
    },
    {
      "cell_type": "markdown",
      "metadata": {
        "id": "06-6kwI1v5rq",
        "colab_type": "text"
      },
      "source": [
        "## View Data"
      ]
    },
    {
      "cell_type": "code",
      "metadata": {
        "id": "dY17t-x7IJuo",
        "colab_type": "code",
        "outputId": "f36838f1-dce0-4726-942d-a7c071464de1",
        "colab": {
          "base_uri": "https://localhost:8080/",
          "height": 105
        }
      },
      "source": [
        "print(f'Number of Features : {len(X.columns)}')\n",
        "print(f'Features : {list(X.columns)}')\n",
        "print(f'Number of samples : {len(X)}')\n",
        "print(f'Number of classes : {len(np.unique(y))}')"
      ],
      "execution_count": 131,
      "outputs": [
        {
          "output_type": "stream",
          "text": [
            "Number of Features : 5\n",
            "Features : ['G1', 'G2', 'studytime', 'failures', 'absences']\n",
            "Number of samples : 395\n",
            "Number of classes : 18\n"
          ],
          "name": "stdout"
        }
      ]
    },
    {
      "cell_type": "markdown",
      "metadata": {
        "id": "n2jHJh0FPGKY",
        "colab_type": "text"
      },
      "source": [
        "## Split Train - Test"
      ]
    },
    {
      "cell_type": "markdown",
      "metadata": {
        "id": "ZjOIIbnaq8ry",
        "colab_type": "text"
      },
      "source": [
        "Split Data into test and training samples,  \n",
        "This is to train the model with data different than that of what we would test the model with.\n",
        "\n",
        "Generally test to training sample ratio would be 10 to 20%"
      ]
    },
    {
      "cell_type": "markdown",
      "metadata": {
        "id": "966VhDnDPZ1x",
        "colab_type": "text"
      },
      "source": [
        "Split the data as 4 arrays\n",
        "* X_train will be used to train the model to predict y_train\n",
        "* X_test will be used to test the prediction accuracy of the model against the actual y_test"
      ]
    },
    {
      "cell_type": "code",
      "metadata": {
        "id": "a7F5l5uhO_Jy",
        "colab_type": "code",
        "outputId": "cb0c5331-0f62-41f1-98fe-9f5f95c2b0bd",
        "colab": {
          "base_uri": "https://localhost:8080/",
          "height": 105
        }
      },
      "source": [
        "x_train, x_test, y_train, y_test = sklearn.model_selection.train_test_split(X, y, test_size=0.1)\n",
        "print(len(x_train))\n",
        "print(len(y_train))\n",
        "print(len(x_test))\n",
        "print(len(y_test))"
      ],
      "execution_count": 132,
      "outputs": [
        {
          "output_type": "stream",
          "text": [
            "355\n",
            "355\n",
            "40\n",
            "40\n"
          ],
          "name": "stdout"
        }
      ]
    },
    {
      "cell_type": "markdown",
      "metadata": {
        "id": "WKcXvlMcRUnJ",
        "colab_type": "text"
      },
      "source": [
        "## Linear Regression\n"
      ]
    },
    {
      "cell_type": "markdown",
      "metadata": {
        "id": "2dVevsRrTKOy",
        "colab_type": "text"
      },
      "source": [
        "* Features plotted with N-dimentions. \n",
        "```\n",
        "N = Number of features\n",
        "```\n",
        "---\n",
        "Best Fit Line\n",
        "- Line that pierces through data points with minimum error\n",
        "- Defined by equation (for 2 dimentional data) : y = mx + c\n",
        "- m : slope of the line. Derived by taking 2 points in the slope and calculating it as: \n",
        "```\n",
        "m = ( y2 - y1 ) / ( x2 - x1 )\n",
        "```\n",
        "- b : is called the y intercept. i.e point in y-axis where the best fit line intercepts.\n",
        "---\n",
        "\n",
        "- Linear Regression may be used when there is a strong corelation between the data points. i.e. farthest point has minimum error.\n",
        "\n"
      ]
    },
    {
      "cell_type": "markdown",
      "metadata": {
        "id": "e-GQnR3kUrcs",
        "colab_type": "text"
      },
      "source": [
        "![](https://drive.google.com/uc?export=view&id=1g8dGt37SFkH6hxBB1WzPfJw5iq9h6P7U)"
      ]
    },
    {
      "cell_type": "markdown",
      "metadata": {
        "id": "MP82JB3Gv8rg",
        "colab_type": "text"
      },
      "source": [
        "### Plot"
      ]
    },
    {
      "cell_type": "markdown",
      "metadata": {
        "id": "URAoiM-vxXL0",
        "colab_type": "text"
      },
      "source": [
        "Plot X vs Label to visualize the data points and correlation\n",
        "\n",
        "Modify the x_label below to view correlation between different features and label"
      ]
    },
    {
      "cell_type": "code",
      "metadata": {
        "id": "iDI1eJ_Ev-d5",
        "colab_type": "code",
        "outputId": "172f091c-50f5-47cd-987e-681163ad8444",
        "colab": {
          "base_uri": "https://localhost:8080/",
          "height": 302
        }
      },
      "source": [
        "x_label = 'G1'\n",
        "y_label = 'G3'\n",
        "\n",
        "x_points = data[x_label]\n",
        "y_points = data[y_label]\n",
        "\n",
        "style.use('ggplot')\n",
        "pyplot.scatter(x_points, y_points)\n",
        "pyplot.xlabel(x_label)\n",
        "pyplot.ylabel(y_label)\n",
        "\n",
        "pyplot.show()"
      ],
      "execution_count": 133,
      "outputs": [
        {
          "output_type": "display_data",
          "data": {
            "image/png": "[encoded data removed]",
            "text/plain": [
              "<Figure size 432x288 with 1 Axes>"
            ]
          },
          "metadata": {
            "tags": []
          }
        }
      ]
    },
    {
      "cell_type": "markdown",
      "metadata": {
        "id": "M81p8OkG1iZJ",
        "colab_type": "text"
      },
      "source": [
        "### Create Model"
      ]
    },
    {
      "cell_type": "code",
      "metadata": {
        "id": "wFoyMdhPawsN",
        "colab_type": "code",
        "colab": {}
      },
      "source": [
        "model = linear_model.LinearRegression()"
      ],
      "execution_count": 0,
      "outputs": []
    },
    {
      "cell_type": "markdown",
      "metadata": {
        "id": "wgPMziC3c_si",
        "colab_type": "text"
      },
      "source": [
        "## Train"
      ]
    },
    {
      "cell_type": "code",
      "metadata": {
        "id": "MrPFDZ-cc_5V",
        "colab_type": "code",
        "outputId": "631f94c6-7d5b-4564-e4d1-89ed214af4c2",
        "colab": {
          "base_uri": "https://localhost:8080/",
          "height": 54
        }
      },
      "source": [
        "model.fit(x_train, y_train)"
      ],
      "execution_count": 135,
      "outputs": [
        {
          "output_type": "execute_result",
          "data": {
            "text/plain": [
              "LinearRegression(copy_X=True, fit_intercept=True, n_jobs=None, normalize=False)"
            ]
          },
          "metadata": {
            "tags": []
          },
          "execution_count": 135
        }
      ]
    },
    {
      "cell_type": "markdown",
      "metadata": {
        "id": "I506xP92dIld",
        "colab_type": "text"
      },
      "source": [
        "## Evaluate"
      ]
    },
    {
      "cell_type": "code",
      "metadata": {
        "id": "8Q3JC3rpdIuh",
        "colab_type": "code",
        "outputId": "87235c55-5362-43c5-918a-db9f6d59fc26",
        "colab": {
          "base_uri": "https://localhost:8080/",
          "height": 54
        }
      },
      "source": [
        "accuracy = model.score(x_test, y_test)\n",
        "print(accuracy)"
      ],
      "execution_count": 136,
      "outputs": [
        {
          "output_type": "stream",
          "text": [
            "0.8298614153249448\n"
          ],
          "name": "stdout"
        }
      ]
    },
    {
      "cell_type": "markdown",
      "metadata": {
        "id": "i_suiWSGekfu",
        "colab_type": "text"
      },
      "source": [
        "## View"
      ]
    },
    {
      "cell_type": "code",
      "metadata": {
        "id": "QfrOBkbeelyk",
        "colab_type": "code",
        "outputId": "0d7b0f91-0bbc-4f5f-d988-2b5ba35662cc",
        "colab": {
          "base_uri": "https://localhost:8080/",
          "height": 88
        }
      },
      "source": [
        "print(f'Co-efficient (m) : {model.coef_}')\n",
        "print(f'Number of dimensions (N) : {len(model.coef_)}')\n",
        "print(f'Y-intercept (b) : {model.intercept_}')"
      ],
      "execution_count": 137,
      "outputs": [
        {
          "output_type": "stream",
          "text": [
            "Co-efficient (m) : [ 0.13346398  0.98977449 -0.20936944 -0.37186664  0.03273496]\n",
            "Number of dimensions (N) : 5\n",
            "Y-intercept (b) : -1.2969843058204322\n"
          ],
          "name": "stdout"
        }
      ]
    },
    {
      "cell_type": "markdown",
      "metadata": {
        "id": "DKRZUgT3sKkm",
        "colab_type": "text"
      },
      "source": [
        "## Save"
      ]
    },
    {
      "cell_type": "markdown",
      "metadata": {
        "id": "uOqmimKmsOVG",
        "colab_type": "text"
      },
      "source": [
        "Save the model as a pickle to re-training everytime the model is used for prediction"
      ]
    },
    {
      "cell_type": "code",
      "metadata": {
        "id": "ZoNixKO9sU4r",
        "colab_type": "code",
        "colab": {}
      },
      "source": [
        "with open('model.pickle', 'wb') as f:\n",
        "  pickle.dump(model, f)"
      ],
      "execution_count": 0,
      "outputs": []
    },
    {
      "cell_type": "markdown",
      "metadata": {
        "id": "_yHPGEDDt2GH",
        "colab_type": "text"
      },
      "source": [
        "#### Save with best accuracy"
      ]
    },
    {
      "cell_type": "markdown",
      "metadata": {
        "id": "5MSDv1Njt7D9",
        "colab_type": "text"
      },
      "source": [
        "Loop N times to fit the model and save the model with highest accuracy between iterations\n",
        "\n",
        "Accuracy is different each time since split X-y is done randomly, i.e. training data may be different in each loop"
      ]
    },
    {
      "cell_type": "code",
      "metadata": {
        "id": "m09hB8YRuH0z",
        "colab_type": "code",
        "outputId": "8cd936cc-55bf-424f-ae5e-d3f38c938a29",
        "colab": {
          "base_uri": "https://localhost:8080/",
          "height": 71
        }
      },
      "source": [
        "best_accuracy = 0\n",
        "least_accuracy = 100  # used only to see the difference in accuracy\n",
        "number_of_iterations = 50\n",
        "\n",
        "for _ in range(number_of_iterations):\n",
        "  x_train, x_test, y_train, y_test = sklearn.model_selection.train_test_split(X, y, test_size=0.1)\n",
        "  model = linear_model.LinearRegression()\n",
        "  model.fit(x_train, y_train)\n",
        "  accuracy = model.score(x_test, y_test)\n",
        "\n",
        "  if accuracy > best_accuracy:\n",
        "    best_accuracy = accuracy\n",
        "    with open('model.pickle', 'wb') as f:\n",
        "      pickle.dump(model, f)\n",
        "  \n",
        "  if accuracy < least_accuracy:\n",
        "    least_accuracy = accuracy\n",
        "\n",
        "print(f'Best Accuracy : {best_accuracy}')\n",
        "print(f'Least Accuracy : {least_accuracy}')"
      ],
      "execution_count": 139,
      "outputs": [
        {
          "output_type": "stream",
          "text": [
            "Best Accuracy : 0.9312781709616988\n",
            "Least Accuracy : 0.5696106847107429\n"
          ],
          "name": "stdout"
        }
      ]
    },
    {
      "cell_type": "markdown",
      "metadata": {
        "id": "U7GWaSx8sspG",
        "colab_type": "text"
      },
      "source": [
        "## Load"
      ]
    },
    {
      "cell_type": "markdown",
      "metadata": {
        "id": "0IdH-eCEsthk",
        "colab_type": "text"
      },
      "source": [
        "Load the already trained model from the pickle file to be used for prediction"
      ]
    },
    {
      "cell_type": "code",
      "metadata": {
        "id": "AlvyOAi4szLh",
        "colab_type": "code",
        "colab": {}
      },
      "source": [
        "pickle_in = open('model.pickle', 'rb')\n",
        "model = pickle.load(pickle_in)\n",
        "pickle_in.close()"
      ],
      "execution_count": 0,
      "outputs": []
    },
    {
      "cell_type": "markdown",
      "metadata": {
        "id": "YDbRAwyhf4Ob",
        "colab_type": "text"
      },
      "source": [
        "## Predict"
      ]
    },
    {
      "cell_type": "code",
      "metadata": {
        "id": "mOEs9Egnf6VD",
        "colab_type": "code",
        "outputId": "7f4d409d-d335-4517-9b8b-3dbd0ac0d1fc",
        "colab": {
          "base_uri": "https://localhost:8080/",
          "height": 887
        }
      },
      "source": [
        "predictions = model.predict(x_test)\n",
        "\n",
        "# Predict for 5 samples from test data\n",
        "for x in range(10):\n",
        "  print(f'Input Data : {x_test.to_numpy()[x]}')\n",
        "  print(f'Prediction : {int(round(predictions[x]))}')\n",
        "  print(f'Actual : {y_test.to_numpy()[x]}')\n",
        "  print('--------------\\n')"
      ],
      "execution_count": 141,
      "outputs": [
        {
          "output_type": "stream",
          "text": [
            "Input Data : [11  9  1  1 19]\n",
            "Prediction : 9\n",
            "Actual : 10\n",
            "--------------\n",
            "\n",
            "Input Data : [ 9 11  3  0  2]\n",
            "Prediction : 10\n",
            "Actual : 11\n",
            "--------------\n",
            "\n",
            "Input Data : [17 18  1  0  0]\n",
            "Prediction : 19\n",
            "Actual : 18\n",
            "--------------\n",
            "\n",
            "Input Data : [10 10  1  0  4]\n",
            "Prediction : 10\n",
            "Actual : 10\n",
            "--------------\n",
            "\n",
            "Input Data : [5 9 2 2 6]\n",
            "Prediction : 7\n",
            "Actual : 7\n",
            "--------------\n",
            "\n",
            "Input Data : [7 9 3 0 0]\n",
            "Prediction : 8\n",
            "Actual : 8\n",
            "--------------\n",
            "\n",
            "Input Data : [11 12  2  0 12]\n",
            "Prediction : 12\n",
            "Actual : 11\n",
            "--------------\n",
            "\n",
            "Input Data : [11  9  2  0 12]\n",
            "Prediction : 9\n",
            "Actual : 9\n",
            "--------------\n",
            "\n",
            "Input Data : [8 6 2 2 2]\n",
            "Prediction : 5\n",
            "Actual : 5\n",
            "--------------\n",
            "\n",
            "Input Data : [9 9 2 0 6]\n",
            "Prediction : 8\n",
            "Actual : 10\n",
            "--------------\n",
            "\n"
          ],
          "name": "stdout"
        }
      ]
    },
    {
      "cell_type": "markdown",
      "metadata": {
        "id": "QgS5VvmYDm5h",
        "colab_type": "text"
      },
      "source": [
        "# Problem 2 - Classification with K-Neighbors"
      ]
    },
    {
      "cell_type": "markdown",
      "metadata": {
        "id": "ZRS303LyGPkX",
        "colab_type": "text"
      },
      "source": [
        "## Data"
      ]
    },
    {
      "cell_type": "code",
      "metadata": {
        "id": "xkgwZ0kvFPGw",
        "colab_type": "code",
        "outputId": "69cc748e-4280-498b-8caf-074064c563b0",
        "colab": {
          "base_uri": "https://localhost:8080/",
          "height": 54
        }
      },
      "source": [
        "data_file = 'https://archive.ics.uci.edu/ml/machine-learning-databases/car/car.data'\n",
        "data = pd.read_csv(data_file, names=['buying', 'maintenance', 'doors', 'persons', 'lug_boot', 'safety', 'class'])\n",
        "print(data.shape)"
      ],
      "execution_count": 142,
      "outputs": [
        {
          "output_type": "stream",
          "text": [
            "(1728, 7)\n"
          ],
          "name": "stdout"
        }
      ]
    },
    {
      "cell_type": "markdown",
      "metadata": {
        "id": "WagaK_JkGhSe",
        "colab_type": "text"
      },
      "source": [
        "## Pre-Process Data"
      ]
    },
    {
      "cell_type": "code",
      "metadata": {
        "id": "N0V7pEzPw9UR",
        "colab_type": "code",
        "colab": {}
      },
      "source": [
        "label = 'class'\n",
        "features = ['buying', 'maintenance', 'doors', 'persons', 'lug_boot', 'safety']\n",
        "classes = np.unique(data[label])"
      ],
      "execution_count": 0,
      "outputs": []
    },
    {
      "cell_type": "markdown",
      "metadata": {
        "id": "84m-4HNJttA-",
        "colab_type": "text"
      },
      "source": [
        "### Create Features Vs Labels"
      ]
    },
    {
      "cell_type": "markdown",
      "metadata": {
        "id": "N_ihB9JSxHql",
        "colab_type": "text"
      },
      "source": [
        "Encode text to numeric data"
      ]
    },
    {
      "cell_type": "code",
      "metadata": {
        "id": "1dwb4Rwmt1eL",
        "colab_type": "code",
        "colab": {}
      },
      "source": [
        "encoder = preprocessing.LabelEncoder()\n",
        "\n",
        "X = pd.DataFrame()\n",
        "y = list(encoder.fit_transform(list(data[label])))\n",
        "\n",
        "for feature in features:\n",
        "  X[feature] = encoder.fit_transform(list(data[feature]))\n",
        "X = X.to_numpy()"
      ],
      "execution_count": 0,
      "outputs": []
    },
    {
      "cell_type": "markdown",
      "metadata": {
        "id": "BPWGJam7G8bT",
        "colab_type": "text"
      },
      "source": [
        "## View Data"
      ]
    },
    {
      "cell_type": "code",
      "metadata": {
        "id": "Y8xu2wAAHFJf",
        "colab_type": "code",
        "outputId": "61dd3026-093d-428d-9874-d294ceb50e6a",
        "colab": {
          "base_uri": "https://localhost:8080/",
          "height": 139
        }
      },
      "source": [
        "print(f'Number of Features : {len(X[0])}')\n",
        "print(f'Features : {features}')\n",
        "print(f'Label : {label}')\n",
        "print(f'Number of samples : {len(X)}')\n",
        "print(f'Number of classes : {len(classes)}')\n",
        "print(f'Classes : {classes}')"
      ],
      "execution_count": 145,
      "outputs": [
        {
          "output_type": "stream",
          "text": [
            "Number of Features : 6\n",
            "Features : ['buying', 'maintenance', 'doors', 'persons', 'lug_boot', 'safety']\n",
            "Label : class\n",
            "Number of samples : 1728\n",
            "Number of classes : 4\n",
            "Classes : ['acc' 'good' 'unacc' 'vgood']\n"
          ],
          "name": "stdout"
        }
      ]
    },
    {
      "cell_type": "markdown",
      "metadata": {
        "id": "1ps1ALjAzwys",
        "colab_type": "text"
      },
      "source": [
        "## Split Train - Test"
      ]
    },
    {
      "cell_type": "code",
      "metadata": {
        "id": "gTcd03byzzEU",
        "colab_type": "code",
        "outputId": "968d8430-b50e-4b08-f461-34a69abf2926",
        "colab": {
          "base_uri": "https://localhost:8080/",
          "height": 105
        }
      },
      "source": [
        "x_train, x_test, y_train, y_test = sklearn.model_selection.train_test_split(X, y, test_size=0.1)\n",
        "print(len(x_train))\n",
        "print(len(y_train))\n",
        "print(len(x_test))\n",
        "print(len(y_test))"
      ],
      "execution_count": 146,
      "outputs": [
        {
          "output_type": "stream",
          "text": [
            "1555\n",
            "1555\n",
            "173\n",
            "173\n"
          ],
          "name": "stdout"
        }
      ]
    },
    {
      "cell_type": "markdown",
      "metadata": {
        "id": "f_lxDZI90SNn",
        "colab_type": "text"
      },
      "source": [
        "## K-Nearest Neighbor (KNN)"
      ]
    },
    {
      "cell_type": "markdown",
      "metadata": {
        "id": "K5mWg0BE0aJn",
        "colab_type": "text"
      },
      "source": [
        "Introduction:\n",
        "- Works on classification problem where\n",
        "- data points are grouped into clusters of different class from input data.\n",
        "- Attempts to classify given data point to one of the classes.\n",
        "---\n",
        "Concept :  \n",
        "\n",
        "- K is a hyper parameter, is the number of closest neighboring data points that the algorithm would look for from the input data point.\n",
        "- The identified K neighboring data points would then vote their class.\n",
        "- More the votes from a particular class, input data point would be classified as belonging to that class\n",
        "---\n",
        "Best Practices : \n",
        "- Pick an odd number for K to have a decider vote in case of a tie\n",
        "---\n",
        "Math :  \n",
        "- Find the magnitude (measured using Eucliedian Distance) of the line between input data point and trained data points\n",
        "- For 2-dimentional data point:\n",
        "```\n",
        "Equlidian Distance (d) = Square_Root(square(x2 - x1) + square(y2 - y1))\n",
        "```\n",
        "- Pick K points who's magnitude is the highest"
      ]
    },
    {
      "cell_type": "markdown",
      "metadata": {
        "id": "stApm6lZTi51",
        "colab_type": "text"
      },
      "source": [
        "![](https://drive.google.com/uc?export=view&id=1N7pDWWPMjDDYqraE8Svjog3Vf5JOVfBH)"
      ]
    },
    {
      "cell_type": "markdown",
      "metadata": {
        "id": "AmP2zWIP164W",
        "colab_type": "text"
      },
      "source": [
        "### Plot"
      ]
    },
    {
      "cell_type": "markdown",
      "metadata": {
        "id": "LOsphFlI1-s2",
        "colab_type": "text"
      },
      "source": [
        "Plot X vs Label to visualize the data points and correlation\n",
        "\n",
        "Modify the x_label below to view correlation between different features and label"
      ]
    },
    {
      "cell_type": "code",
      "metadata": {
        "id": "R3nGSrl512Fs",
        "colab_type": "code",
        "outputId": "0ce5d945-aa3c-4568-eab8-73e671f5e4d8",
        "colab": {
          "base_uri": "https://localhost:8080/",
          "height": 302
        }
      },
      "source": [
        "x_label = label\n",
        "y_label = 'safety'\n",
        "\n",
        "x_points = data[x_label]\n",
        "y_points = data[y_label]\n",
        "\n",
        "style.use('ggplot')\n",
        "pyplot.scatter(x_points, y_points)\n",
        "pyplot.xlabel(x_label)\n",
        "pyplot.ylabel(y_label)\n",
        "\n",
        "pyplot.show()"
      ],
      "execution_count": 147,
      "outputs": [
        {
          "output_type": "display_data",
          "data": {
            "image/png": "[encoded data removed]",
            "text/plain": [
              "<Figure size 432x288 with 1 Axes>"
            ]
          },
          "metadata": {
            "tags": []
          }
        }
      ]
    },
    {
      "cell_type": "markdown",
      "metadata": {
        "id": "1CChn7sO66Aj",
        "colab_type": "text"
      },
      "source": [
        "### Create Model"
      ]
    },
    {
      "cell_type": "code",
      "metadata": {
        "id": "mTY_6bM367rX",
        "colab_type": "code",
        "colab": {}
      },
      "source": [
        "k = 7\n",
        "model = KNeighborsClassifier(n_neighbors=k)"
      ],
      "execution_count": 0,
      "outputs": []
    },
    {
      "cell_type": "markdown",
      "metadata": {
        "id": "Ut75EmVf7G2I",
        "colab_type": "text"
      },
      "source": [
        "## Train"
      ]
    },
    {
      "cell_type": "code",
      "metadata": {
        "id": "GKWWL7vn7I9z",
        "colab_type": "code",
        "outputId": "6a9f9f1b-6838-4818-cd49-8a5e14a9ef12",
        "colab": {
          "base_uri": "https://localhost:8080/",
          "height": 88
        }
      },
      "source": [
        "model.fit(x_train, y_train)"
      ],
      "execution_count": 149,
      "outputs": [
        {
          "output_type": "execute_result",
          "data": {
            "text/plain": [
              "KNeighborsClassifier(algorithm='auto', leaf_size=30, metric='minkowski',\n",
              "                     metric_params=None, n_jobs=None, n_neighbors=7, p=2,\n",
              "                     weights='uniform')"
            ]
          },
          "metadata": {
            "tags": []
          },
          "execution_count": 149
        }
      ]
    },
    {
      "cell_type": "markdown",
      "metadata": {
        "id": "GsL6l7nT7Ril",
        "colab_type": "text"
      },
      "source": [
        "## Evaluate"
      ]
    },
    {
      "cell_type": "code",
      "metadata": {
        "id": "czGEysEZ7Svw",
        "colab_type": "code",
        "outputId": "e93e8ce8-efe1-4009-ab55-6ba06ab99fde",
        "colab": {
          "base_uri": "https://localhost:8080/",
          "height": 54
        }
      },
      "source": [
        "accuracy = model.score(x_test, y_test)\n",
        "print(accuracy)"
      ],
      "execution_count": 150,
      "outputs": [
        {
          "output_type": "stream",
          "text": [
            "0.953757225433526\n"
          ],
          "name": "stdout"
        }
      ]
    },
    {
      "cell_type": "markdown",
      "metadata": {
        "id": "d8-bK-3m7jd8",
        "colab_type": "text"
      },
      "source": [
        "## Predict"
      ]
    },
    {
      "cell_type": "code",
      "metadata": {
        "id": "Z_X76Y437kY8",
        "colab_type": "code",
        "outputId": "91b09169-a69a-4bd4-c887-8e2dde6533e4",
        "colab": {
          "base_uri": "https://localhost:8080/",
          "height": 887
        }
      },
      "source": [
        "predictions = model.predict(x_test)\n",
        "\n",
        "# Predict for 5 samples from test data\n",
        "for x in range(10):\n",
        "  print(f'Input Data : {x_test[x]}')\n",
        "  print(f'Prediction : {int(round(predictions[x]))}')\n",
        "  # print(f'Neighbors : {model.kneighbors([x_test[x]], n_neighbors=k, return_distance=True)}')\n",
        "  print(f'Actual : {y_test[x]}')\n",
        "  print('--------------\\n')"
      ],
      "execution_count": 151,
      "outputs": [
        {
          "output_type": "stream",
          "text": [
            "Input Data : [1 3 3 1 1 1]\n",
            "Prediction : 2\n",
            "Actual : 2\n",
            "--------------\n",
            "\n",
            "Input Data : [1 3 3 0 1 1]\n",
            "Prediction : 2\n",
            "Actual : 2\n",
            "--------------\n",
            "\n",
            "Input Data : [2 0 0 0 1 1]\n",
            "Prediction : 2\n",
            "Actual : 2\n",
            "--------------\n",
            "\n",
            "Input Data : [3 1 0 0 0 2]\n",
            "Prediction : 2\n",
            "Actual : 2\n",
            "--------------\n",
            "\n",
            "Input Data : [2 1 2 2 1 0]\n",
            "Prediction : 3\n",
            "Actual : 3\n",
            "--------------\n",
            "\n",
            "Input Data : [2 2 3 2 2 2]\n",
            "Prediction : 0\n",
            "Actual : 0\n",
            "--------------\n",
            "\n",
            "Input Data : [0 0 1 1 1 1]\n",
            "Prediction : 2\n",
            "Actual : 2\n",
            "--------------\n",
            "\n",
            "Input Data : [3 3 1 1 2 2]\n",
            "Prediction : 2\n",
            "Actual : 2\n",
            "--------------\n",
            "\n",
            "Input Data : [0 1 1 0 0 2]\n",
            "Prediction : 2\n",
            "Actual : 2\n",
            "--------------\n",
            "\n",
            "Input Data : [0 3 1 1 2 1]\n",
            "Prediction : 2\n",
            "Actual : 2\n",
            "--------------\n",
            "\n"
          ],
          "name": "stdout"
        }
      ]
    },
    {
      "cell_type": "markdown",
      "metadata": {
        "id": "B4W6Cv8PN3pn",
        "colab_type": "text"
      },
      "source": [
        "# Problem 3 - Classification with SVM"
      ]
    },
    {
      "cell_type": "markdown",
      "metadata": {
        "id": "JmITJLI0OJoO",
        "colab_type": "text"
      },
      "source": [
        "## Support Vector Machines (SVM)"
      ]
    },
    {
      "cell_type": "markdown",
      "metadata": {
        "id": "jCmzhWvxONfp",
        "colab_type": "text"
      },
      "source": [
        "- Split clusters of data points by hyper-plane (*center line in below image*)\n",
        "- Difference between the distance from hyper-plane to nearest data points (also called **Support Vectors**) in either clusters are very minimal or zero\n",
        "- Number of hyper-planes may be number of clusters minus 1\n",
        "---\n",
        "How to choose hyper-plane?\n",
        "- Margine has to be maximum\n",
        "- What is Margin? it is area between two lines parallel to hyper-plane (*dotted lines in below image*) drawn on either side of the hyper-plane and seperating out the data points cluster"
      ]
    },
    {
      "cell_type": "markdown",
      "metadata": {
        "id": "g0AdW4PZQYjz",
        "colab_type": "text"
      },
      "source": [
        "![](https://drive.google.com/uc?export=view&id=13txs1xAkJr7Dsp5XTyZsxmqwfNVAgikf)"
      ]
    },
    {
      "cell_type": "markdown",
      "metadata": {
        "id": "in4fdXGZTHv-",
        "colab_type": "text"
      },
      "source": [
        "**When hyper-plane cannot clearly distinguish the data points clusters?**"
      ]
    },
    {
      "cell_type": "markdown",
      "metadata": {
        "id": "k4ZwN1lsVJYb",
        "colab_type": "text"
      },
      "source": [
        "**Solution** : Converting N dimentional data point to N + 1 dimentional data point using Kernel\n",
        "\n",
        "**Kernel** : is a function that takes a data point in N-dimensions to outputs N+1th co-ordinate of the data point"
      ]
    },
    {
      "cell_type": "markdown",
      "metadata": {
        "id": "iti5CPjdWQf2",
        "colab_type": "text"
      },
      "source": [
        "![](https://drive.google.com/uc?export=view&id=1zxssICVmwoJPh8UqrX1NxVQREpxLAo7V)"
      ]
    },
    {
      "cell_type": "code",
      "metadata": {
        "id": "tlUjcwehXeGz",
        "colab_type": "code",
        "outputId": "6969f66a-41d4-4c7a-b4f4-3f3a6efcdf33",
        "colab": {
          "base_uri": "https://localhost:8080/",
          "height": 54
        }
      },
      "source": [
        "# Cancer data set from sklearn\n",
        "data = datasets.load_breast_cancer()\n",
        "\n",
        "X = data.data\n",
        "y = data.target\n",
        "\n",
        "x_train, x_test, y_train, y_test = sklearn.model_selection.train_test_split(X, y, test_size=0.1)\n",
        "\n",
        "class_names = ['malignant', 'benign']\n",
        "classes = np.unique(y)\n",
        "\n",
        "best_fit_kernel = ''\n",
        "best_accuracy = 0\n",
        "for kernel in ['rbf', 'linear', 'poly']:\n",
        "  model = svm.SVC(kernel=kernel)\n",
        "  model.fit(x_train, y_train)\n",
        "\n",
        "  y_prediction = model.predict(x_test)\n",
        "\n",
        "  accuracy = metrics.accuracy_score(y_test, y_prediction)\n",
        "\n",
        "  if accuracy > best_accuracy:\n",
        "    best_accuracy = accuracy\n",
        "    best_fit_kernel = kernel\n",
        "print(f'Best fit kernel is {best_fit_kernel} with accuracy {best_accuracy}')"
      ],
      "execution_count": 152,
      "outputs": [
        {
          "output_type": "stream",
          "text": [
            "Best fit kernel is linear with accuracy 0.9649122807017544\n"
          ],
          "name": "stdout"
        }
      ]
    },
    {
      "cell_type": "markdown",
      "metadata": {
        "id": "zNXUqsbhaOgt",
        "colab_type": "text"
      },
      "source": [
        "# Problem 4 - Clustering with K-Means"
      ]
    },
    {
      "cell_type": "markdown",
      "metadata": {
        "id": "8kUzj9TWIJRW",
        "colab_type": "text"
      },
      "source": [
        "- K : # of clusters\n",
        "- Centroid : X (in the image below) is the center point to the data point"
      ]
    },
    {
      "cell_type": "markdown",
      "metadata": {
        "id": "92fs9s3ManR6",
        "colab_type": "text"
      },
      "source": [
        "![](https://drive.google.com/uc?export=view&id=1Cilzuyhl-AE_9Wlg6ERJwhP0_5B_4ALZ)"
      ]
    },
    {
      "cell_type": "markdown",
      "metadata": {
        "id": "P6T5rTkMJRQe",
        "colab_type": "text"
      },
      "source": [
        "**Working**  \n",
        "Start by placing K centroids randomly in the plot.\n",
        "- Draw a line between the centroids\n",
        "- Draw another line perpendicular to the above line at the center of above line\n",
        "- Consider all data points inside of the line as associated to that centroid i.e. cluster\n",
        "- Move the centroids to the center of the cluster by generation data point of centroid as average of all data points belonging to that centroid\n",
        "- Repeat above above untill no changes in data points assignment to centroid. i.e. cluster"
      ]
    },
    {
      "cell_type": "markdown",
      "metadata": {
        "id": "qykDQ0HBIt-x",
        "colab_type": "text"
      },
      "source": [
        "## Data"
      ]
    },
    {
      "cell_type": "markdown",
      "metadata": {
        "id": "H2UXFJLuVDRh",
        "colab_type": "text"
      },
      "source": [
        "Load iris dataset from sklearn"
      ]
    },
    {
      "cell_type": "code",
      "metadata": {
        "id": "JdlsA2U5UYvY",
        "colab_type": "code",
        "colab": {}
      },
      "source": [
        "data = load_iris()\n",
        "\n",
        "# For computation reasons, scale features within the value -1 and 1\n",
        "X = scale(data.data)\n",
        "y = pd.DataFrame(data.target)\n",
        "\n",
        "features = data.feature_names\n",
        "\n",
        "k = 3"
      ],
      "execution_count": 0,
      "outputs": []
    },
    {
      "cell_type": "markdown",
      "metadata": {
        "id": "dRLFsA5DxQuv",
        "colab_type": "text"
      },
      "source": [
        "## Model"
      ]
    },
    {
      "cell_type": "markdown",
      "metadata": {
        "id": "Z78HahQXxVVE",
        "colab_type": "text"
      },
      "source": [
        "### Score"
      ]
    },
    {
      "cell_type": "code",
      "metadata": {
        "id": "aMFtPWHjxUp0",
        "colab_type": "code",
        "colab": {}
      },
      "source": [
        "def bench_k_means(estimator, name, data):\n",
        "    estimator.fit(data)\n",
        "    print('%-9s\\t%i\\t%.3f\\t%.3f\\t%.3f\\t%.3f\\t%.3f\\t%.3f'\n",
        "          % (name, estimator.inertia_,\n",
        "             metrics.homogeneity_score(y, estimator.labels_),\n",
        "             metrics.completeness_score(y, estimator.labels_),\n",
        "             metrics.v_measure_score(y, estimator.labels_),\n",
        "             metrics.adjusted_rand_score(y, estimator.labels_),\n",
        "             metrics.adjusted_mutual_info_score(y,  estimator.labels_),\n",
        "             metrics.silhouette_score(data, estimator.labels_,\n",
        "                                      metric='euclidean')))"
      ],
      "execution_count": 0,
      "outputs": []
    },
    {
      "cell_type": "markdown",
      "metadata": {
        "id": "1BtyRYImxc6K",
        "colab_type": "text"
      },
      "source": [
        "### Train"
      ]
    },
    {
      "cell_type": "code",
      "metadata": {
        "id": "3RU-mGiAxfOD",
        "colab_type": "code",
        "colab": {
          "base_uri": "https://localhost:8080/",
          "height": 88
        },
        "outputId": "4e9a1937-59a1-49c9-b21e-7a2bd3b0ee9e"
      },
      "source": [
        "model = KMeans(n_clusters=k, init=\"random\", n_init=10)\n",
        "# bench_k_means(model, \"1\", data)\n",
        "model.fit(X)"
      ],
      "execution_count": 155,
      "outputs": [
        {
          "output_type": "execute_result",
          "data": {
            "text/plain": [
              "KMeans(algorithm='auto', copy_x=True, init='random', max_iter=300, n_clusters=3,\n",
              "       n_init=10, n_jobs=None, precompute_distances='auto', random_state=None,\n",
              "       tol=0.0001, verbose=0)"
            ]
          },
          "metadata": {
            "tags": []
          },
          "execution_count": 155
        }
      ]
    },
    {
      "cell_type": "markdown",
      "metadata": {
        "id": "Zp0m9-N3fax0",
        "colab_type": "text"
      },
      "source": [
        "### View"
      ]
    },
    {
      "cell_type": "code",
      "metadata": {
        "id": "hu85Wwflfbvn",
        "colab_type": "code",
        "colab": {
          "base_uri": "https://localhost:8080/",
          "height": 319
        },
        "outputId": "4a96ac3c-9af3-46e7-b489-6dd967509d92"
      },
      "source": [
        "X_df = pd.DataFrame(data.data)\n",
        "X_df.columns = features\n",
        "y.columns = ['Type']\n",
        "\n",
        "color_theme = np.array(['darkgrey', 'lightsalmon', 'powderblue'])\n",
        "\n",
        "pyplot.subplot(1, 2, 1)\n",
        "pyplot.scatter(x = X_df[X_df.columns[0]], \n",
        "               y = X_df[X_df.columns[1]],\n",
        "               c=color_theme[data.target],\n",
        "               s=50)\n",
        "pyplot.title('Actual')\n",
        "\n",
        "pyplot.subplot(1, 2, 2)\n",
        "pyplot.scatter(x = X_df[X_df.columns[0]], \n",
        "               y = X_df[X_df.columns[1]],\n",
        "               c=color_theme[model.labels_],\n",
        "               s=50)\n",
        "pyplot.title('Predicted')"
      ],
      "execution_count": 156,
      "outputs": [
        {
          "output_type": "execute_result",
          "data": {
            "text/plain": [
              "Text(0.5, 1.0, 'Predicted')"
            ]
          },
          "metadata": {
            "tags": []
          },
          "execution_count": 156
        },
        {
          "output_type": "display_data",
          "data": {
            "image/png": "[encoded data removed]",
            "text/plain": [
              "<Figure size 432x288 with 2 Axes>"
            ]
          },
          "metadata": {
            "tags": []
          }
        }
      ]
    }
  ]
}