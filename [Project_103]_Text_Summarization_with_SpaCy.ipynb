{
  "nbformat": 4,
  "nbformat_minor": 0,
  "metadata": {
    "colab": {
      "name": "[Project 103] Text Summarization with SpaCy.ipynb",
      "provenance": [],
      "collapsed_sections": [],
      "authorship_tag": "ABX9TyMlShFvIRm8OxWYQ7wqbn5O",
      "include_colab_link": true
    },
    "kernelspec": {
      "name": "python3",
      "display_name": "Python 3"
    }
  },
  "cells": [
    {
      "cell_type": "markdown",
      "metadata": {
        "id": "view-in-github",
        "colab_type": "text"
      },
      "source": [
        "<a href=\"https://colab.research.google.com/github/id-shiv/knowledge_base/blob/master/%5BProject_103%5D_Text_Summarization_with_SpaCy.ipynb\" target=\"_parent\"><img src=\"https://colab.research.google.com/assets/colab-badge.svg\" alt=\"Open In Colab\"/></a>"
      ]
    },
    {
      "cell_type": "markdown",
      "metadata": {
        "id": "cMdVB-3WTyyS",
        "colab_type": "text"
      },
      "source": [
        "# Import Libraries"
      ]
    },
    {
      "cell_type": "code",
      "metadata": {
        "id": "9veVgfJOwAd9",
        "colab_type": "code",
        "colab": {}
      },
      "source": [
        "import spacy  # Library to perform natural language processing\n",
        "from spacy.lang.en.stop_words import STOP_WORDS"
      ],
      "execution_count": 0,
      "outputs": []
    },
    {
      "cell_type": "markdown",
      "metadata": {
        "id": "NS-t89uOUXzi",
        "colab_type": "text"
      },
      "source": [
        "# Document"
      ]
    },
    {
      "cell_type": "code",
      "metadata": {
        "id": "o_6z-z5xwvMI",
        "colab_type": "code",
        "colab": {}
      },
      "source": [
        "# Document : Text content to be feb for summarization\n",
        "\n",
        "document = \"Enhance visibility into the health of your Dell EMC hardware environment Dell EMC Server and Network switch, Storage and Printer Management \\\n",
        "Packs for Microsoft System Center Operations Manager (SCOM) deliver greater visibility into hardware inventory details, components and configurations \\\n",
        "essential to optimizing the availability of your infrastructure hardware.Dell EMC Server Management Pack Suite offers both in-band and agent-free \\\n",
        "options that enable System Center Operations Manager to discover, monitor and accurately depict the status of Dell PowerEdge servers and modular platforms, \\\n",
        "integrated Dell Remote Access Controllers (iDRACs) and OpenManage Enterprise–Modular (OME-Modular), Chassis Management Controllers (CMCs) on a \\\n",
        "defined network segment.Agent-free out-of-band monitoring is available for 12th generation through current platforms Dell EMC PowerEdge servers and agent-based monitoring with \\\n",
        "OpenManage Server Administrator (OMSA) is available for 11th generation through current platforms PowerEdge servers and PowerVault NX storage appliances.\\\n",
        "OpenManage Integration for Microsoft System Center (OMIMSSC) for System Center Operations Manager (SCOM) is available to deploy as a virtual appliance for \\\n",
        "monitoring in SCOM environments for agent-free management.\""
      ],
      "execution_count": 0,
      "outputs": []
    },
    {
      "cell_type": "markdown",
      "metadata": {
        "id": "6clfdcK_UaS6",
        "colab_type": "text"
      },
      "source": [
        "# Processing for Summarization"
      ]
    },
    {
      "cell_type": "code",
      "metadata": {
        "id": "5BjbJDgZxLfP",
        "colab_type": "code",
        "colab": {}
      },
      "source": [
        "# Load the document for the processing\n",
        "nlp = spacy.load('en')\n",
        "docx = nlp(document)"
      ],
      "execution_count": 0,
      "outputs": []
    },
    {
      "cell_type": "code",
      "metadata": {
        "id": "y6oyKyr-xYXR",
        "colab_type": "code",
        "colab": {}
      },
      "source": [
        "# Tokenize\n",
        "mytokens = [token.text for token in docx]\n",
        "\n",
        "# Build a List of Stopwords\n",
        "stopwords = list(STOP_WORDS)\n",
        "\n",
        "# Build a dictionary with {'TOKEN' : 'TOKEN_COUNT'}\n",
        "token_frequency = {}\n",
        "for token in mytokens:\n",
        "  if token not in stopwords:\n",
        "    if token not in token_frequency.keys():\n",
        "        token_frequency[token.lower()] = 1\n",
        "    else:\n",
        "        token_frequency[token.lower()] += 1\n",
        "\n",
        "# token_frequency"
      ],
      "execution_count": 0,
      "outputs": []
    },
    {
      "cell_type": "code",
      "metadata": {
        "id": "u4JiJGTrxgIa",
        "colab_type": "code",
        "colab": {}
      },
      "source": [
        "# Normalize the frequency between 0 and 1\n",
        "token_frequency_max = max(token_frequency.values())\n",
        "for word in token_frequency.keys():  \n",
        "  token_frequency[word] = (token_frequency[word]/token_frequency_max)"
      ],
      "execution_count": 0,
      "outputs": []
    },
    {
      "cell_type": "code",
      "metadata": {
        "id": "FZU2C4fIx0ZN",
        "colab_type": "code",
        "colab": {
          "base_uri": "https://localhost:8080/",
          "height": 125
        },
        "outputId": "62040893-3ea1-4a0d-9ad2-266530303ba3"
      },
      "source": [
        "# Sentence Scores\n",
        "# Sentence Score (Sentence) = Sum (Frequency of Eeach Word in the Sentence)\n",
        "\n",
        "sentence_scores = {}  \n",
        "for sentence in docx.sents: \n",
        "  for word in sentence:\n",
        "    if word.text.lower() in token_frequency.keys():\n",
        "      if len(sentence.text.split(' ')) < 100:\n",
        "        if sentence not in sentence_scores.keys():\n",
        "            sentence_scores[sentence] = token_frequency[word.text.lower()]\n",
        "        else:\n",
        "            sentence_scores[sentence] += token_frequency[word.text.lower()]\n",
        "\n",
        "sentence_scores"
      ],
      "execution_count": 138,
      "outputs": [
        {
          "output_type": "execute_result",
          "data": {
            "text/plain": [
              "{Enhance visibility into the health of your Dell EMC hardware environment Dell EMC Server and Network switch, Storage and Printer Management Packs for Microsoft System Center Operations Manager (SCOM) deliver greater visibility into hardware inventory details, components and configurations essential to optimizing the availability of your infrastructure hardware.: 9.25,\n",
              " Dell EMC Server Management Pack Suite offers both in-band and agent-free options that enable System Center Operations Manager to discover, monitor and accurately depict the status of Dell PowerEdge servers and modular platforms, integrated Dell Remote Access Controllers (iDRACs) and OpenManage Enterprise–Modular (OME-Modular), Chassis Management Controllers (CMCs) on a defined network segment.: 17.75,\n",
              " Agent-free out-of-band monitoring is available for 12th generation through current platforms Dell EMC PowerEdge servers and agent-based monitoring with OpenManage Server Administrator (OMSA) is available for 11th generation through current platforms PowerEdge servers and PowerVault NX storage appliances.: 13.625,\n",
              " OpenManage Integration for Microsoft System Center (OMIMSSC) for System Center Operations Manager (SCOM) is available to deploy as a virtual appliance for monitoring in SCOM environments for agent-free management.: 8.75}"
            ]
          },
          "metadata": {
            "tags": []
          },
          "execution_count": 138
        }
      ]
    },
    {
      "cell_type": "markdown",
      "metadata": {
        "id": "6akWVOZUZtBI",
        "colab_type": "text"
      },
      "source": [
        "# Summarization"
      ]
    },
    {
      "cell_type": "code",
      "metadata": {
        "id": "VShVtN6QZvx7",
        "colab_type": "code",
        "colab": {
          "base_uri": "https://localhost:8080/",
          "height": 108
        },
        "outputId": "a3272025-fbea-424b-8f3e-1950dfb072d2"
      },
      "source": [
        "number_of_sentences = 2\n",
        "top_n_sentence_scores = sorted(sentence_scores.values(), reverse=True)[:number_of_sentences]\n",
        "\n",
        "summary = \"\"\n",
        "for sentence, sentence_score in sentence_scores.items():\n",
        "  for score in top_n_sentence_scores:\n",
        "    if sentence_score == score:\n",
        "      summary = summary + str(sentence)\n",
        "\n",
        "for summarized_sentences in summary.split('.'):\n",
        "  print(summarized_sentences)"
      ],
      "execution_count": 139,
      "outputs": [
        {
          "output_type": "stream",
          "text": [
            "Dell EMC Server Management Pack Suite offers both in-band and agent-free options that enable System Center Operations Manager to discover, monitor and accurately depict the status of Dell PowerEdge servers and modular platforms, integrated Dell Remote Access Controllers (iDRACs) and OpenManage Enterprise–Modular (OME-Modular), Chassis Management Controllers (CMCs) on a defined network segment\n",
            "Agent-free out-of-band monitoring is available for 12th generation through current platforms Dell EMC PowerEdge servers and agent-based monitoring with OpenManage Server Administrator (OMSA) is available for 11th generation through current platforms PowerEdge servers and PowerVault NX storage appliances\n",
            "\n"
          ],
          "name": "stdout"
        }
      ]
    },
    {
      "cell_type": "markdown",
      "metadata": {
        "id": "sBgDpjtfyzZN",
        "colab_type": "text"
      },
      "source": [
        "# Function"
      ]
    },
    {
      "cell_type": "code",
      "metadata": {
        "id": "_JjFy6QHyyzO",
        "colab_type": "code",
        "colab": {}
      },
      "source": [
        "import spacy  # Library to perform natural language processing\n",
        "from spacy.lang.en.stop_words import STOP_WORDS\n",
        "\n",
        "def text_summarizer(document, summary_percent=20):\n",
        "  # Load the document for the processing\n",
        "  nlp = spacy.load('en')\n",
        "  docx = nlp(document)\n",
        "\n",
        "  # Tokenize\n",
        "  mytokens = [token.text for token in docx]\n",
        "\n",
        "  # Build a List of Stopwords\n",
        "  stopwords = list(STOP_WORDS)\n",
        "\n",
        "  # Build a dictionary with {'TOKEN' : 'TOKEN_COUNT'}\n",
        "  token_frequency = {}\n",
        "  for token in mytokens:\n",
        "    if token not in stopwords:\n",
        "      if token not in token_frequency.keys():\n",
        "          token_frequency[token.lower()] = 1\n",
        "      else:\n",
        "          token_frequency[token.lower()] += 1\n",
        "\n",
        "  # Normalize the frequency between 0 and 1\n",
        "  token_frequency_max = max(token_frequency.values())\n",
        "\n",
        "  for word in token_frequency.keys():  \n",
        "    token_frequency[word] = (token_frequency[word]/token_frequency_max)\n",
        "\n",
        "  # Sentence Scores\n",
        "  # Sentence Score (Sentence) = Sum (Frequency of Eeach Word in the Sentence)\n",
        "  sentence_scores = {}  \n",
        "\n",
        "  for sentence in docx.sents: \n",
        "    for word in sentence:\n",
        "      if word.text.lower() in token_frequency.keys():\n",
        "        if len(sentence.text.split(' ')) < 100:\n",
        "          if sentence not in sentence_scores.keys():\n",
        "              sentence_scores[sentence] = token_frequency[word.text.lower()]\n",
        "          else:\n",
        "              sentence_scores[sentence] += token_frequency[word.text.lower()]\n",
        "\n",
        "  # Summarize using top n sentence scores\n",
        "  number_of_sentences = int((summary_percent / 100 ) * len(list(docx.sents)))\n",
        "  # print(number_of_sentences)\n",
        "  top_n_sentence_scores = sorted(sentence_scores.values(), reverse=True)[:number_of_sentences]\n",
        "\n",
        "  summary = \"\"\n",
        "  for sentence, sentence_score in sentence_scores.items():\n",
        "    for score in top_n_sentence_scores:\n",
        "      if sentence_score == score:\n",
        "        summary = summary + str(sentence)\n",
        "\n",
        "  return summary"
      ],
      "execution_count": 0,
      "outputs": []
    },
    {
      "cell_type": "code",
      "metadata": {
        "id": "5fL5YE8Ly9eB",
        "colab_type": "code",
        "outputId": "af8a47bd-4268-49a5-a52c-52a2ce1a36c4",
        "colab": {
          "base_uri": "https://localhost:8080/",
          "height": 162
        }
      },
      "source": [
        "import bs4\n",
        "from bs4 import BeautifulSoup as soup\n",
        "from urllib.request import urlopen\n",
        "from nltk.tokenize import RegexpTokenizer\n",
        "\n",
        "url = 'https://www.dell.com/community/Systems-Management-General/DellEMC-OpenManage-Integration-into-Windows-Admin-Center-not/td-p/7376175'\n",
        "web_page = urlopen(url=url)\n",
        "html_page = web_page.read()\n",
        "page = soup(html_page, 'html.parser')\n",
        "document = page.find_all('div', {'class': 'lia-message-body-content'})[0].text.strip()\n",
        "\n",
        "print('\\nOriginal:')\n",
        "print(document)\n",
        "print('\\nSummarized:')\n",
        "print(text_summarizer(document))"
      ],
      "execution_count": 141,
      "outputs": [
        {
          "output_type": "stream",
          "text": [
            "\n",
            "Original:\n",
            "I am using Windows Admin Center, and I noticed recently there is a DellEMC OpenManage extension for it. I have been waiting for this for a while now, so I installed it but it doesnt' seem be to working. When I went to a server I have managed in WAC (A PowerEdge R720), it showed a page for accepting the usage agreement and what it was going to do (install a USB NIC). I agreed to this and it was gathering data for a bit, then it failed, saying the server was possibly off, rebooting, or did not have 445 open in the firewall (the latter was true). I opened the port but now I don't know how to install the components it needs now. The server is running Microsoft Hyper-V Server 2019 and another one is Running Hyper-V Server 2016. I also have another server on Windows Server 2016 that also fails, but it has port 445 open. I can't find a way to try and install the components again. I uninstalled and reinstalled the extension but it didn't show me the acceptance page again. I'm not sure where to get support for this, the dell pages have nothing about support.\n",
            "\n",
            "Summarized:\n",
            "When I went to a server I have managed in WAC (A PowerEdge R720), it showed a page for accepting the usage agreement and what it was going to do (install a USB NIC).I agreed to this and it was gathering data for a bit, then it failed, saying the server was possibly off, rebooting, or did not have 445 open in the firewall (the latter was true).\n"
          ],
          "name": "stdout"
        }
      ]
    }
  ]
}