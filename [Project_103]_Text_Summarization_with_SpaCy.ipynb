{
  "nbformat": 4,
  "nbformat_minor": 0,
  "metadata": {
    "colab": {
      "name": "[Project 103] Text Summarization with SpaCy.ipynb",
      "provenance": [],
      "collapsed_sections": [],
      "authorship_tag": "ABX9TyNDs+ltX8TGpNzZRYMKUCzT",
      "include_colab_link": true
    },
    "kernelspec": {
      "name": "python3",
      "display_name": "Python 3"
    }
  },
  "cells": [
    {
      "cell_type": "markdown",
      "metadata": {
        "id": "view-in-github",
        "colab_type": "text"
      },
      "source": [
        "<a href=\"https://colab.research.google.com/github/id-shiv/knowledge_base/blob/master/%5BProject_103%5D_Text_Summarization_with_SpaCy.ipynb\" target=\"_parent\"><img src=\"https://colab.research.google.com/assets/colab-badge.svg\" alt=\"Open In Colab\"/></a>"
      ]
    },
    {
      "cell_type": "markdown",
      "metadata": {
        "id": "cMdVB-3WTyyS",
        "colab_type": "text"
      },
      "source": [
        "# Import Libraries"
      ]
    },
    {
      "cell_type": "code",
      "metadata": {
        "id": "9veVgfJOwAd9",
        "colab_type": "code",
        "colab": {}
      },
      "source": [
        "import spacy  # Library to perform natural language processing\n",
        "from spacy.lang.en.stop_words import STOP_WORDS"
      ],
      "execution_count": 0,
      "outputs": []
    },
    {
      "cell_type": "markdown",
      "metadata": {
        "id": "NS-t89uOUXzi",
        "colab_type": "text"
      },
      "source": [
        "# Document"
      ]
    },
    {
      "cell_type": "code",
      "metadata": {
        "id": "o_6z-z5xwvMI",
        "colab_type": "code",
        "colab": {}
      },
      "source": [
        "# Document : Text content to be feb for summarization\n",
        "\n",
        "document = \"Enhance visibility into the health of your Dell EMC hardware environment Dell EMC Server and Network switch, Storage and Printer Management \\\n",
        "Packs for Microsoft System Center Operations Manager (SCOM) deliver greater visibility into hardware inventory details, components and configurations \\\n",
        "essential to optimizing the availability of your infrastructure hardware.Dell EMC Server Management Pack Suite offers both in-band and agent-free \\\n",
        "options that enable System Center Operations Manager to discover, monitor and accurately depict the status of Dell PowerEdge servers and modular platforms, \\\n",
        "integrated Dell Remote Access Controllers (iDRACs) and OpenManage Enterprise–Modular (OME-Modular), Chassis Management Controllers (CMCs) on a \\\n",
        "defined network segment.Agent-free out-of-band monitoring is available for 12th generation through current platforms Dell EMC PowerEdge servers and agent-based monitoring with \\\n",
        "OpenManage Server Administrator (OMSA) is available for 11th generation through current platforms PowerEdge servers and PowerVault NX storage appliances.\\\n",
        "OpenManage Integration for Microsoft System Center (OMIMSSC) for System Center Operations Manager (SCOM) is available to deploy as a virtual appliance for \\\n",
        "monitoring in SCOM environments for agent-free management.\""
      ],
      "execution_count": 0,
      "outputs": []
    },
    {
      "cell_type": "markdown",
      "metadata": {
        "id": "6clfdcK_UaS6",
        "colab_type": "text"
      },
      "source": [
        "# Processing for Summarization"
      ]
    },
    {
      "cell_type": "code",
      "metadata": {
        "id": "5BjbJDgZxLfP",
        "colab_type": "code",
        "colab": {}
      },
      "source": [
        "# Load the document for the processing\n",
        "nlp = spacy.load('en')\n",
        "docx = nlp(document)"
      ],
      "execution_count": 0,
      "outputs": []
    },
    {
      "cell_type": "code",
      "metadata": {
        "id": "y6oyKyr-xYXR",
        "colab_type": "code",
        "colab": {}
      },
      "source": [
        "# Tokenize\n",
        "mytokens = [token.text for token in docx]\n",
        "\n",
        "# Build a List of Stopwords\n",
        "stopwords = list(STOP_WORDS)\n",
        "\n",
        "# Build a dictionary with {'TOKEN' : 'TOKEN_COUNT'}\n",
        "token_frequency = {}\n",
        "for token in mytokens:\n",
        "  if token not in stopwords:\n",
        "    if token not in token_frequency.keys():\n",
        "        token_frequency[token.lower()] = 1\n",
        "    else:\n",
        "        token_frequency[token.lower()] += 1\n",
        "\n",
        "# token_frequency"
      ],
      "execution_count": 0,
      "outputs": []
    },
    {
      "cell_type": "code",
      "metadata": {
        "id": "u4JiJGTrxgIa",
        "colab_type": "code",
        "colab": {}
      },
      "source": [
        "# Normalize the frequency between 0 and 1\n",
        "token_frequency_max = max(token_frequency.values())\n",
        "for word in token_frequency.keys():  \n",
        "  token_frequency[word] = (token_frequency[word]/token_frequency_max)"
      ],
      "execution_count": 0,
      "outputs": []
    },
    {
      "cell_type": "code",
      "metadata": {
        "id": "FZU2C4fIx0ZN",
        "colab_type": "code",
        "outputId": "d2d5253b-7baa-4782-d7d4-d0bee47e6045",
        "colab": {
          "base_uri": "https://localhost:8080/",
          "height": 125
        }
      },
      "source": [
        "# Sentence Scores\n",
        "# Sentence Score (Sentence) = Sum (Frequency of Eeach Word in the Sentence)\n",
        "\n",
        "sentence_scores = {}  \n",
        "for sentence in docx.sents: \n",
        "  for word in sentence:\n",
        "    if word.text.lower() in token_frequency.keys():\n",
        "      if len(sentence.text.split(' ')) < 100:\n",
        "        if sentence not in sentence_scores.keys():\n",
        "            sentence_scores[sentence] = token_frequency[word.text.lower()]\n",
        "        else:\n",
        "            sentence_scores[sentence] += token_frequency[word.text.lower()]\n",
        "\n",
        "sentence_scores"
      ],
      "execution_count": 65,
      "outputs": [
        {
          "output_type": "execute_result",
          "data": {
            "text/plain": [
              "{Enhance visibility into the health of your Dell EMC hardware environment Dell EMC Server and Network switch, Storage and Printer Management Packs for Microsoft System Center Operations Manager (SCOM) deliver greater visibility into hardware inventory details, components and configurations essential to optimizing the availability of your infrastructure hardware.: 9.25,\n",
              " Dell EMC Server Management Pack Suite offers both in-band and agent-free options that enable System Center Operations Manager to discover, monitor and accurately depict the status of Dell PowerEdge servers and modular platforms, integrated Dell Remote Access Controllers (iDRACs) and OpenManage Enterprise–Modular (OME-Modular), Chassis Management Controllers (CMCs) on a defined network segment.: 17.75,\n",
              " Agent-free out-of-band monitoring is available for 12th generation through current platforms Dell EMC PowerEdge servers and agent-based monitoring with OpenManage Server Administrator (OMSA) is available for 11th generation through current platforms PowerEdge servers and PowerVault NX storage appliances.: 13.625,\n",
              " OpenManage Integration for Microsoft System Center (OMIMSSC) for System Center Operations Manager (SCOM) is available to deploy as a virtual appliance for monitoring in SCOM environments for agent-free management.: 8.75}"
            ]
          },
          "metadata": {
            "tags": []
          },
          "execution_count": 65
        }
      ]
    },
    {
      "cell_type": "markdown",
      "metadata": {
        "id": "6akWVOZUZtBI",
        "colab_type": "text"
      },
      "source": [
        "# Summarization"
      ]
    },
    {
      "cell_type": "code",
      "metadata": {
        "id": "VShVtN6QZvx7",
        "colab_type": "code",
        "outputId": "cb587165-e5f9-4fda-e922-ded26c9fd76a",
        "colab": {
          "base_uri": "https://localhost:8080/",
          "height": 108
        }
      },
      "source": [
        "number_of_sentences = 2\n",
        "top_n_sentence_scores = sorted(sentence_scores.values(), reverse=True)[:number_of_sentences]\n",
        "\n",
        "summary = \"\"\n",
        "for sentence, sentence_score in sentence_scores.items():\n",
        "  for score in top_n_sentence_scores:\n",
        "    if sentence_score == score:\n",
        "      summary = summary + str(sentence)\n",
        "\n",
        "for summarized_sentences in summary.split('.'):\n",
        "  print(summarized_sentences)"
      ],
      "execution_count": 66,
      "outputs": [
        {
          "output_type": "stream",
          "text": [
            "Dell EMC Server Management Pack Suite offers both in-band and agent-free options that enable System Center Operations Manager to discover, monitor and accurately depict the status of Dell PowerEdge servers and modular platforms, integrated Dell Remote Access Controllers (iDRACs) and OpenManage Enterprise–Modular (OME-Modular), Chassis Management Controllers (CMCs) on a defined network segment\n",
            "Agent-free out-of-band monitoring is available for 12th generation through current platforms Dell EMC PowerEdge servers and agent-based monitoring with OpenManage Server Administrator (OMSA) is available for 11th generation through current platforms PowerEdge servers and PowerVault NX storage appliances\n",
            "\n"
          ],
          "name": "stdout"
        }
      ]
    },
    {
      "cell_type": "markdown",
      "metadata": {
        "id": "sBgDpjtfyzZN",
        "colab_type": "text"
      },
      "source": [
        "# Function"
      ]
    },
    {
      "cell_type": "code",
      "metadata": {
        "id": "_JjFy6QHyyzO",
        "colab_type": "code",
        "colab": {}
      },
      "source": [
        "import spacy  # Library to perform natural language processing\n",
        "from spacy.lang.en.stop_words import STOP_WORDS\n",
        "\n",
        "def text_summarizer(document, summary_percent=20):\n",
        "  # Load the document for the processing\n",
        "  nlp = spacy.load('en')\n",
        "  docx = nlp(document)\n",
        "\n",
        "  # Tokenize\n",
        "  mytokens = [token.text for token in docx]\n",
        "\n",
        "  # Build a List of Stopwords\n",
        "  stopwords = list(STOP_WORDS)\n",
        "\n",
        "  # Build a dictionary with {'TOKEN' : 'TOKEN_COUNT'}\n",
        "  token_frequency = {}\n",
        "  for token in mytokens:\n",
        "    if token not in stopwords:\n",
        "      if token not in token_frequency.keys():\n",
        "          token_frequency[token.lower()] = 1\n",
        "      else:\n",
        "          token_frequency[token.lower()] += 1\n",
        "\n",
        "  # Normalize the frequency between 0 and 1\n",
        "  token_frequency_max = max(token_frequency.values())\n",
        "\n",
        "  for word in token_frequency.keys():  \n",
        "    token_frequency[word] = (token_frequency[word]/token_frequency_max)\n",
        "\n",
        "  # Sentence Scores\n",
        "  # Sentence Score (Sentence) = Sum (Frequency of Eeach Word in the Sentence)\n",
        "  sentence_scores = {}  \n",
        "\n",
        "  for sentence in docx.sents: \n",
        "    for word in sentence:\n",
        "      if word.text.lower() in token_frequency.keys():\n",
        "        if len(sentence.text.split(' ')) < 100:\n",
        "          if sentence not in sentence_scores.keys():\n",
        "              sentence_scores[sentence] = token_frequency[word.text.lower()]\n",
        "          else:\n",
        "              sentence_scores[sentence] += token_frequency[word.text.lower()]\n",
        "\n",
        "  # Summarize using top n sentence scores\n",
        "  number_of_sentences = int((summary_percent / 100 ) * len(list(docx.sents)))\n",
        "  # print(number_of_sentences)\n",
        "  top_n_sentence_scores = sorted(sentence_scores.values(), reverse=True)[:number_of_sentences]\n",
        "\n",
        "  summary = \"\"\n",
        "  for sentence, sentence_score in sentence_scores.items():\n",
        "    for score in top_n_sentence_scores:\n",
        "      if sentence_score == score:\n",
        "        summary = summary + ' ' + str(sentence).strip()\n",
        "\n",
        "  return summary"
      ],
      "execution_count": 0,
      "outputs": []
    },
    {
      "cell_type": "code",
      "metadata": {
        "id": "5fL5YE8Ly9eB",
        "colab_type": "code",
        "outputId": "57a88176-6160-4ccd-e1f1-9fcef0df5716",
        "colab": {
          "base_uri": "https://localhost:8080/",
          "height": 159
        }
      },
      "source": [
        "import bs4\n",
        "from bs4 import BeautifulSoup as soup\n",
        "from urllib.request import urlopen\n",
        "\n",
        "url = 'https://www.dell.com/community/Systems-Management-General/DellEMC-OpenManage-Integration-into-Windows-Admin-Center-not/td-p/7376175'\n",
        "web_page = urlopen(url=url)\n",
        "html_page = web_page.read()\n",
        "page = soup(html_page, 'html.parser')\n",
        "document = ' '.join([sentence.text.strip().replace('\\n', ' ') for sentence in page.find_all('div', {'class': 'lia-message-body-content'})])\n",
        "\n",
        "summary = text_summarizer(document.strip(), summary_percent=10)\n",
        "\n",
        "print('\\nOriginal:')\n",
        "print(document)\n",
        "print('\\nSummarized:')\n",
        "print(summary)\n",
        "\n",
        "with open('Original.txt', 'w') as f:\n",
        "  f.write(\"\".join([sentence + '\\n' for sentence in document.split('.')]))\n",
        "with open('Summary.txt', 'w') as f:\n",
        "  f.write(\"\".join([sentence + '\\n' for sentence in summary.split('.')]))"
      ],
      "execution_count": 68,
      "outputs": [
        {
          "output_type": "stream",
          "text": [
            "\n",
            "Original:\n",
            "I am using Windows Admin Center, and I noticed recently there is a DellEMC OpenManage extension for it. I have been waiting for this for a while now, so I installed it but it doesnt' seem be to working. When I went to a server I have managed in WAC (A PowerEdge R720), it showed a page for accepting the usage agreement and what it was going to do (install a USB NIC). I agreed to this and it was gathering data for a bit, then it failed, saying the server was possibly off, rebooting, or did not have 445 open in the firewall (the latter was true). I opened the port but now I don't know how to install the components it needs now. The server is running Microsoft Hyper-V Server 2019 and another one is Running Hyper-V Server 2016. I also have another server on Windows Server 2016 that also fails, but it has port 445 open. I can't find a way to try and install the components again. I uninstalled and reinstalled the extension but it didn't show me the acceptance page again. I'm not sure where to get support for this, the dell pages have nothing about support. Mgamerz, I would start with verifying the steps you have taken are the same as seen on the install guide found here, or manual found here. Also, verify the following, as they are necessary for it to function properly. Firewall in your enterprise environment enables communication through SMB port 445.Redfish service is enabled on the target node.An iDRAC user slot is available on the target node.The target node is not booted to Lifecycle Controller.The target node is not in the reboot state, or is powered off.The USB NIC adapter is not disabled on the target node OS.The lockdown mode is disabled on target node. I would also recommend that you update the server to current as well. Let me know   Chris Hawk Dell | Social Outreach Services - Enterprise Get Support on Twitter @DellCaresPro  Download the Dell Quick Resource Locator app today to access PowerEdge support content on your mobile device! (iOS, Android, Windows) I went through what was listed here, but the same issue persists. WAC:test from WAC server to virtual host:PS C:\\Users\\redacted> test-netconnection redacted -port 445ComputerName : redactedRemoteAddress : redactedRemotePort : 445InterfaceAlias : EthernetSourceAddress : redactedTcpTestSucceeded : TrueiDRAC users list: iDRAC USB NIC:redfish: USB NIC on virtual host: Can't figure out why it won't show the idrac USB setting image. Here it is. Hi, This is Shiv from Dell EMC OpenManage Integration engineering team.Additional to the above mentioned check, what is the PowerShell remoting policy in your node? is it set to \"Remote-Signed\"?If setting the above policy does not help proceed with inventory retrieval, could you help us with the logs located in your target (managed) node at  <Windows Directory>\\Temp\\OMIMSWAC.See this link to retrieve the logs  \tRegards,ShivDell EMC OpenManage Integrations for Microsoft Sorry about the late response. Yes our powershell policy on all systems is set to remote signed. I do not have the permissions to change this setting, as we are a multi-tiered organization.When you say managed system, I assume you mean the target server? I am on looking for C:\\windows\\temp\\omimswac, but that directory does not exist on the target server. Given how fast the collection fails (it's almost as soon as the UI loads), I assume it did not actually install anything.If you meant on the managing server, it does not look like that folder exists there either. Thank you for the details.Issue seems to be inConnecting to the target node operating system through the required ports and credentials or IPMI driver (OMIMSWAC internally performs IPMI operations on target node) has issues.I would recommend few more checks (mentioned below) to be done:While connecting to the target node from Windows Admin Center, select \"Manage As\" and enter Operating System administrator credentials.Check the 445 port configuration against the table mentioned hereEnsure the IPMI driver and service up and running. Refer details on issue identification and solution here. If the above checks does not resolve the issue, could you share the below details to categorize the issue: iDRAC firmware version.Windows Admin Center version.OpenManage Integration build number (specified in About screen of the Integration).How many target nodes is the issue seen in?  \tRegards,ShivDell EMC OpenManage Integrations for Microsoft This seems to be an issue with some sort of credentials and how Windows Admin Center passes credentials.Our organization uses separated standard and administrative accounts. Standard accounts must log on using smart cards except in very special circumstances. Administrative accounts don't actually have passwords (that we know) and smart cards must be used for logon. Due to this, I have installed WAC on a VM that I remote into as an administrator, as doing a run-as doesn't really seem to work with WAC. WAC supports smart cards but it doesn't seem to work properly with how my organization set up their delegations (I am not a domain controller administrator so I don't know too much about that).This does not seem to work with Dell OpenManage plugin. I can administer all of the servers just fine, make config changes, etc, but Dell OpenManage integration plugin fails immediately.I have some service accounts I use that do password, but they have very specific documented usage. I tried one out for testing and it worked fine.I am wondering if Windows is not passing an elevated credential through. I remember seeing something like <username> [Elevated] a while ago when I had to update a plugin, but I don't see this anymore.So it works... but I have to manually specify credentials I am not supposed to be using for this purpose. Thank you for details on issue identification and scenario.Could you answer this query i have on the scenario ?Has the \"Smart Card Authentication\" been enabled on both systems (system where Windows Admin Center is installed and target node)? To work with OMIMSWAC we do recommend connecting to the target node with administrator credentials (with password) by using \"Manage As\" from Windows Admin Center.Do help us with details on Smart Card, # of administrators (separate for WAC and for target node?) and any other that could help us build this case for offering in our integration.   \tRegards,ShivDell EMC OpenManage Integrations for Microsoft It was working fine when my server started of as a stand alone server. Fresh Windows install. Once I setup my server as an Active Directory server, the EMC extensions in Windows Admin Center stopped working. All other checks mentioned in this article are good.\n",
            "\n",
            "Summarized:\n",
            " When I went to a server I have managed in WAC (A PowerEdge R720), it showed a page for accepting the usage agreement and what it was going to do (install a USB NIC). I agreed to this and it was gathering data for a bit, then it failed, saying the server was possibly off, rebooting, or did not have 445 open in the firewall (the latter was true). Mgamerz, I would start with verifying the steps you have taken are the same as seen on the install guide found here, or manual found here. setting the above policy does not help proceed with inventory retrieval, could you help us with the logs located in your target (managed) node at  <Windows Directory>\\Temp\\OMIMSWAC.See this link to retrieve the logs  \tRegards,ShivDell EMC OpenManage Integrations for Microsoft Sorry about the late response. I would recommend few more checks (mentioned below) to be done:While connecting to the target node from Windows Admin Center, select \"Manage As\" and enter Operating System administrator credentials. If the above checks does not resolve the issue, could you share the below details to categorize the issue: iDRAC firmware version. I can administer all of the servers just fine, make config changes, etc, but Dell OpenManage integration plugin fails immediately. Do help us with details on Smart Card, # of administrators (separate for WAC and for target node?) and any other that could help us build this case for offering in our integration.\n"
          ],
          "name": "stdout"
        }
      ]
    }
  ]
}