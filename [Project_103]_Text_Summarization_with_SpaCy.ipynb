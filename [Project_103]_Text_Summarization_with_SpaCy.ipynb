{
  "nbformat": 4,
  "nbformat_minor": 0,
  "metadata": {
    "colab": {
      "name": "[Project 103] Text Summarization with SpaCy.ipynb",
      "provenance": [],
      "collapsed_sections": [],
      "authorship_tag": "ABX9TyNR76dL0lwXomqazg6vxeY4",
      "include_colab_link": true
    },
    "kernelspec": {
      "name": "python3",
      "display_name": "Python 3"
    }
  },
  "cells": [
    {
      "cell_type": "markdown",
      "metadata": {
        "id": "view-in-github",
        "colab_type": "text"
      },
      "source": [
        "<a href=\"https://colab.research.google.com/github/id-shiv/knowledge_base/blob/master/%5BProject_103%5D_Text_Summarization_with_SpaCy.ipynb\" target=\"_parent\"><img src=\"https://colab.research.google.com/assets/colab-badge.svg\" alt=\"Open In Colab\"/></a>"
      ]
    },
    {
      "cell_type": "code",
      "metadata": {
        "id": "9veVgfJOwAd9",
        "colab_type": "code",
        "colab": {}
      },
      "source": [
        "import spacy\n",
        "from spacy.lang.en.stop_words import STOP_WORDS\n",
        "from string import punctuation"
      ],
      "execution_count": 0,
      "outputs": []
    },
    {
      "cell_type": "code",
      "metadata": {
        "id": "Hnb6a7NVwaiv",
        "colab_type": "code",
        "colab": {}
      },
      "source": [
        "# Build a List of Stopwords\n",
        "stopwords = list(STOP_WORDS)"
      ],
      "execution_count": 0,
      "outputs": []
    },
    {
      "cell_type": "code",
      "metadata": {
        "id": "o_6z-z5xwvMI",
        "colab_type": "code",
        "colab": {}
      },
      "source": [
        "document = \"Enhance visibility into the health of your Dell EMC hardware \\\n",
        "environment Dell EMC Server and Network switch, Storage and Printer Management \\\n",
        "Packs for Microsoft System Center Operations Manager (SCOM) deliver greater \\\n",
        "visibility into hardware inventory details, components and configurations \\\n",
        "essential to optimizing the availability of your infrastructure hardware.\\\n",
        "Dell EMC Server Management Pack Suite offers both in-band and agent-free \\\n",
        "options that enable System Center Operations Manager to discover, monitor and \\\n",
        "accurately depict the status of Dell PowerEdge servers and modular platforms, \\\n",
        "integrated Dell Remote Access Controllers (iDRACs) and OpenManage \\\n",
        "Enterprise–Modular (OME-Modular), Chassis Management Controllers (CMCs) on a \\\n",
        "defined network segment.\\\n",
        "Agent-free out-of-band monitoring is available for 12th generation through \\\n",
        "current platforms Dell EMC PowerEdge servers and agent-based monitoring with \\\n",
        "OpenManage Server Administrator (OMSA) is available for 11th generation through \\\n",
        "current platforms PowerEdge servers and PowerVault NX storage appliances.\\\n",
        "OpenManage Integration for Microsoft System Center (OMIMSSC) for System Center \\\n",
        "Operations Manager (SCOM) is available to deploy as a virtual appliance for \\\n",
        "monitoring in SCOM environments for agent-free management.\""
      ],
      "execution_count": 0,
      "outputs": []
    },
    {
      "cell_type": "code",
      "metadata": {
        "id": "5BjbJDgZxLfP",
        "colab_type": "code",
        "colab": {}
      },
      "source": [
        "nlp = spacy.load('en')\n",
        "docx = nlp(document)"
      ],
      "execution_count": 0,
      "outputs": []
    },
    {
      "cell_type": "code",
      "metadata": {
        "id": "Q6wOnrURxTnP",
        "colab_type": "code",
        "colab": {}
      },
      "source": [
        "mytokens = [token.text for token in docx]"
      ],
      "execution_count": 0,
      "outputs": []
    },
    {
      "cell_type": "code",
      "metadata": {
        "id": "y6oyKyr-xYXR",
        "colab_type": "code",
        "colab": {
          "base_uri": "https://localhost:8080/",
          "height": 1000
        },
        "outputId": "522d1086-dd37-4a2b-a8fc-9c67d2955a55"
      },
      "source": [
        "word_frequencies = {}\n",
        "for word in docx:\n",
        "    if word.text not in stopwords:\n",
        "            if word.text not in word_frequencies.keys():\n",
        "                word_frequencies[word.text] = 1\n",
        "            else:\n",
        "                word_frequencies[word.text] += 1\n",
        "word_frequencies"
      ],
      "execution_count": 41,
      "outputs": [
        {
          "output_type": "execute_result",
          "data": {
            "text/plain": [
              "{'(': 7,\n",
              " ')': 7,\n",
              " ',': 5,\n",
              " '-': 8,\n",
              " '.': 4,\n",
              " '11th': 1,\n",
              " '12th': 1,\n",
              " 'Access': 1,\n",
              " 'Administrator': 1,\n",
              " 'Agent': 1,\n",
              " 'CMCs': 1,\n",
              " 'Center': 4,\n",
              " 'Chassis': 1,\n",
              " 'Controllers': 2,\n",
              " 'Dell': 6,\n",
              " 'EMC': 4,\n",
              " 'Enhance': 1,\n",
              " 'Enterprise': 1,\n",
              " 'Integration': 1,\n",
              " 'Management': 3,\n",
              " 'Manager': 3,\n",
              " 'Microsoft': 2,\n",
              " 'Modular': 2,\n",
              " 'NX': 1,\n",
              " 'Network': 1,\n",
              " 'OME': 1,\n",
              " 'OMIMSSC': 1,\n",
              " 'OMSA': 1,\n",
              " 'OpenManage': 3,\n",
              " 'Operations': 3,\n",
              " 'Pack': 1,\n",
              " 'Packs': 1,\n",
              " 'PowerEdge': 3,\n",
              " 'PowerVault': 1,\n",
              " 'Printer': 1,\n",
              " 'Remote': 1,\n",
              " 'SCOM': 3,\n",
              " 'Server': 3,\n",
              " 'Storage': 1,\n",
              " 'Suite': 1,\n",
              " 'System': 4,\n",
              " 'accurately': 1,\n",
              " 'agent': 3,\n",
              " 'appliance': 1,\n",
              " 'appliances': 1,\n",
              " 'availability': 1,\n",
              " 'available': 3,\n",
              " 'band': 2,\n",
              " 'based': 1,\n",
              " 'components': 1,\n",
              " 'configurations': 1,\n",
              " 'current': 2,\n",
              " 'defined': 1,\n",
              " 'deliver': 1,\n",
              " 'depict': 1,\n",
              " 'deploy': 1,\n",
              " 'details': 1,\n",
              " 'discover': 1,\n",
              " 'enable': 1,\n",
              " 'environment': 1,\n",
              " 'environments': 1,\n",
              " 'essential': 1,\n",
              " 'free': 3,\n",
              " 'generation': 2,\n",
              " 'greater': 1,\n",
              " 'hardware': 3,\n",
              " 'health': 1,\n",
              " 'iDRACs': 1,\n",
              " 'infrastructure': 1,\n",
              " 'integrated': 1,\n",
              " 'inventory': 1,\n",
              " 'management': 1,\n",
              " 'modular': 1,\n",
              " 'monitor': 1,\n",
              " 'monitoring': 3,\n",
              " 'network': 1,\n",
              " 'offers': 1,\n",
              " 'optimizing': 1,\n",
              " 'options': 1,\n",
              " 'platforms': 3,\n",
              " 'segment': 1,\n",
              " 'servers': 3,\n",
              " 'status': 1,\n",
              " 'storage': 1,\n",
              " 'switch': 1,\n",
              " 'virtual': 1,\n",
              " 'visibility': 2,\n",
              " '–': 1}"
            ]
          },
          "metadata": {
            "tags": []
          },
          "execution_count": 41
        }
      ]
    },
    {
      "cell_type": "code",
      "metadata": {
        "id": "u4JiJGTrxgIa",
        "colab_type": "code",
        "colab": {}
      },
      "source": [
        "maximum_frequency = max(word_frequencies.values())"
      ],
      "execution_count": 0,
      "outputs": []
    },
    {
      "cell_type": "code",
      "metadata": {
        "id": "N4Q2qd7oxivc",
        "colab_type": "code",
        "colab": {}
      },
      "source": [
        "for word in word_frequencies.keys():  \n",
        "        word_frequencies[word] = (word_frequencies[word]/maximum_frequency)"
      ],
      "execution_count": 0,
      "outputs": []
    },
    {
      "cell_type": "code",
      "metadata": {
        "id": "bv1pzqZWxm69",
        "colab_type": "code",
        "colab": {
          "base_uri": "https://localhost:8080/",
          "height": 1000
        },
        "outputId": "70c6b23c-78e4-45fe-bfa4-b0af54cf0443"
      },
      "source": [
        "word_frequencies"
      ],
      "execution_count": 44,
      "outputs": [
        {
          "output_type": "execute_result",
          "data": {
            "text/plain": [
              "{'(': 0.875,\n",
              " ')': 0.875,\n",
              " ',': 0.625,\n",
              " '-': 1.0,\n",
              " '.': 0.5,\n",
              " '11th': 0.125,\n",
              " '12th': 0.125,\n",
              " 'Access': 0.125,\n",
              " 'Administrator': 0.125,\n",
              " 'Agent': 0.125,\n",
              " 'CMCs': 0.125,\n",
              " 'Center': 0.5,\n",
              " 'Chassis': 0.125,\n",
              " 'Controllers': 0.25,\n",
              " 'Dell': 0.75,\n",
              " 'EMC': 0.5,\n",
              " 'Enhance': 0.125,\n",
              " 'Enterprise': 0.125,\n",
              " 'Integration': 0.125,\n",
              " 'Management': 0.375,\n",
              " 'Manager': 0.375,\n",
              " 'Microsoft': 0.25,\n",
              " 'Modular': 0.25,\n",
              " 'NX': 0.125,\n",
              " 'Network': 0.125,\n",
              " 'OME': 0.125,\n",
              " 'OMIMSSC': 0.125,\n",
              " 'OMSA': 0.125,\n",
              " 'OpenManage': 0.375,\n",
              " 'Operations': 0.375,\n",
              " 'Pack': 0.125,\n",
              " 'Packs': 0.125,\n",
              " 'PowerEdge': 0.375,\n",
              " 'PowerVault': 0.125,\n",
              " 'Printer': 0.125,\n",
              " 'Remote': 0.125,\n",
              " 'SCOM': 0.375,\n",
              " 'Server': 0.375,\n",
              " 'Storage': 0.125,\n",
              " 'Suite': 0.125,\n",
              " 'System': 0.5,\n",
              " 'accurately': 0.125,\n",
              " 'agent': 0.375,\n",
              " 'appliance': 0.125,\n",
              " 'appliances': 0.125,\n",
              " 'availability': 0.125,\n",
              " 'available': 0.375,\n",
              " 'band': 0.25,\n",
              " 'based': 0.125,\n",
              " 'components': 0.125,\n",
              " 'configurations': 0.125,\n",
              " 'current': 0.25,\n",
              " 'defined': 0.125,\n",
              " 'deliver': 0.125,\n",
              " 'depict': 0.125,\n",
              " 'deploy': 0.125,\n",
              " 'details': 0.125,\n",
              " 'discover': 0.125,\n",
              " 'enable': 0.125,\n",
              " 'environment': 0.125,\n",
              " 'environments': 0.125,\n",
              " 'essential': 0.125,\n",
              " 'free': 0.375,\n",
              " 'generation': 0.25,\n",
              " 'greater': 0.125,\n",
              " 'hardware': 0.375,\n",
              " 'health': 0.125,\n",
              " 'iDRACs': 0.125,\n",
              " 'infrastructure': 0.125,\n",
              " 'integrated': 0.125,\n",
              " 'inventory': 0.125,\n",
              " 'management': 0.125,\n",
              " 'modular': 0.125,\n",
              " 'monitor': 0.125,\n",
              " 'monitoring': 0.375,\n",
              " 'network': 0.125,\n",
              " 'offers': 0.125,\n",
              " 'optimizing': 0.125,\n",
              " 'options': 0.125,\n",
              " 'platforms': 0.375,\n",
              " 'segment': 0.125,\n",
              " 'servers': 0.375,\n",
              " 'status': 0.125,\n",
              " 'storage': 0.125,\n",
              " 'switch': 0.125,\n",
              " 'virtual': 0.125,\n",
              " 'visibility': 0.25,\n",
              " '–': 0.125}"
            ]
          },
          "metadata": {
            "tags": []
          },
          "execution_count": 44
        }
      ]
    },
    {
      "cell_type": "code",
      "metadata": {
        "id": "MQ5FODOlxqjh",
        "colab_type": "code",
        "colab": {}
      },
      "source": [
        "sentence_list = [sentence for sentence in docx.sents]"
      ],
      "execution_count": 0,
      "outputs": []
    },
    {
      "cell_type": "code",
      "metadata": {
        "id": "Ci7nG74Exw5f",
        "colab_type": "code",
        "colab": {
          "base_uri": "https://localhost:8080/",
          "height": 1000
        },
        "outputId": "6dde2af2-3cd8-453a-a315-f6e7e1a2871a"
      },
      "source": [
        "[w.text.lower() for t in sentence_list for w in t ]"
      ],
      "execution_count": 46,
      "outputs": [
        {
          "output_type": "execute_result",
          "data": {
            "text/plain": [
              "['enhance',\n",
              " 'visibility',\n",
              " 'into',\n",
              " 'the',\n",
              " 'health',\n",
              " 'of',\n",
              " 'your',\n",
              " 'dell',\n",
              " 'emc',\n",
              " 'hardware',\n",
              " 'environment',\n",
              " 'dell',\n",
              " 'emc',\n",
              " 'server',\n",
              " 'and',\n",
              " 'network',\n",
              " 'switch',\n",
              " ',',\n",
              " 'storage',\n",
              " 'and',\n",
              " 'printer',\n",
              " 'management',\n",
              " 'packs',\n",
              " 'for',\n",
              " 'microsoft',\n",
              " 'system',\n",
              " 'center',\n",
              " 'operations',\n",
              " 'manager',\n",
              " '(',\n",
              " 'scom',\n",
              " ')',\n",
              " 'deliver',\n",
              " 'greater',\n",
              " 'visibility',\n",
              " 'into',\n",
              " 'hardware',\n",
              " 'inventory',\n",
              " 'details',\n",
              " ',',\n",
              " 'components',\n",
              " 'and',\n",
              " 'configurations',\n",
              " 'essential',\n",
              " 'to',\n",
              " 'optimizing',\n",
              " 'the',\n",
              " 'availability',\n",
              " 'of',\n",
              " 'your',\n",
              " 'infrastructure',\n",
              " 'hardware',\n",
              " '.',\n",
              " 'dell',\n",
              " 'emc',\n",
              " 'server',\n",
              " 'management',\n",
              " 'pack',\n",
              " 'suite',\n",
              " 'offers',\n",
              " 'both',\n",
              " 'in',\n",
              " '-',\n",
              " 'band',\n",
              " 'and',\n",
              " 'agent',\n",
              " '-',\n",
              " 'free',\n",
              " 'options',\n",
              " 'that',\n",
              " 'enable',\n",
              " 'system',\n",
              " 'center',\n",
              " 'operations',\n",
              " 'manager',\n",
              " 'to',\n",
              " 'discover',\n",
              " ',',\n",
              " 'monitor',\n",
              " 'and',\n",
              " 'accurately',\n",
              " 'depict',\n",
              " 'the',\n",
              " 'status',\n",
              " 'of',\n",
              " 'dell',\n",
              " 'poweredge',\n",
              " 'servers',\n",
              " 'and',\n",
              " 'modular',\n",
              " 'platforms',\n",
              " ',',\n",
              " 'integrated',\n",
              " 'dell',\n",
              " 'remote',\n",
              " 'access',\n",
              " 'controllers',\n",
              " '(',\n",
              " 'idracs',\n",
              " ')',\n",
              " 'and',\n",
              " 'openmanage',\n",
              " 'enterprise',\n",
              " '–',\n",
              " 'modular',\n",
              " '(',\n",
              " 'ome',\n",
              " '-',\n",
              " 'modular',\n",
              " ')',\n",
              " ',',\n",
              " 'chassis',\n",
              " 'management',\n",
              " 'controllers',\n",
              " '(',\n",
              " 'cmcs',\n",
              " ')',\n",
              " 'on',\n",
              " 'a',\n",
              " 'defined',\n",
              " 'network',\n",
              " 'segment',\n",
              " '.',\n",
              " 'agent',\n",
              " '-',\n",
              " 'free',\n",
              " 'out',\n",
              " '-',\n",
              " 'of',\n",
              " '-',\n",
              " 'band',\n",
              " 'monitoring',\n",
              " 'is',\n",
              " 'available',\n",
              " 'for',\n",
              " '12th',\n",
              " 'generation',\n",
              " 'through',\n",
              " 'current',\n",
              " 'platforms',\n",
              " 'dell',\n",
              " 'emc',\n",
              " 'poweredge',\n",
              " 'servers',\n",
              " 'and',\n",
              " 'agent',\n",
              " '-',\n",
              " 'based',\n",
              " 'monitoring',\n",
              " 'with',\n",
              " 'openmanage',\n",
              " 'server',\n",
              " 'administrator',\n",
              " '(',\n",
              " 'omsa',\n",
              " ')',\n",
              " 'is',\n",
              " 'available',\n",
              " 'for',\n",
              " '11th',\n",
              " 'generation',\n",
              " 'through',\n",
              " 'current',\n",
              " 'platforms',\n",
              " 'poweredge',\n",
              " 'servers',\n",
              " 'and',\n",
              " 'powervault',\n",
              " 'nx',\n",
              " 'storage',\n",
              " 'appliances',\n",
              " '.',\n",
              " 'openmanage',\n",
              " 'integration',\n",
              " 'for',\n",
              " 'microsoft',\n",
              " 'system',\n",
              " 'center',\n",
              " '(',\n",
              " 'omimssc',\n",
              " ')',\n",
              " 'for',\n",
              " 'system',\n",
              " 'center',\n",
              " 'operations',\n",
              " 'manager',\n",
              " '(',\n",
              " 'scom',\n",
              " ')',\n",
              " 'is',\n",
              " 'available',\n",
              " 'to',\n",
              " 'deploy',\n",
              " 'as',\n",
              " 'a',\n",
              " 'virtual',\n",
              " 'appliance',\n",
              " 'for',\n",
              " 'monitoring',\n",
              " 'in',\n",
              " 'scom',\n",
              " 'environments',\n",
              " 'for',\n",
              " 'agent',\n",
              " '-',\n",
              " 'free',\n",
              " 'management',\n",
              " '.']"
            ]
          },
          "metadata": {
            "tags": []
          },
          "execution_count": 46
        }
      ]
    },
    {
      "cell_type": "code",
      "metadata": {
        "id": "FZU2C4fIx0ZN",
        "colab_type": "code",
        "colab": {}
      },
      "source": [
        "# Sentence Score via comparrng each word with sentence\n",
        "sentence_scores = {}  \n",
        "for sent in sentence_list:  \n",
        "        for word in sent:\n",
        "            if word.text.lower() in word_frequencies.keys():\n",
        "                if len(sent.text.split(' ')) < 30:\n",
        "                    if sent not in sentence_scores.keys():\n",
        "                        sentence_scores[sent] = word_frequencies[word.text.lower()]\n",
        "                    else:\n",
        "                        sentence_scores[sent] += word_frequencies[word.text.lower()]"
      ],
      "execution_count": 0,
      "outputs": []
    },
    {
      "cell_type": "code",
      "metadata": {
        "id": "HULxnfo_x20I",
        "colab_type": "code",
        "colab": {}
      },
      "source": [
        "# Sentence Score via comparrng each word with sentence\n",
        "# Alternative Method\n",
        "lowered_sentence_list = [w.text.lower() for t in sentence_list for w in t ]\n",
        "lowered_sentence_scores = {}  \n",
        "for sent in lowered_sentence_list:  \n",
        "        for word in sent:\n",
        "            if word in word_frequencies.keys():\n",
        "                if len(sent.split(' ')) < 30:\n",
        "                    if sent not in sentence_scores.keys():\n",
        "                        lowered_sentence_scores[sent] = word_frequencies[word]\n",
        "                    else:\n",
        "                        lowered_sentence_scores[sent] += word_frequencies[word]"
      ],
      "execution_count": 0,
      "outputs": []
    },
    {
      "cell_type": "code",
      "metadata": {
        "id": "L56zkTdoyIOj",
        "colab_type": "code",
        "colab": {
          "base_uri": "https://localhost:8080/",
          "height": 74
        },
        "outputId": "76097a3f-b3a8-4c91-c243-c8518d65539d"
      },
      "source": [
        "# Sentence Score Table\n",
        "sentence_scores"
      ],
      "execution_count": 49,
      "outputs": [
        {
          "output_type": "execute_result",
          "data": {
            "text/plain": [
              "{OpenManage Integration for Microsoft System Center (OMIMSSC) for System Center Operations Manager (SCOM) is available to deploy as a virtual appliance for monitoring in SCOM environments for agent-free management.: 7.125}"
            ]
          },
          "metadata": {
            "tags": []
          },
          "execution_count": 49
        }
      ]
    },
    {
      "cell_type": "code",
      "metadata": {
        "id": "WdiRFaI3yM5d",
        "colab_type": "code",
        "colab": {}
      },
      "source": [
        "from heapq import nlargest"
      ],
      "execution_count": 0,
      "outputs": []
    },
    {
      "cell_type": "code",
      "metadata": {
        "id": "if0MxJqvyQGO",
        "colab_type": "code",
        "colab": {
          "base_uri": "https://localhost:8080/",
          "height": 74
        },
        "outputId": "ab68c3c2-f478-4ad0-aa58-b6f218892b75"
      },
      "source": [
        "summarized_sentences = nlargest(7, sentence_scores, key=sentence_scores.get)\n",
        "summarized_sentences"
      ],
      "execution_count": 51,
      "outputs": [
        {
          "output_type": "execute_result",
          "data": {
            "text/plain": [
              "[OpenManage Integration for Microsoft System Center (OMIMSSC) for System Center Operations Manager (SCOM) is available to deploy as a virtual appliance for monitoring in SCOM environments for agent-free management.]"
            ]
          },
          "metadata": {
            "tags": []
          },
          "execution_count": 51
        }
      ]
    },
    {
      "cell_type": "code",
      "metadata": {
        "id": "BMpCNp74yWxN",
        "colab_type": "code",
        "colab": {
          "base_uri": "https://localhost:8080/",
          "height": 74
        },
        "outputId": "86095450-f05f-49f1-e741-a520cc6f9731"
      },
      "source": [
        "# Convert Sentences from Spacy Span to Strings for joining entire sentence\n",
        "for w in summarized_sentences:\n",
        "    print(w.text)"
      ],
      "execution_count": 52,
      "outputs": [
        {
          "output_type": "stream",
          "text": [
            "OpenManage Integration for Microsoft System Center (OMIMSSC) for System Center Operations Manager (SCOM) is available to deploy as a virtual appliance for monitoring in SCOM environments for agent-free management.\n"
          ],
          "name": "stdout"
        }
      ]
    },
    {
      "cell_type": "code",
      "metadata": {
        "id": "-ANp57qXyaq0",
        "colab_type": "code",
        "colab": {}
      },
      "source": [
        "# List Comprehension of Sentences Converted From Spacy.span to strings\n",
        "final_sentences = [ w.text for w in summarized_sentences ]"
      ],
      "execution_count": 0,
      "outputs": []
    },
    {
      "cell_type": "code",
      "metadata": {
        "id": "GtL6_yROydZC",
        "colab_type": "code",
        "colab": {
          "base_uri": "https://localhost:8080/",
          "height": 74
        },
        "outputId": "ca11f165-f11f-4e34-bdd0-dea01854df56"
      },
      "source": [
        "summary = ' '.join(final_sentences)\n",
        "summary"
      ],
      "execution_count": 54,
      "outputs": [
        {
          "output_type": "execute_result",
          "data": {
            "text/plain": [
              "'OpenManage Integration for Microsoft System Center (OMIMSSC) for System Center Operations Manager (SCOM) is available to deploy as a virtual appliance for monitoring in SCOM environments for agent-free management.'"
            ]
          },
          "metadata": {
            "tags": []
          },
          "execution_count": 54
        }
      ]
    },
    {
      "cell_type": "code",
      "metadata": {
        "id": "c0FV6mH8yjt3",
        "colab_type": "code",
        "colab": {
          "base_uri": "https://localhost:8080/",
          "height": 51
        },
        "outputId": "a4cf8b79-9ab5-4776-9d00-780f58070b7e"
      },
      "source": [
        "print(len(summary))\n",
        "print(len(document))"
      ],
      "execution_count": 55,
      "outputs": [
        {
          "output_type": "stream",
          "text": [
            "213\n",
            "1277\n"
          ],
          "name": "stdout"
        }
      ]
    },
    {
      "cell_type": "markdown",
      "metadata": {
        "id": "sBgDpjtfyzZN",
        "colab_type": "text"
      },
      "source": [
        "# Function"
      ]
    },
    {
      "cell_type": "code",
      "metadata": {
        "id": "_JjFy6QHyyzO",
        "colab_type": "code",
        "colab": {}
      },
      "source": [
        "def text_summarizer(raw_docx):\n",
        "    raw_text = raw_docx\n",
        "    docx = nlp(raw_text)\n",
        "    stopwords = list(STOP_WORDS)\n",
        "    # Build Word Frequency\n",
        "    # word.text is tokenization in spacy\n",
        "    word_frequencies = {}  \n",
        "    for word in docx:  \n",
        "        if word.text not in stopwords:\n",
        "            if word.text not in word_frequencies.keys():\n",
        "                word_frequencies[word.text] = 1\n",
        "            else:\n",
        "                word_frequencies[word.text] += 1\n",
        "\n",
        "\n",
        "    maximum_frequncy = max(word_frequencies.values())\n",
        "\n",
        "    for word in word_frequencies.keys():  \n",
        "        word_frequencies[word] = (word_frequencies[word]/maximum_frequncy)\n",
        "    # Sentence Tokens\n",
        "    sentence_list = [ sentence for sentence in docx.sents ]\n",
        "\n",
        "    # Calculate Sentence Score and Ranking\n",
        "    sentence_scores = {}  \n",
        "    for sent in sentence_list:  \n",
        "        for word in sent:\n",
        "            if word.text.lower() in word_frequencies.keys():\n",
        "                if len(sent.text.split(' ')) < 30:\n",
        "                    if sent not in sentence_scores.keys():\n",
        "                        sentence_scores[sent] = word_frequencies[word.text.lower()]\n",
        "                    else:\n",
        "                        sentence_scores[sent] += word_frequencies[word.text.lower()]\n",
        "\n",
        "    # Find N Largest\n",
        "    summary_sentences = nlargest(7, sentence_scores, key=sentence_scores.get)\n",
        "    final_sentences = [ w.text for w in summary_sentences ]\n",
        "    summary = ' '.join(final_sentences)\n",
        "    print(\"Original Document\\n\")\n",
        "    print(raw_docx)\n",
        "    print(\"Total Length:\",len(raw_docx))\n",
        "    print('\\n\\nSummarized Document\\n')\n",
        "    print(summary)\n",
        "    print(\"Total Length:\",len(summary))"
      ],
      "execution_count": 0,
      "outputs": []
    },
    {
      "cell_type": "code",
      "metadata": {
        "id": "5fL5YE8Ly9eB",
        "colab_type": "code",
        "colab": {
          "base_uri": "https://localhost:8080/",
          "height": 227
        },
        "outputId": "aecd23a6-b535-469a-dc47-2bc05187a1df"
      },
      "source": [
        "import bs4\n",
        "from bs4 import BeautifulSoup as soup\n",
        "from urllib.request import urlopen\n",
        "from nltk.tokenize import RegexpTokenizer\n",
        "\n",
        "url = 'https://en.wikipedia.org/wiki/Dell'\n",
        "url = 'https://www.dell.com/en-in/work/shop/povw/openmanage-microsoft'\n",
        "web_page = urlopen(url=url)\n",
        "html_page = web_page.read()\n",
        "page = soup(html_page, 'html.parser')\n",
        "whitelist = [\n",
        "  'p'\n",
        "]\n",
        "\n",
        "text_elements = [t for t in page.find_all(text=True) if t.parent.name in whitelist]\n",
        "\n",
        "document = \" \".join([word for word in text_elements if word not in ['\\n', ' , ']])\n",
        "document = document.replace(\"  ,\", \"\").replace(\"  \", \"\")\n",
        "# tokenizer = RegexpTokenizer(r'\\w+')\n",
        "# result = tokenizer.tokenize(document)\n",
        "# document = \" \".join([word for word in result])\n",
        "\n",
        "text_summarizer(document)"
      ],
      "execution_count": 90,
      "outputs": [
        {
          "output_type": "stream",
          "text": [
            "Original Document\n",
            "\n",
            "[if !IE]> <br class=\"hidden-xs\"/> <![endif] [if !IE]> <br class=\"hidden-xs\"/> <![endif] [if !IE]> <br class=\"hidden-xs\"/> <![endif] Boost the operational efficiency of Dell EMC hardware using OpenManage Integration for Microsoft System Center and your existing Microsoft System Center systems management solutions.deliver greater visibility into hardware inventory details, components and configurations essential to optimizing the availability of your infrastructure hardware.  offers both in-band and agent-free options that enable System Center Operations Manager to discover, monitor and accurately depict the status of Dell PowerEdge servers and modular platforms, integrated Dell Remote Access Controllers (iDRACs) and OpenManage Enterprise–Modular (OME-Modular), Chassis Management Controllers (CMCs) on a defined network segment. Agent-free out-of-band monitoring is available for 12th generation through current platforms Dell EMC PowerEdge servers and agent-based monitoring with OpenManage Server Administrator (OMSA) is available for 11th generation through current platforms PowerEdge servers and PowerVault NX storage appliances.is available to deploy as a virtual appliance for monitoring in SCOM environments for agent-free management. Perform more Cluster management tasks in less time with enables automated deployment of Storage Spaces Direct (S2D) Clusters and eliminate the guesswork and perform updates across clusters without workload interruption with the Cluster-aware firmware update for Hyperconverged and Fail-over Clusters in your Microsoft Azure Stack HCI environment.is available to deploy as a single virtual appliance in your Microsoft System Center environment.  Automated processes reduce the steps, time and costs needed to configure your PowerEdge servers from a bare-metal state and to prepare remote one-to-many operating system deployments within multi-vendor operating system and hypervisor environments.integrates PowerEdge server knowledge on temperature, memory and power supplies with to efficiently manage PowerEdge servers that host virtual workloads running on Microsoft Hyper-V. Remedial actions can be quickly implemented if a system is compromised.provides agent-free, OS- and hypervisor-agnostic configuration and deployment as well as uniform BIOS, driver and firmware updates for 11th generation through current PowerEdge servers. Automated processes reduce the steps, time and costs needed to configure your PowerEdge servers from a bare-metal state and to prepare remote one-to-many operating system deployments within multi-vendor operating system and hypervisor environments.leverages OpenManage Deployment Toolkit (DTK) and PxE-based OS deployment to automate bare-metal server configuration and deployment of various Microsoft operating systems on PowerEdge servers across your network. *Dell EMC Server Deployment Pack is on a deprecated path recommend implementing Dell EMC OpenManage Integration for Microsoft System Center for SCCMscan and update BIOS, firmware and drivers for PowerEdge servers running Windows operating systems. As Server Update Catalogs are released, they are integrated and automatically downloaded through the System Center Configuration Manager console. For more information on each of these products, please visit — Dell EMC Server and Storage Management Packs and Dell Printer Management Pack for use with System Center Operations Manager (SCOM) For additional documentation and videos describing OpenManage Integration for Microsoft System Center (OMIMSSC) for SCOM, please visit:— Dell Server Deployment Packs and Update Catalogs for use with System Center Configuration Manager (SCCM) )managed with System Center Virtual Machine Manager   download of the software, please contact a Dell sales representative for further information.For additional documentation and videos describing OpenManage Integration for Microsoft System Center (OMIMSSC) for SCCM/SCVMM, please visit:  Optimizing the IT lifecycle is vital. We have expert servicesfor all lifecycle phases that save you time and resources, reduce effort, and improve your IT experience. Gain the freedom to focus on your business transformation with the support expertise and insights Dell EMC is known for across the globe. Choose the right support based on the criticality of specific systems with available automated predictive analysis, collaborative third-party assistance and service account management. ProDeploy Enterprise Suite helps you get more out of technology starting on day one. Trust our experts to lead deployments from basic hardware installations through planning, configuration and complex integrations. Our complete suite of deployment services and professional certifications helps you achieve business outcomes today and tomorrow. Education Services offers an expansive suite of training services with multiple delivery methods, including instructor-led, self-paced online and virtual instructor-led training. With comprehensive and flexible training programs, we make it easy to ensure your staff has the skills they need to successfully manage and utilize your new technology to its full potential. Consulting services give expert guidance to help you grow, optimize and transform your IT environment at your own pace and budget. We employ a broad range of certified consultants and engineers, backed by program management teams, who can deliver deep technical expertise. We give you the confidence that your project will be done right and on time. Acquiring the latest IT solutions shouldn’t be as complicated as running your business. With Dell Financial Services you can finance and purchase in the same place . It’s quick, it’s easy and most important, it lets you keep the “flow” in your cash flow. {{Model.SummaryText}} {{shippingModel.EstimatedDeliveryModel.InvalidPostalCodeErrorMessage}} {{shippingModel.EstimatedDeliveryModel.ErrorMessage}} Add the products you would like to compare, and quickly determine which is best for your needs. Add the products you would like to compare, and quickly determine which is best for your needs.: Ultrabook, Celeron, Celeron Inside, Core Inside, Intel, Intel Logo, Intel Atom, Intel Atom Inside, Intel Core, Intel Inside, Intel Inside Logo, Intel vPro, Itanium, Itanium Inside, Pentium, Pentium Inside, vPro Inside, Xeon, Xeon Phi, Xeon Inside, and Intel Optane are trademarks of Intel Corporation or its subsidiaries in the U.S. and/or other countries. : While all efforts are made to check pricing and other errors, inadvertent errors do occur from time to time and Dell reserves the right to decline orders arising from such errors. Includes delivery charges & excludes 18% GST ^ The device you buy comes with Windows 8.1 installed. Some Windows 10 features unavailable. See for the Windows 10 features available. Screens simulated, subject to change. Windows Store apps sold separately. App availability and experience may vary by market.  \n",
            "Total Length: 6964\n",
            "\n",
            "\n",
            "Summarized Document\n",
            "\n",
            "Education Services offers an expansive suite of training services with multiple delivery methods, including instructor-led, self-paced online and virtual instructor-led training. OpenManage Deployment Toolkit (DTK) and PxE-based OS deployment to automate bare-metal server configuration and deployment of various Microsoft operating systems on PowerEdge servers across your network. We have expert servicesfor all lifecycle phases that save you time and resources, reduce effort, and improve your IT experience. We employ a broad range of certified consultants and engineers, backed by program management teams, who can deliver deep technical expertise. Choose the right support based on the criticality of specific systems with available automated predictive analysis, collaborative third-party assistance and service account management. , it’s easy and most important, it lets you keep the “flow” in your cash flow. For additional documentation and videos describing OpenManage Integration for Microsoft System Center (OMIMSSC) for SCCM/SCVMM, please visit:  Optimizing the IT lifecycle is vital.\n",
            "Total Length: 1098\n"
          ],
          "name": "stdout"
        }
      ]
    }
  ]
}