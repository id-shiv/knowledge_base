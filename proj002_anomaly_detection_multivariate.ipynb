{
  "nbformat": 4,
  "nbformat_minor": 0,
  "metadata": {
    "colab": {
      "name": "proj002_anomaly_detection_multivariate.ipynb",
      "provenance": [],
      "collapsed_sections": [],
      "authorship_tag": "ABX9TyOPNPuhulqK8RxO3guZo3Me",
      "include_colab_link": true
    },
    "kernelspec": {
      "name": "python3",
      "display_name": "Python 3"
    }
  },
  "cells": [
    {
      "cell_type": "markdown",
      "metadata": {
        "id": "view-in-github",
        "colab_type": "text"
      },
      "source": [
        "<a href=\"https://colab.research.google.com/github/id-shiv/project_notebooks/blob/master/proj002_anomaly_detection_multivariate.ipynb\" target=\"_parent\"><img src=\"https://colab.research.google.com/assets/colab-badge.svg\" alt=\"Open In Colab\"/></a>"
      ]
    },
    {
      "cell_type": "markdown",
      "metadata": {
        "id": "5pHMmqjZpGRO",
        "colab_type": "text"
      },
      "source": [
        "# Anomaly Detection\n",
        "Anomaly or an outlier is data point in a dataset that is distant from other data points"
      ]
    },
    {
      "cell_type": "code",
      "metadata": {
        "id": "64wUNX9bpiAU",
        "colab_type": "code",
        "colab": {}
      },
      "source": [
        "# Import libraries\n",
        "import pandas as pd\n",
        "from sklearn.svm import OneClassSVM\n",
        "import matplotlib.pyplot as plt\n",
        "import seaborn as sb\n",
        "# generate the charts in notebook\n",
        "%matplotlib inline"
      ],
      "execution_count": 0,
      "outputs": []
    },
    {
      "cell_type": "code",
      "metadata": {
        "id": "F3dspzB2n1V5",
        "colab_type": "code",
        "outputId": "1ce7c5a1-1afc-4344-bfba-774f77a36959",
        "colab": {
          "base_uri": "https://localhost:8080/",
          "height": 204
        }
      },
      "source": [
        "data_set_path = 'https://docs.google.com/spreadsheets/d/e/2PACX-1vR4xPlauQieuG_9EOmOwT15kcXB6kDQpCjx4__hF4K5lPMFrVEbxEx-ruB_Q-aT9e6S1nd8-DNitVFx/pub?output=csv'\n",
        "data = pd.read_csv(data_set_path)\n",
        "print(data)"
      ],
      "execution_count": 44,
      "outputs": [
        {
          "output_type": "stream",
          "text": [
            "    person  age  height  weight\n",
            "0  personA   22     4.8      48\n",
            "1  personB   24     5.8      58\n",
            "2  personC   26     5.2      59\n",
            "3  personD   28     6.1      72\n",
            "4  personE   29     8.4     102\n",
            "5  personF   30     5.9      81\n",
            "6  personG   31     5.8      79\n",
            "7  personH   32     5.4      71\n",
            "8  personI   31     5.7      84\n",
            "9  personJ   33     5.1      68\n"
          ],
          "name": "stdout"
        }
      ]
    },
    {
      "cell_type": "code",
      "metadata": {
        "id": "pEHf1NTq3_LQ",
        "colab_type": "code",
        "colab": {
          "base_uri": "https://localhost:8080/",
          "height": 391
        },
        "outputId": "9cd3bd25-db08-4c99-eca5-f2c85d0eddbf"
      },
      "source": [
        "# Seperate out the label\n",
        "persons = data['person']\n",
        "data_samples = data.loc[:, 'height': 'weight']\n",
        "print(persons)\n",
        "print(data_samples)"
      ],
      "execution_count": 52,
      "outputs": [
        {
          "output_type": "stream",
          "text": [
            "0    personA\n",
            "1    personB\n",
            "2    personC\n",
            "3    personD\n",
            "4    personE\n",
            "5    personF\n",
            "6    personG\n",
            "7    personH\n",
            "8    personI\n",
            "9    personJ\n",
            "Name: person, dtype: object\n",
            "   height  weight\n",
            "0     4.8      48\n",
            "1     5.8      58\n",
            "2     5.2      59\n",
            "3     6.1      72\n",
            "4     8.4     102\n",
            "5     5.9      81\n",
            "6     5.8      79\n",
            "7     5.4      71\n",
            "8     5.7      84\n",
            "9     5.1      68\n"
          ],
          "name": "stdout"
        }
      ]
    },
    {
      "cell_type": "code",
      "metadata": {
        "id": "Bmc8EyBiNT-6",
        "colab_type": "code",
        "colab": {
          "base_uri": "https://localhost:8080/",
          "height": 265
        },
        "outputId": "da07ee57-8353-4ab1-fbf0-3c31aa70fca7"
      },
      "source": [
        "# histogram plot\n",
        "plt.hist(data_samples)\n",
        "plt.show()"
      ],
      "execution_count": 53,
      "outputs": [
        {
          "output_type": "display_data",
          "data": {
            "image/png": "[encoded data removed]",
            "text/plain": [
              "<Figure size 432x288 with 1 Axes>"
            ]
          },
          "metadata": {
            "tags": []
          }
        }
      ]
    },
    {
      "cell_type": "code",
      "metadata": {
        "id": "-FZ0ndD0O8s1",
        "colab_type": "code",
        "colab": {
          "base_uri": "https://localhost:8080/",
          "height": 296
        },
        "outputId": "a6a5964e-6d60-4c56-f03f-f0f02e47a454"
      },
      "source": [
        "# box plot\n",
        "sb.boxplot(x='height', y='weight', data=data_samples, palette='hls')"
      ],
      "execution_count": 60,
      "outputs": [
        {
          "output_type": "execute_result",
          "data": {
            "text/plain": [
              "<matplotlib.axes._subplots.AxesSubplot at 0x7f5899236860>"
            ]
          },
          "metadata": {
            "tags": []
          },
          "execution_count": 60
        },
        {
          "output_type": "display_data",
          "data": {
            "image/png": "[encoded data removed]",
            "text/plain": [
              "<Figure size 432x288 with 1 Axes>"
            ]
          },
          "metadata": {
            "tags": []
          }
        }
      ]
    },
    {
      "cell_type": "code",
      "metadata": {
        "id": "aRZfL8-NP1Rr",
        "colab_type": "code",
        "colab": {
          "base_uri": "https://localhost:8080/",
          "height": 450
        },
        "outputId": "0f087efa-487d-4649-c44c-508c01fb7d98"
      },
      "source": [
        "# Pair plot\n",
        "sb.pairplot(data_samples, hue='weight', palette='hls')"
      ],
      "execution_count": 62,
      "outputs": [
        {
          "output_type": "stream",
          "text": [
            "/usr/local/lib/python3.6/dist-packages/numpy/core/_methods.py:217: RuntimeWarning: Degrees of freedom <= 0 for slice\n",
            "  keepdims=keepdims)\n",
            "/usr/local/lib/python3.6/dist-packages/numpy/core/_methods.py:209: RuntimeWarning: invalid value encountered in double_scalars\n",
            "  ret = ret.dtype.type(ret / rcount)\n"
          ],
          "name": "stderr"
        },
        {
          "output_type": "execute_result",
          "data": {
            "text/plain": [
              "<seaborn.axisgrid.PairGrid at 0x7f589437c6d8>"
            ]
          },
          "metadata": {
            "tags": []
          },
          "execution_count": 62
        },
        {
          "output_type": "display_data",
          "data": {
            "image/png": "[encoded data removed]",
            "text/plain": [
              "<Figure size 415x360 with 6 Axes>"
            ]
          },
          "metadata": {
            "tags": []
          }
        }
      ]
    },
    {
      "cell_type": "markdown",
      "metadata": {
        "id": "9Y2DEyrZ69ng",
        "colab_type": "text"
      },
      "source": [
        "Detect Multivariate outliers using one-class Support Vector Machines"
      ]
    },
    {
      "cell_type": "code",
      "metadata": {
        "id": "ELQLQU9v5nqx",
        "colab_type": "code",
        "colab": {
          "base_uri": "https://localhost:8080/",
          "height": 68
        },
        "outputId": "6bc510f1-fdff-4ab5-aab8-39d8ce428d4c"
      },
      "source": [
        "model = OneClassSVM(kernel='linear', nu=0.95)\n",
        "model.fit(data_samples)\n",
        "print(model.predict(data_samples))\n",
        "print(data_samples[model.predict(data_samples) == 1])"
      ],
      "execution_count": 68,
      "outputs": [
        {
          "output_type": "stream",
          "text": [
            "[-1 -1 -1 -1  1 -1 -1 -1 -1 -1]\n",
            "   height  weight\n",
            "4     8.4     102\n"
          ],
          "name": "stdout"
        }
      ]
    }
  ]
}