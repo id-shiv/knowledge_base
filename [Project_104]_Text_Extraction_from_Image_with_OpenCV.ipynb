{
  "nbformat": 4,
  "nbformat_minor": 0,
  "metadata": {
    "colab": {
      "name": "[Project 104] Text Extraction from Image with OpenCV.ipynb",
      "provenance": [],
      "collapsed_sections": [],
      "mount_file_id": "1vYaBYp1ho1k3BpX9YydN2nXOWYY_hYkI",
      "authorship_tag": "ABX9TyPaWwh8p4o+sP3304AU8YH1",
      "include_colab_link": true
    },
    "kernelspec": {
      "name": "python3",
      "display_name": "Python 3"
    }
  },
  "cells": [
    {
      "cell_type": "markdown",
      "metadata": {
        "id": "view-in-github",
        "colab_type": "text"
      },
      "source": [
        "<a href=\"https://colab.research.google.com/github/id-shiv/knowledge_base/blob/master/%5BProject_104%5D_Text_Extraction_from_Image_with_OpenCV.ipynb\" target=\"_parent\"><img src=\"https://colab.research.google.com/assets/colab-badge.svg\" alt=\"Open In Colab\"/></a>"
      ]
    },
    {
      "cell_type": "code",
      "metadata": {
        "id": "qtn9IyERvlWH",
        "colab_type": "code",
        "colab": {
          "base_uri": "https://localhost:8080/",
          "height": 165
        },
        "outputId": "263e5a7d-1ae6-45e3-94f3-6dce0d66b388"
      },
      "source": [
        "# !sudo apt install tesseract-ocr\n",
        "# !pip install pytesseract"
      ],
      "execution_count": 71,
      "outputs": [
        {
          "output_type": "stream",
          "text": [
            "Reading package lists... Done\n",
            "Building dependency tree       \n",
            "Reading state information... Done\n",
            "tesseract-ocr is already the newest version (4.00~git2288-10f4998a-2).\n",
            "0 upgraded, 0 newly installed, 0 to remove and 25 not upgraded.\n",
            "Requirement already satisfied: pytesseract in /usr/local/lib/python3.6/dist-packages (0.3.2)\n",
            "Requirement already satisfied: Pillow in /usr/local/lib/python3.6/dist-packages (from pytesseract) (6.2.2)\n"
          ],
          "name": "stdout"
        }
      ]
    },
    {
      "cell_type": "code",
      "metadata": {
        "id": "VmL7dXlcvcss",
        "colab_type": "code",
        "colab": {}
      },
      "source": [
        "import cv2\n",
        "import numpy as np\n",
        "import pytesseract\n",
        "try:\n",
        " from PIL import Image\n",
        "except ImportError:\n",
        " import Image"
      ],
      "execution_count": 0,
      "outputs": []
    },
    {
      "cell_type": "code",
      "metadata": {
        "id": "2cCaLZ-BvvpL",
        "colab_type": "code",
        "colab": {}
      },
      "source": [
        "image_path = '/content/drive/My Drive/050 Technology/Images/Iris.png'"
      ],
      "execution_count": 0,
      "outputs": []
    },
    {
      "cell_type": "code",
      "metadata": {
        "id": "W-MFzRuTv87U",
        "colab_type": "code",
        "colab": {}
      },
      "source": [
        "# Read image with opencv\n",
        "img = cv2.imread(image_path)"
      ],
      "execution_count": 0,
      "outputs": []
    },
    {
      "cell_type": "code",
      "metadata": {
        "id": "Mp7rW9zcwBSG",
        "colab_type": "code",
        "colab": {}
      },
      "source": [
        "# Convert to gray\n",
        "img = cv2.cvtColor(img, cv2.COLOR_BGR2GRAY)"
      ],
      "execution_count": 0,
      "outputs": []
    },
    {
      "cell_type": "code",
      "metadata": {
        "id": "iRpPpW3-xoh-",
        "colab_type": "code",
        "colab": {}
      },
      "source": [
        "# Apply dilation and erosion to remove some noise\n",
        "kernel = np.ones((1, 1), np.uint8)\n",
        "img = cv2.dilate(img, kernel, iterations=1)\n",
        "img = cv2.erode(img, kernel, iterations=1)"
      ],
      "execution_count": 0,
      "outputs": []
    },
    {
      "cell_type": "code",
      "metadata": {
        "id": "L9ZbyMxVxtYV",
        "colab_type": "code",
        "colab": {
          "base_uri": "https://localhost:8080/",
          "height": 34
        },
        "outputId": "ade16951-a087-4f2d-ba34-f0a085e4bef4"
      },
      "source": [
        "# Write image after removed noise\n",
        "cv2.imwrite(\"pre_processed.png\", img)"
      ],
      "execution_count": 77,
      "outputs": [
        {
          "output_type": "execute_result",
          "data": {
            "text/plain": [
              "True"
            ]
          },
          "metadata": {
            "tags": []
          },
          "execution_count": 77
        }
      ]
    },
    {
      "cell_type": "code",
      "metadata": {
        "id": "gMRuh_CCx5Pt",
        "colab_type": "code",
        "colab": {
          "base_uri": "https://localhost:8080/",
          "height": 34
        },
        "outputId": "c21f2698-4efa-429a-d879-f6b2a16c9424"
      },
      "source": [
        "# Recognize text with tesseract for python\n",
        "result = pytesseract.image_to_string(Image.open(\"pre_processed.png\"))\n",
        "result"
      ],
      "execution_count": 78,
      "outputs": [
        {
          "output_type": "execute_result",
          "data": {
            "text/plain": [
              "'Iris Versicolor Iris Setosa Iris Virginica'"
            ]
          },
          "metadata": {
            "tags": []
          },
          "execution_count": 78
        }
      ]
    },
    {
      "cell_type": "markdown",
      "metadata": {
        "id": "O1aIA4PxzisT",
        "colab_type": "text"
      },
      "source": [
        "# Code"
      ]
    },
    {
      "cell_type": "code",
      "metadata": {
        "id": "kH97UCsMvOXx",
        "colab_type": "code",
        "colab": {}
      },
      "source": [
        "import cv2\n",
        "import numpy as np\n",
        "import pytesseract\n",
        "try:\n",
        " from PIL import Image\n",
        "except ImportError:\n",
        " import Image\n",
        "\n",
        "def get_string(image_path):\n",
        "  # Read image with opencv\n",
        "  img = cv2.imread(image_path)\n",
        "\n",
        "  # Convert to gray\n",
        "  img = cv2.cvtColor(img, cv2.COLOR_BGR2GRAY)\n",
        "\n",
        "  # Apply dilation and erosion to remove some noise\n",
        "  kernel = np.ones((1, 1), np.uint8)\n",
        "  img = cv2.dilate(img, kernel, iterations=1)\n",
        "  img = cv2.erode(img, kernel, iterations=1)\n",
        "\n",
        "  # Write image after removed noise\n",
        "  cv2.imwrite(\"pre-processed.png\", img)\n",
        "\n",
        "  # Write the image after apply opencv to do some ...\n",
        "  cv2.imwrite(\"pre-processed.png\", img)\n",
        "\n",
        "  # Recognize text with tesseract for python\n",
        "  result = pytesseract.image_to_string(Image.open(\"pre-processed.png\"))\n",
        "\n",
        "  return result"
      ],
      "execution_count": 0,
      "outputs": []
    },
    {
      "cell_type": "code",
      "metadata": {
        "id": "-ZxPEpyjzxU8",
        "colab_type": "code",
        "colab": {
          "base_uri": "https://localhost:8080/",
          "height": 34
        },
        "outputId": "8d6d377e-7d99-43ab-8ce3-43ef008a69c8"
      },
      "source": [
        "image_path = '/content/drive/My Drive/050 Technology/Images/Iris.png'\n",
        "print(get_string(image_path))"
      ],
      "execution_count": 80,
      "outputs": [
        {
          "output_type": "stream",
          "text": [
            "Iris Versicolor Iris Setosa Iris Virginica\n"
          ],
          "name": "stdout"
        }
      ]
    }
  ]
}